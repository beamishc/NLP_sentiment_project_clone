{
 "cells": [
  {
   "cell_type": "code",
   "execution_count": 1,
   "id": "7a75276e",
   "metadata": {},
   "outputs": [],
   "source": [
    "import pandas as pd"
   ]
  },
  {
   "cell_type": "code",
   "execution_count": 8,
   "id": "bb98c445",
   "metadata": {},
   "outputs": [],
   "source": [
    "short = pd.read_csv('Muslim.csv')"
   ]
  },
  {
   "cell_type": "code",
   "execution_count": 11,
   "id": "11a44298",
   "metadata": {},
   "outputs": [],
   "source": [
    "short = short.head(1000)"
   ]
  },
  {
   "cell_type": "code",
   "execution_count": 12,
   "id": "2de28277",
   "metadata": {},
   "outputs": [],
   "source": [
    "short.to_csv('Short.csv')"
   ]
  },
  {
   "cell_type": "code",
   "execution_count": 13,
   "id": "44627180",
   "metadata": {},
   "outputs": [
    {
     "name": "stdout",
     "output_type": "stream",
     "text": [
      "/Users/jennatan/code/jennajt/NLP_sentiment/NLP_sentiment\r\n"
     ]
    }
   ],
   "source": [
    "!pwd"
   ]
  },
  {
   "cell_type": "code",
   "execution_count": null,
   "id": "fe1997b8",
   "metadata": {},
   "outputs": [],
   "source": []
  }
 ],
 "metadata": {
  "kernelspec": {
   "display_name": "Python 3 (ipykernel)",
   "language": "python",
   "name": "python3"
  },
  "language_info": {
   "codemirror_mode": {
    "name": "ipython",
    "version": 3
   },
   "file_extension": ".py",
   "mimetype": "text/x-python",
   "name": "python",
   "nbconvert_exporter": "python",
   "pygments_lexer": "ipython3",
   "version": "3.8.12"
  },
  "toc": {
   "base_numbering": 1,
   "nav_menu": {},
   "number_sections": true,
   "sideBar": true,
   "skip_h1_title": false,
   "title_cell": "Table of Contents",
   "title_sidebar": "Contents",
   "toc_cell": false,
   "toc_position": {},
   "toc_section_display": true,
   "toc_window_display": false
  }
 },
 "nbformat": 4,
 "nbformat_minor": 5
}
