{
 "cells": [
  {
   "cell_type": "markdown",
   "id": "ef393a8b",
   "metadata": {},
   "source": [
    "## Muslim tweets"
   ]
  },
  {
   "cell_type": "code",
   "execution_count": 6,
   "id": "360aa69a",
   "metadata": {},
   "outputs": [
    {
     "name": "stdout",
     "output_type": "stream",
     "text": [
      "!\"#$%&'()*+,-./:;<=>?@[\\]^_`{|}~\n"
     ]
    },
    {
     "name": "stderr",
     "output_type": "stream",
     "text": [
      "[nltk_data] Downloading package stopwords to\n",
      "[nltk_data]     /Users/jennatan/nltk_data...\n",
      "[nltk_data]   Package stopwords is already up-to-date!\n"
     ]
    }
   ],
   "source": [
    "import snscrape.modules.twitter as sntwitter\n",
    "import pandas as pd\n",
    "import seaborn as sns\n",
    "import matplotlib.pyplot as plt\n",
    "import nltk\n",
    "nltk.download('stopwords')\n",
    "from nltk.corpus import stopwords\n",
    "from nltk.tokenize import word_tokenize\n",
    "from bs4 import BeautifulSoup\n",
    "import string\n",
    "string.punctuation \n",
    "print (string.punctuation) \n",
    "stop_words = stopwords.words('english')\n",
    "# -*- coding: utf-8 -*-\n",
    "punctuation = [ c for c in string.punctuation ] + [u'\\u201c',u'\\u201d',u'\\u2018',u'\\u2019']\n",
    "import matplotlib.pyplot as plt\n",
    "import re"
   ]
  },
  {
   "cell_type": "code",
   "execution_count": 7,
   "id": "afd95d87",
   "metadata": {},
   "outputs": [],
   "source": [
    "# create list to append tweet data to\n",
    "tweets_list = []"
   ]
  },
  {
   "cell_type": "code",
   "execution_count": 8,
   "id": "ad089096",
   "metadata": {},
   "outputs": [],
   "source": [
    "# params\n",
    "keywords = 'muslim OR muslims OR hijab OR hijabi OR terrorism OR terrorist OR terrorists OR mosque OR mosques OR quran OR qoran OR islam OR islamic OR jihad OR jihadi OR eid OR ramadan OR iman'"
   ]
  },
  {
   "cell_type": "code",
   "execution_count": 9,
   "id": "aba913fc",
   "metadata": {
    "scrolled": true
   },
   "outputs": [
    {
     "name": "stdout",
     "output_type": "stream",
     "text": [
      "CPU times: user 82.3 ms, sys: 12.4 ms, total: 94.7 ms\n",
      "Wall time: 1.56 s\n"
     ]
    },
    {
     "data": {
      "text/plain": [
       "[[datetime.datetime(2022, 6, 9, 18, 56, tzinfo=datetime.timezone.utc),\n",
       "  1534972597259194368,\n",
       "  \"Fury at plans to turn Iconic 'Peaky Blinders' pub into mosque https://t.co/ppObchIItv https://t.co/3Hq47rDX1j\",\n",
       "  'Daily_Express',\n",
       "  2],\n",
       " [datetime.datetime(2022, 6, 9, 16, 50, tzinfo=datetime.timezone.utc),\n",
       "  1534940888299802632,\n",
       "  \"Fury at plans to turn Iconic 'Peaky Blinders' pub into mosque https://t.co/ppObchr74V https://t.co/99ETheAl1t\",\n",
       "  'Daily_Express',\n",
       "  1],\n",
       " [datetime.datetime(2022, 6, 9, 14, 44, 41, tzinfo=datetime.timezone.utc),\n",
       "  1534909353614000130,\n",
       "  \"Fury at plans to turn Iconic 'Peaky Blinders' pub into mosque https://t.co/ppObchIItv https://t.co/IMZt1RqYIs\",\n",
       "  'Daily_Express',\n",
       "  4],\n",
       " [datetime.datetime(2022, 6, 9, 13, 30, 4, tzinfo=datetime.timezone.utc),\n",
       "  1534890576197320709,\n",
       "  'The Lady Of Heaven producer blasts Muslim protesters https://t.co/nXD5ZfBLRB',\n",
       "  'DailyMailUK',\n",
       "  9],\n",
       " [datetime.datetime(2022, 6, 9, 8, 40, 6, tzinfo=datetime.timezone.utc),\n",
       "  1534817602601734144,\n",
       "  'The Lady Of Heaven producer blasts Muslim protesters https://t.co/tCNyYY61NM',\n",
       "  'DailyMailUK',\n",
       "  80],\n",
       " [datetime.datetime(2022, 6, 9, 3, 0, 2, tzinfo=datetime.timezone.utc),\n",
       "  1534732022752727041,\n",
       "  \"Sajid Javid warns cancelled screenings of 'blasphemous' Islamic film is 'a dangerous road to go down' https://t.co/Bs39la2A2P\",\n",
       "  'DailyMailUK',\n",
       "  23],\n",
       " [datetime.datetime(2022, 6, 8, 21, 3, 6, tzinfo=datetime.timezone.utc),\n",
       "  1534642195558543360,\n",
       "  \"Sajid Javid warns cancelled screenings of 'blasphemous' Islamic film is 'a dangerous road to go down' https://t.co/kDtCfBDDKu\",\n",
       "  'DailyMailUK',\n",
       "  47],\n",
       " [datetime.datetime(2022, 6, 8, 20, 40, 12, tzinfo=datetime.timezone.utc),\n",
       "  1534636435285884928,\n",
       "  \"Fury over plans to turn historic 'Peaky Blinders-style' pub into a mosque https://t.co/HvDGClSpDd\",\n",
       "  'DailyMailUK',\n",
       "  8],\n",
       " [datetime.datetime(2022, 6, 8, 18, 31, 3, tzinfo=datetime.timezone.utc),\n",
       "  1534603929564205056,\n",
       "  \"Fury over plans to turn historic 'Peaky Blinders-style' pub into a mosque https://t.co/r8pkcHUHrF\",\n",
       "  'DailyMailUK',\n",
       "  1],\n",
       " [datetime.datetime(2022, 6, 8, 17, 59, 2, tzinfo=datetime.timezone.utc),\n",
       "  1534595872310321154,\n",
       "  \"Sajid Javid warns cancelled screenings of 'blasphemous' Islamic film is 'a dangerous road to go down' https://t.co/luxt9Fv723\",\n",
       "  'DailyMailUK',\n",
       "  93],\n",
       " [datetime.datetime(2022, 6, 8, 17, 35, 5, tzinfo=datetime.timezone.utc),\n",
       "  1534589847591174147,\n",
       "  \"Sajid Javid warns cancelled screenings of 'blasphemous' Islamic film is 'a dangerous road to go down' https://t.co/ZC1M0dVymG\",\n",
       "  'MailOnline',\n",
       "  728],\n",
       " [datetime.datetime(2022, 6, 8, 17, 19, 7, tzinfo=datetime.timezone.utc),\n",
       "  1534585826906148868,\n",
       "  \"#MsMarvel Rish Shah pays sweet tribute to lead actress Iman Vellani \\n'Utter delight'\\n\\nhttps://t.co/Y52adMbRnG\",\n",
       "  'Daily_Express',\n",
       "  1],\n",
       " [datetime.datetime(2022, 6, 8, 15, 1, 45, tzinfo=datetime.timezone.utc),\n",
       "  1534551259243487232,\n",
       "  'Doctor who asked Muslim woman to remove veil found guilty of misconduct\\n\\nhttps://t.co/dRMbdk1YJN',\n",
       "  'Daily_Express',\n",
       "  3],\n",
       " [datetime.datetime(2022, 6, 8, 13, 50, 8, tzinfo=datetime.timezone.utc),\n",
       "  1534533236814135301,\n",
       "  \"Defiant Vue refuses to stop screenings for 'blasphemous' Islamic history film The Lady Of Heaven https://t.co/eaZ6wxTOQ0\",\n",
       "  'DailyMailUK',\n",
       "  58],\n",
       " [datetime.datetime(2022, 6, 8, 12, 25, 5, tzinfo=datetime.timezone.utc),\n",
       "  1534511830936215552,\n",
       "  \"Showcase becomes latest chain to pull 'blasphemous' Islamic history film from cinemas https://t.co/tnc4BmA9JI\",\n",
       "  'MailOnline',\n",
       "  4],\n",
       " [datetime.datetime(2022, 6, 8, 9, 0, 5, tzinfo=datetime.timezone.utc),\n",
       "  1534460245094825985,\n",
       "  \"Cinema-goers hit out at 'ridiculous' protesters demanding Islamic history film is banned https://t.co/hAMTAW1Wpa\",\n",
       "  'DailyMailUK',\n",
       "  8],\n",
       " [datetime.datetime(2022, 6, 8, 7, 12, 32, tzinfo=datetime.timezone.utc),\n",
       "  1534433178097799169,\n",
       "  \"Cinema-goers hit out at 'ridiculous' protesters demanding 'blasphemous' Islamic history film The Lady Of Heaven is banned \\nhttps://t.co/I1L8e2tMOp\",\n",
       "  'DailyMailUK',\n",
       "  20],\n",
       " [datetime.datetime(2022, 6, 7, 18, 5, 7, tzinfo=datetime.timezone.utc),\n",
       "  1534235018624647170,\n",
       "  \"Kansas 'ISIS mom' faces 20 years in prison after pleading guilty to terrorism charges https://t.co/txydMmNGIl\",\n",
       "  'MailOnline',\n",
       "  24],\n",
       " [datetime.datetime(2022, 6, 7, 12, 20, 10, tzinfo=datetime.timezone.utc),\n",
       "  1534148208234049539,\n",
       "  \"Pakistani Muslim primary school worker loses religious discrimination lawsuit she brought after boss called her a 'guinea pig' https://t.co/JuySRzAqcF\",\n",
       "  'MailOnline',\n",
       "  18],\n",
       " [datetime.datetime(2022, 6, 5, 19, 8, 54, tzinfo=datetime.timezone.utc),\n",
       "  1533526293937065984,\n",
       "  \"11 of UK's most dangerous terrorists will be freed this year\\nhttps://t.co/uqBHUmEyrT\",\n",
       "  'TheSun',\n",
       "  10],\n",
       " [datetime.datetime(2022, 6, 5, 13, 45, 51, tzinfo=datetime.timezone.utc),\n",
       "  1533444994371051520,\n",
       "  \"11 of UK's most dangerous terrorists will be freed this year\\nhttps://t.co/a5m9gFilTM\",\n",
       "  'TheSun',\n",
       "  13]]"
      ]
     },
     "execution_count": 9,
     "metadata": {},
     "output_type": "execute_result"
    }
   ],
   "source": [
    "%%time\n",
    "\n",
    "# Using TwitterSearchScraper to scrape data and append tweets to list\n",
    "for i,tweet in enumerate(sntwitter.TwitterSearchScraper(f'{keywords} from:TheSun OR from:DailyMailUK OR from:MailOnline OR from:Daily_Express').get_items()):\n",
    "    if i>20:\n",
    "        break\n",
    "    tweets_list.append([tweet.date, tweet.id, tweet.content, tweet.user.username, tweet.likeCount])\n",
    "tweets_list"
   ]
  },
  {
   "cell_type": "code",
   "execution_count": 10,
   "id": "c2744b83",
   "metadata": {},
   "outputs": [
    {
     "data": {
      "text/plain": [
       "21"
      ]
     },
     "execution_count": 10,
     "metadata": {},
     "output_type": "execute_result"
    }
   ],
   "source": [
    "len(tweets_list)"
   ]
  },
  {
   "cell_type": "code",
   "execution_count": 11,
   "id": "38cdb4c2",
   "metadata": {},
   "outputs": [
    {
     "data": {
      "text/html": [
       "<div>\n",
       "<style scoped>\n",
       "    .dataframe tbody tr th:only-of-type {\n",
       "        vertical-align: middle;\n",
       "    }\n",
       "\n",
       "    .dataframe tbody tr th {\n",
       "        vertical-align: top;\n",
       "    }\n",
       "\n",
       "    .dataframe thead th {\n",
       "        text-align: right;\n",
       "    }\n",
       "</style>\n",
       "<table border=\"1\" class=\"dataframe\">\n",
       "  <thead>\n",
       "    <tr style=\"text-align: right;\">\n",
       "      <th></th>\n",
       "      <th>Datetime</th>\n",
       "      <th>Tweet Id</th>\n",
       "      <th>Text</th>\n",
       "      <th>Username</th>\n",
       "      <th>Like Count</th>\n",
       "    </tr>\n",
       "  </thead>\n",
       "  <tbody>\n",
       "    <tr>\n",
       "      <th>0</th>\n",
       "      <td>2022-06-09 18:56:00+00:00</td>\n",
       "      <td>1534972597259194368</td>\n",
       "      <td>Fury at plans to turn Iconic 'Peaky Blinders' ...</td>\n",
       "      <td>Daily_Express</td>\n",
       "      <td>2</td>\n",
       "    </tr>\n",
       "    <tr>\n",
       "      <th>1</th>\n",
       "      <td>2022-06-09 16:50:00+00:00</td>\n",
       "      <td>1534940888299802632</td>\n",
       "      <td>Fury at plans to turn Iconic 'Peaky Blinders' ...</td>\n",
       "      <td>Daily_Express</td>\n",
       "      <td>1</td>\n",
       "    </tr>\n",
       "    <tr>\n",
       "      <th>2</th>\n",
       "      <td>2022-06-09 14:44:41+00:00</td>\n",
       "      <td>1534909353614000130</td>\n",
       "      <td>Fury at plans to turn Iconic 'Peaky Blinders' ...</td>\n",
       "      <td>Daily_Express</td>\n",
       "      <td>4</td>\n",
       "    </tr>\n",
       "    <tr>\n",
       "      <th>3</th>\n",
       "      <td>2022-06-09 13:30:04+00:00</td>\n",
       "      <td>1534890576197320709</td>\n",
       "      <td>The Lady Of Heaven producer blasts Muslim prot...</td>\n",
       "      <td>DailyMailUK</td>\n",
       "      <td>9</td>\n",
       "    </tr>\n",
       "    <tr>\n",
       "      <th>4</th>\n",
       "      <td>2022-06-09 08:40:06+00:00</td>\n",
       "      <td>1534817602601734144</td>\n",
       "      <td>The Lady Of Heaven producer blasts Muslim prot...</td>\n",
       "      <td>DailyMailUK</td>\n",
       "      <td>80</td>\n",
       "    </tr>\n",
       "  </tbody>\n",
       "</table>\n",
       "</div>"
      ],
      "text/plain": [
       "                   Datetime             Tweet Id  \\\n",
       "0 2022-06-09 18:56:00+00:00  1534972597259194368   \n",
       "1 2022-06-09 16:50:00+00:00  1534940888299802632   \n",
       "2 2022-06-09 14:44:41+00:00  1534909353614000130   \n",
       "3 2022-06-09 13:30:04+00:00  1534890576197320709   \n",
       "4 2022-06-09 08:40:06+00:00  1534817602601734144   \n",
       "\n",
       "                                                Text       Username  \\\n",
       "0  Fury at plans to turn Iconic 'Peaky Blinders' ...  Daily_Express   \n",
       "1  Fury at plans to turn Iconic 'Peaky Blinders' ...  Daily_Express   \n",
       "2  Fury at plans to turn Iconic 'Peaky Blinders' ...  Daily_Express   \n",
       "3  The Lady Of Heaven producer blasts Muslim prot...    DailyMailUK   \n",
       "4  The Lady Of Heaven producer blasts Muslim prot...    DailyMailUK   \n",
       "\n",
       "   Like Count  \n",
       "0           2  \n",
       "1           1  \n",
       "2           4  \n",
       "3           9  \n",
       "4          80  "
      ]
     },
     "execution_count": 11,
     "metadata": {},
     "output_type": "execute_result"
    }
   ],
   "source": [
    "# Creating a dataframe from the tweets list above\n",
    "tweets_df = pd.DataFrame(tweets_list, columns=['Datetime', 'Tweet Id', 'Text', 'Username','Like Count'])\n",
    "tweets_df.head(5)"
   ]
  },
  {
   "cell_type": "code",
   "execution_count": 12,
   "id": "b7589a28",
   "metadata": {},
   "outputs": [
    {
     "data": {
      "text/html": [
       "<div>\n",
       "<style scoped>\n",
       "    .dataframe tbody tr th:only-of-type {\n",
       "        vertical-align: middle;\n",
       "    }\n",
       "\n",
       "    .dataframe tbody tr th {\n",
       "        vertical-align: top;\n",
       "    }\n",
       "\n",
       "    .dataframe thead th {\n",
       "        text-align: right;\n",
       "    }\n",
       "</style>\n",
       "<table border=\"1\" class=\"dataframe\">\n",
       "  <thead>\n",
       "    <tr style=\"text-align: right;\">\n",
       "      <th></th>\n",
       "      <th>Datetime</th>\n",
       "      <th>Tweet Id</th>\n",
       "      <th>Text</th>\n",
       "      <th>Username</th>\n",
       "      <th>Like Count</th>\n",
       "    </tr>\n",
       "  </thead>\n",
       "  <tbody>\n",
       "    <tr>\n",
       "      <th>11</th>\n",
       "      <td>2022-06-08 17:19:07+00:00</td>\n",
       "      <td>1534585826906148868</td>\n",
       "      <td>#MsMarvel Rish Shah pays sweet tribute to lead...</td>\n",
       "      <td>Daily_Express</td>\n",
       "      <td>1</td>\n",
       "    </tr>\n",
       "    <tr>\n",
       "      <th>12</th>\n",
       "      <td>2022-06-08 15:01:45+00:00</td>\n",
       "      <td>1534551259243487232</td>\n",
       "      <td>Doctor who asked Muslim woman to remove veil f...</td>\n",
       "      <td>Daily_Express</td>\n",
       "      <td>3</td>\n",
       "    </tr>\n",
       "    <tr>\n",
       "      <th>13</th>\n",
       "      <td>2022-06-08 13:50:08+00:00</td>\n",
       "      <td>1534533236814135301</td>\n",
       "      <td>Defiant Vue refuses to stop screenings for 'bl...</td>\n",
       "      <td>DailyMailUK</td>\n",
       "      <td>58</td>\n",
       "    </tr>\n",
       "    <tr>\n",
       "      <th>14</th>\n",
       "      <td>2022-06-08 12:25:05+00:00</td>\n",
       "      <td>1534511830936215552</td>\n",
       "      <td>Showcase becomes latest chain to pull 'blasphe...</td>\n",
       "      <td>MailOnline</td>\n",
       "      <td>4</td>\n",
       "    </tr>\n",
       "    <tr>\n",
       "      <th>15</th>\n",
       "      <td>2022-06-08 09:00:05+00:00</td>\n",
       "      <td>1534460245094825985</td>\n",
       "      <td>Cinema-goers hit out at 'ridiculous' protester...</td>\n",
       "      <td>DailyMailUK</td>\n",
       "      <td>8</td>\n",
       "    </tr>\n",
       "    <tr>\n",
       "      <th>16</th>\n",
       "      <td>2022-06-08 07:12:32+00:00</td>\n",
       "      <td>1534433178097799169</td>\n",
       "      <td>Cinema-goers hit out at 'ridiculous' protester...</td>\n",
       "      <td>DailyMailUK</td>\n",
       "      <td>20</td>\n",
       "    </tr>\n",
       "    <tr>\n",
       "      <th>17</th>\n",
       "      <td>2022-06-07 18:05:07+00:00</td>\n",
       "      <td>1534235018624647170</td>\n",
       "      <td>Kansas 'ISIS mom' faces 20 years in prison aft...</td>\n",
       "      <td>MailOnline</td>\n",
       "      <td>24</td>\n",
       "    </tr>\n",
       "    <tr>\n",
       "      <th>18</th>\n",
       "      <td>2022-06-07 12:20:10+00:00</td>\n",
       "      <td>1534148208234049539</td>\n",
       "      <td>Pakistani Muslim primary school worker loses r...</td>\n",
       "      <td>MailOnline</td>\n",
       "      <td>18</td>\n",
       "    </tr>\n",
       "    <tr>\n",
       "      <th>19</th>\n",
       "      <td>2022-06-05 19:08:54+00:00</td>\n",
       "      <td>1533526293937065984</td>\n",
       "      <td>11 of UK's most dangerous terrorists will be f...</td>\n",
       "      <td>TheSun</td>\n",
       "      <td>10</td>\n",
       "    </tr>\n",
       "    <tr>\n",
       "      <th>20</th>\n",
       "      <td>2022-06-05 13:45:51+00:00</td>\n",
       "      <td>1533444994371051520</td>\n",
       "      <td>11 of UK's most dangerous terrorists will be f...</td>\n",
       "      <td>TheSun</td>\n",
       "      <td>13</td>\n",
       "    </tr>\n",
       "  </tbody>\n",
       "</table>\n",
       "</div>"
      ],
      "text/plain": [
       "                    Datetime             Tweet Id  \\\n",
       "11 2022-06-08 17:19:07+00:00  1534585826906148868   \n",
       "12 2022-06-08 15:01:45+00:00  1534551259243487232   \n",
       "13 2022-06-08 13:50:08+00:00  1534533236814135301   \n",
       "14 2022-06-08 12:25:05+00:00  1534511830936215552   \n",
       "15 2022-06-08 09:00:05+00:00  1534460245094825985   \n",
       "16 2022-06-08 07:12:32+00:00  1534433178097799169   \n",
       "17 2022-06-07 18:05:07+00:00  1534235018624647170   \n",
       "18 2022-06-07 12:20:10+00:00  1534148208234049539   \n",
       "19 2022-06-05 19:08:54+00:00  1533526293937065984   \n",
       "20 2022-06-05 13:45:51+00:00  1533444994371051520   \n",
       "\n",
       "                                                 Text       Username  \\\n",
       "11  #MsMarvel Rish Shah pays sweet tribute to lead...  Daily_Express   \n",
       "12  Doctor who asked Muslim woman to remove veil f...  Daily_Express   \n",
       "13  Defiant Vue refuses to stop screenings for 'bl...    DailyMailUK   \n",
       "14  Showcase becomes latest chain to pull 'blasphe...     MailOnline   \n",
       "15  Cinema-goers hit out at 'ridiculous' protester...    DailyMailUK   \n",
       "16  Cinema-goers hit out at 'ridiculous' protester...    DailyMailUK   \n",
       "17  Kansas 'ISIS mom' faces 20 years in prison aft...     MailOnline   \n",
       "18  Pakistani Muslim primary school worker loses r...     MailOnline   \n",
       "19  11 of UK's most dangerous terrorists will be f...         TheSun   \n",
       "20  11 of UK's most dangerous terrorists will be f...         TheSun   \n",
       "\n",
       "    Like Count  \n",
       "11           1  \n",
       "12           3  \n",
       "13          58  \n",
       "14           4  \n",
       "15           8  \n",
       "16          20  \n",
       "17          24  \n",
       "18          18  \n",
       "19          10  \n",
       "20          13  "
      ]
     },
     "execution_count": 12,
     "metadata": {},
     "output_type": "execute_result"
    }
   ],
   "source": [
    "tweets_df.tail(10)"
   ]
  },
  {
   "cell_type": "code",
   "execution_count": 8,
   "id": "f49a4f62",
   "metadata": {},
   "outputs": [
    {
     "data": {
      "text/plain": [
       "\"Emmanuel Macron's party withdraws backing for Muslim candidate because she was pictured with her head covered https://t.co/QlyVQBsvfa\""
      ]
     },
     "execution_count": 8,
     "metadata": {},
     "output_type": "execute_result"
    }
   ],
   "source": [
    "tweets_df.iloc[800]['Text']"
   ]
  },
  {
   "cell_type": "code",
   "execution_count": 11,
   "id": "58903fa5",
   "metadata": {},
   "outputs": [],
   "source": [
    "tweets_df.to_csv('Muslim.csv')"
   ]
  },
  {
   "cell_type": "code",
   "execution_count": 13,
   "id": "a6d3795d",
   "metadata": {},
   "outputs": [],
   "source": [
    "tweets_df_copy = tweets_df.copy()"
   ]
  },
  {
   "cell_type": "code",
   "execution_count": 14,
   "id": "08b6a9b6",
   "metadata": {},
   "outputs": [],
   "source": [
    "def remove_punc(text):\n",
    "    txt=text\n",
    "    for punc in punctuation:\n",
    "        txt = txt.replace(punc, \" \")\n",
    "    txt = txt.lower()\n",
    "    return txt \n",
    "\n",
    "def remove_URL_and_HTML(row):\n",
    "    row = re.sub(r'https.*$', \"\", row)\n",
    "    return row\n",
    "\n",
    "def remove_stopwords(row):\n",
    "    row = word_tokenize(row)\n",
    "    return ' '.join(w for w in row if not w in stop_words)\n",
    "\n",
    "def preprocessing(col):\n",
    "    col = col.astype(str)\n",
    "    punctuation_list = col.apply(remove_punc)\n",
    "    URL = punctuation_list.apply(remove_URL_and_HTML)\n",
    "    word_tokens = URL.apply(remove_stopwords)                                           \n",
    "    return word_tokens"
   ]
  },
  {
   "cell_type": "code",
   "execution_count": 15,
   "id": "3c6dfe68",
   "metadata": {},
   "outputs": [],
   "source": [
    "tweets_df_copy['preprocessed'] = preprocessing(tweets_df_copy['Text'])"
   ]
  },
  {
   "cell_type": "code",
   "execution_count": 19,
   "id": "6b3a4b9d",
   "metadata": {},
   "outputs": [
    {
     "data": {
      "text/plain": [
       "'fury plans turn iconic peaky blinders pub mosque'"
      ]
     },
     "execution_count": 19,
     "metadata": {},
     "output_type": "execute_result"
    }
   ],
   "source": [
    "tweets_df_copy['preprocessed'][1]"
   ]
  },
  {
   "cell_type": "code",
   "execution_count": 1,
   "id": "7335f820",
   "metadata": {},
   "outputs": [
    {
     "ename": "NameError",
     "evalue": "name 'tweets_df_copy' is not defined",
     "output_type": "error",
     "traceback": [
      "\u001b[0;31m---------------------------------------------------------------------------\u001b[0m",
      "\u001b[0;31mNameError\u001b[0m                                 Traceback (most recent call last)",
      "Input \u001b[0;32mIn [1]\u001b[0m, in \u001b[0;36m<cell line: 1>\u001b[0;34m()\u001b[0m\n\u001b[0;32m----> 1\u001b[0m tweets_df_copy \u001b[38;5;241m=\u001b[39m \u001b[43mtweets_df_copy\u001b[49m\u001b[38;5;241m.\u001b[39mdrop_duplicates(subset\u001b[38;5;241m=\u001b[39m\u001b[38;5;124m'\u001b[39m\u001b[38;5;124mpreprocessed\u001b[39m\u001b[38;5;124m'\u001b[39m, keep\u001b[38;5;241m=\u001b[39m\u001b[38;5;124m'\u001b[39m\u001b[38;5;124mfirst\u001b[39m\u001b[38;5;124m'\u001b[39m)\n",
      "\u001b[0;31mNameError\u001b[0m: name 'tweets_df_copy' is not defined"
     ]
    }
   ],
   "source": [
    "tweets_df_copy = tweets_df_copy.drop_duplicates(subset='preprocessed', keep='first')"
   ]
  },
  {
   "cell_type": "code",
   "execution_count": 35,
   "id": "cb4baf34",
   "metadata": {},
   "outputs": [
    {
     "name": "stderr",
     "output_type": "stream",
     "text": [
      "/var/folders/ck/xg3scjhn503b00cjf3vysm3h0000gn/T/ipykernel_13356/3607406356.py:1: SettingWithCopyWarning: \n",
      "A value is trying to be set on a copy of a slice from a DataFrame\n",
      "\n",
      "See the caveats in the documentation: https://pandas.pydata.org/pandas-docs/stable/user_guide/indexing.html#returning-a-view-versus-a-copy\n",
      "  tweets_df_copy.drop(columns=['preprocessed'], inplace=True)\n"
     ]
    }
   ],
   "source": [
    "tweets_df_copy.drop(columns=['preprocessed'], inplace=True)"
   ]
  },
  {
   "cell_type": "code",
   "execution_count": 37,
   "id": "758348ce",
   "metadata": {},
   "outputs": [],
   "source": [
    "tweets_df_copy.to_csv('Roberta_Muslim.csv')"
   ]
  },
  {
   "cell_type": "code",
   "execution_count": null,
   "id": "6ac8205c",
   "metadata": {},
   "outputs": [],
   "source": []
  },
  {
   "cell_type": "code",
   "execution_count": null,
   "id": "3e842a99",
   "metadata": {},
   "outputs": [],
   "source": []
  },
  {
   "cell_type": "code",
   "execution_count": null,
   "id": "795768ab",
   "metadata": {},
   "outputs": [],
   "source": []
  }
 ],
 "metadata": {
  "kernelspec": {
   "display_name": "Python 3 (ipykernel)",
   "language": "python",
   "name": "python3"
  },
  "language_info": {
   "codemirror_mode": {
    "name": "ipython",
    "version": 3
   },
   "file_extension": ".py",
   "mimetype": "text/x-python",
   "name": "python",
   "nbconvert_exporter": "python",
   "pygments_lexer": "ipython3",
   "version": "3.8.12"
  },
  "toc": {
   "base_numbering": 1,
   "nav_menu": {},
   "number_sections": true,
   "sideBar": true,
   "skip_h1_title": false,
   "title_cell": "Table of Contents",
   "title_sidebar": "Contents",
   "toc_cell": false,
   "toc_position": {},
   "toc_section_display": true,
   "toc_window_display": false
  }
 },
 "nbformat": 4,
 "nbformat_minor": 5
}
