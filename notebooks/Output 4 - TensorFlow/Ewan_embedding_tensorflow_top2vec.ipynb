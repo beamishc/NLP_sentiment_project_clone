{
  "cells": [
    {
      "cell_type": "markdown",
      "metadata": {
        "id": "mTJaRoRLQXkL"
      },
      "source": [
        "## Imports and installations"
      ]
    },
    {
      "cell_type": "code",
      "execution_count": null,
      "metadata": {
        "colab": {
          "base_uri": "https://localhost:8080/"
        },
        "id": "JJpCkqguDPzz",
        "outputId": "e615e5b5-3f11-4816-b084-1a0d046b6b29"
      },
      "outputs": [
        {
          "output_type": "stream",
          "name": "stdout",
          "text": [
            "Your runtime has 13.6 gigabytes of available RAM\n",
            "\n",
            "Not using a high-RAM runtime\n"
          ]
        }
      ],
      "source": [
        "from psutil import virtual_memory\n",
        "ram_gb = virtual_memory().total / 1e9\n",
        "print('Your runtime has {:.1f} gigabytes of available RAM\\n'.format(ram_gb))\n",
        "\n",
        "if ram_gb < 20:\n",
        "  print('Not using a high-RAM runtime')\n",
        "else:\n",
        "  print('You are using a high-RAM runtime!')"
      ]
    },
    {
      "cell_type": "code",
      "execution_count": null,
      "metadata": {
        "colab": {
          "base_uri": "https://localhost:8080/"
        },
        "id": "MYJt_cLCZRi6",
        "outputId": "b868881f-9a63-43af-fb69-2d53b1eda880"
      },
      "outputs": [
        {
          "output_type": "stream",
          "name": "stdout",
          "text": [
            "Mounted at /content/drive\n"
          ]
        }
      ],
      "source": [
        "import os\n",
        "from google.colab import drive\n",
        "drive.mount('/content/drive')"
      ]
    },
    {
      "cell_type": "code",
      "execution_count": null,
      "metadata": {
        "colab": {
          "base_uri": "https://localhost:8080/"
        },
        "id": "ADF_PL9fdEWD",
        "outputId": "ae7d59a9-c43a-40c7-b740-8df074226375"
      },
      "outputs": [
        {
          "output_type": "stream",
          "name": "stdout",
          "text": [
            "Looking in indexes: https://pypi.org/simple, https://us-python.pkg.dev/colab-wheels/public/simple/\n",
            "Collecting top2vec==1.0.16\n",
            "  Downloading top2vec-1.0.16-py3-none-any.whl (20 kB)\n",
            "Collecting umap-learn\n",
            "  Downloading umap-learn-0.5.3.tar.gz (88 kB)\n",
            "\u001b[K     |████████████████████████████████| 88 kB 5.4 MB/s \n",
            "\u001b[?25hCollecting hdbscan\n",
            "  Downloading hdbscan-0.8.28.tar.gz (5.2 MB)\n",
            "\u001b[K     |████████████████████████████████| 5.2 MB 47.9 MB/s \n",
            "\u001b[?25h  Installing build dependencies ... \u001b[?25l\u001b[?25hdone\n",
            "  Getting requirements to build wheel ... \u001b[?25l\u001b[?25hdone\n",
            "    Preparing wheel metadata ... \u001b[?25l\u001b[?25hdone\n",
            "Collecting pynndescent>=0.4\n",
            "  Downloading pynndescent-0.5.7.tar.gz (1.1 MB)\n",
            "\u001b[K     |████████████████████████████████| 1.1 MB 46.3 MB/s \n",
            "\u001b[?25hRequirement already satisfied: wordcloud in /usr/local/lib/python3.7/dist-packages (from top2vec==1.0.16) (1.5.0)\n",
            "Requirement already satisfied: pandas in /usr/local/lib/python3.7/dist-packages (from top2vec==1.0.16) (1.3.5)\n",
            "Requirement already satisfied: numpy in /usr/local/lib/python3.7/dist-packages (from top2vec==1.0.16) (1.21.6)\n",
            "Requirement already satisfied: gensim in /usr/local/lib/python3.7/dist-packages (from top2vec==1.0.16) (3.6.0)\n",
            "Requirement already satisfied: scikit-learn>=0.18 in /usr/local/lib/python3.7/dist-packages (from pynndescent>=0.4->top2vec==1.0.16) (1.0.2)\n",
            "Requirement already satisfied: scipy>=1.0 in /usr/local/lib/python3.7/dist-packages (from pynndescent>=0.4->top2vec==1.0.16) (1.4.1)\n",
            "Requirement already satisfied: numba>=0.51.2 in /usr/local/lib/python3.7/dist-packages (from pynndescent>=0.4->top2vec==1.0.16) (0.51.2)\n",
            "Requirement already satisfied: llvmlite>=0.30 in /usr/local/lib/python3.7/dist-packages (from pynndescent>=0.4->top2vec==1.0.16) (0.34.0)\n",
            "Requirement already satisfied: joblib>=0.11 in /usr/local/lib/python3.7/dist-packages (from pynndescent>=0.4->top2vec==1.0.16) (1.1.0)\n",
            "Requirement already satisfied: setuptools in /usr/local/lib/python3.7/dist-packages (from numba>=0.51.2->pynndescent>=0.4->top2vec==1.0.16) (57.4.0)\n",
            "Requirement already satisfied: threadpoolctl>=2.0.0 in /usr/local/lib/python3.7/dist-packages (from scikit-learn>=0.18->pynndescent>=0.4->top2vec==1.0.16) (3.1.0)\n",
            "Requirement already satisfied: smart-open>=1.2.1 in /usr/local/lib/python3.7/dist-packages (from gensim->top2vec==1.0.16) (6.0.0)\n",
            "Requirement already satisfied: six>=1.5.0 in /usr/local/lib/python3.7/dist-packages (from gensim->top2vec==1.0.16) (1.15.0)\n",
            "Requirement already satisfied: cython>=0.27 in /usr/local/lib/python3.7/dist-packages (from hdbscan->top2vec==1.0.16) (0.29.30)\n",
            "Requirement already satisfied: python-dateutil>=2.7.3 in /usr/local/lib/python3.7/dist-packages (from pandas->top2vec==1.0.16) (2.8.2)\n",
            "Requirement already satisfied: pytz>=2017.3 in /usr/local/lib/python3.7/dist-packages (from pandas->top2vec==1.0.16) (2022.1)\n",
            "Requirement already satisfied: tqdm in /usr/local/lib/python3.7/dist-packages (from umap-learn->top2vec==1.0.16) (4.64.0)\n",
            "Requirement already satisfied: pillow in /usr/local/lib/python3.7/dist-packages (from wordcloud->top2vec==1.0.16) (7.1.2)\n",
            "Building wheels for collected packages: pynndescent, hdbscan, umap-learn\n",
            "  Building wheel for pynndescent (setup.py) ... \u001b[?25l\u001b[?25hdone\n",
            "  Created wheel for pynndescent: filename=pynndescent-0.5.7-py3-none-any.whl size=54286 sha256=d885a7381eb9dfd5ad921721a4dbd42af31859543b417edc21598c432cde6053\n",
            "  Stored in directory: /root/.cache/pip/wheels/7f/2a/f8/7bd5dcec71bd5c669f6f574db3113513696b98f3f9b51f496c\n",
            "  Building wheel for hdbscan (PEP 517) ... \u001b[?25l\u001b[?25hdone\n",
            "  Created wheel for hdbscan: filename=hdbscan-0.8.28-cp37-cp37m-linux_x86_64.whl size=2342138 sha256=337e2c8ba49ad3b6f57ced3086a3df66ccf194a6f1cbca56948431751c848e71\n",
            "  Stored in directory: /root/.cache/pip/wheels/6e/7a/5e/259ccc841c085fc41b99ef4a71e896b62f5161f2bc8a14c97a\n",
            "  Building wheel for umap-learn (setup.py) ... \u001b[?25l\u001b[?25hdone\n",
            "  Created wheel for umap-learn: filename=umap_learn-0.5.3-py3-none-any.whl size=82829 sha256=b5dcc5e73bb1fd3ab08728ef6ef638acf2488d50530fc57677edded5d7c67803\n",
            "  Stored in directory: /root/.cache/pip/wheels/b3/52/a5/1fd9e3e76a7ab34f134c07469cd6f16e27ef3a37aeff1fe821\n",
            "Successfully built pynndescent hdbscan umap-learn\n",
            "Installing collected packages: pynndescent, umap-learn, hdbscan, top2vec\n",
            "Successfully installed hdbscan-0.8.28 pynndescent-0.5.7 top2vec-1.0.16 umap-learn-0.5.3\n",
            "Looking in indexes: https://pypi.org/simple, https://us-python.pkg.dev/colab-wheels/public/simple/\n",
            "Requirement already satisfied: tensorflow in /usr/local/lib/python3.7/dist-packages (2.8.2+zzzcolab20220527125636)\n",
            "Requirement already satisfied: tensorflow_hub in /usr/local/lib/python3.7/dist-packages (0.12.0)\n",
            "Collecting tensorflow_text\n",
            "  Downloading tensorflow_text-2.9.0-cp37-cp37m-manylinux_2_17_x86_64.manylinux2014_x86_64.whl (4.6 MB)\n",
            "\u001b[K     |████████████████████████████████| 4.6 MB 8.6 MB/s \n",
            "\u001b[?25hRequirement already satisfied: numpy>=1.20 in /usr/local/lib/python3.7/dist-packages (from tensorflow) (1.21.6)\n",
            "Requirement already satisfied: gast>=0.2.1 in /usr/local/lib/python3.7/dist-packages (from tensorflow) (0.5.3)\n",
            "Requirement already satisfied: setuptools in /usr/local/lib/python3.7/dist-packages (from tensorflow) (57.4.0)\n",
            "Requirement already satisfied: keras<2.9,>=2.8.0rc0 in /usr/local/lib/python3.7/dist-packages (from tensorflow) (2.8.0)\n",
            "Requirement already satisfied: keras-preprocessing>=1.1.1 in /usr/local/lib/python3.7/dist-packages (from tensorflow) (1.1.2)\n",
            "Requirement already satisfied: grpcio<2.0,>=1.24.3 in /usr/local/lib/python3.7/dist-packages (from tensorflow) (1.46.3)\n",
            "Requirement already satisfied: tensorboard<2.9,>=2.8 in /usr/local/lib/python3.7/dist-packages (from tensorflow) (2.8.0)\n",
            "Requirement already satisfied: libclang>=9.0.1 in /usr/local/lib/python3.7/dist-packages (from tensorflow) (14.0.1)\n",
            "Requirement already satisfied: astunparse>=1.6.0 in /usr/local/lib/python3.7/dist-packages (from tensorflow) (1.6.3)\n",
            "Requirement already satisfied: six>=1.12.0 in /usr/local/lib/python3.7/dist-packages (from tensorflow) (1.15.0)\n",
            "Requirement already satisfied: google-pasta>=0.1.1 in /usr/local/lib/python3.7/dist-packages (from tensorflow) (0.2.0)\n",
            "Requirement already satisfied: wrapt>=1.11.0 in /usr/local/lib/python3.7/dist-packages (from tensorflow) (1.14.1)\n",
            "Requirement already satisfied: termcolor>=1.1.0 in /usr/local/lib/python3.7/dist-packages (from tensorflow) (1.1.0)\n",
            "Requirement already satisfied: h5py>=2.9.0 in /usr/local/lib/python3.7/dist-packages (from tensorflow) (3.1.0)\n",
            "Requirement already satisfied: typing-extensions>=3.6.6 in /usr/local/lib/python3.7/dist-packages (from tensorflow) (4.2.0)\n",
            "Requirement already satisfied: tensorflow-estimator<2.9,>=2.8 in /usr/local/lib/python3.7/dist-packages (from tensorflow) (2.8.0)\n",
            "Requirement already satisfied: tensorflow-io-gcs-filesystem>=0.23.1 in /usr/local/lib/python3.7/dist-packages (from tensorflow) (0.26.0)\n",
            "Requirement already satisfied: absl-py>=0.4.0 in /usr/local/lib/python3.7/dist-packages (from tensorflow) (1.1.0)\n",
            "Requirement already satisfied: opt-einsum>=2.3.2 in /usr/local/lib/python3.7/dist-packages (from tensorflow) (3.3.0)\n",
            "Requirement already satisfied: flatbuffers>=1.12 in /usr/local/lib/python3.7/dist-packages (from tensorflow) (2.0)\n",
            "Requirement already satisfied: protobuf<3.20,>=3.9.2 in /usr/local/lib/python3.7/dist-packages (from tensorflow) (3.17.3)\n",
            "Requirement already satisfied: wheel<1.0,>=0.23.0 in /usr/local/lib/python3.7/dist-packages (from astunparse>=1.6.0->tensorflow) (0.37.1)\n",
            "Requirement already satisfied: cached-property in /usr/local/lib/python3.7/dist-packages (from h5py>=2.9.0->tensorflow) (1.5.2)\n",
            "Requirement already satisfied: google-auth-oauthlib<0.5,>=0.4.1 in /usr/local/lib/python3.7/dist-packages (from tensorboard<2.9,>=2.8->tensorflow) (0.4.6)\n",
            "Requirement already satisfied: requests<3,>=2.21.0 in /usr/local/lib/python3.7/dist-packages (from tensorboard<2.9,>=2.8->tensorflow) (2.23.0)\n",
            "Requirement already satisfied: tensorboard-plugin-wit>=1.6.0 in /usr/local/lib/python3.7/dist-packages (from tensorboard<2.9,>=2.8->tensorflow) (1.8.1)\n",
            "Requirement already satisfied: google-auth<3,>=1.6.3 in /usr/local/lib/python3.7/dist-packages (from tensorboard<2.9,>=2.8->tensorflow) (1.35.0)\n",
            "Requirement already satisfied: markdown>=2.6.8 in /usr/local/lib/python3.7/dist-packages (from tensorboard<2.9,>=2.8->tensorflow) (3.3.7)\n",
            "Requirement already satisfied: tensorboard-data-server<0.7.0,>=0.6.0 in /usr/local/lib/python3.7/dist-packages (from tensorboard<2.9,>=2.8->tensorflow) (0.6.1)\n",
            "Requirement already satisfied: werkzeug>=0.11.15 in /usr/local/lib/python3.7/dist-packages (from tensorboard<2.9,>=2.8->tensorflow) (1.0.1)\n",
            "Requirement already satisfied: cachetools<5.0,>=2.0.0 in /usr/local/lib/python3.7/dist-packages (from google-auth<3,>=1.6.3->tensorboard<2.9,>=2.8->tensorflow) (4.2.4)\n",
            "Requirement already satisfied: rsa<5,>=3.1.4 in /usr/local/lib/python3.7/dist-packages (from google-auth<3,>=1.6.3->tensorboard<2.9,>=2.8->tensorflow) (4.8)\n",
            "Requirement already satisfied: pyasn1-modules>=0.2.1 in /usr/local/lib/python3.7/dist-packages (from google-auth<3,>=1.6.3->tensorboard<2.9,>=2.8->tensorflow) (0.2.8)\n",
            "Requirement already satisfied: requests-oauthlib>=0.7.0 in /usr/local/lib/python3.7/dist-packages (from google-auth-oauthlib<0.5,>=0.4.1->tensorboard<2.9,>=2.8->tensorflow) (1.3.1)\n",
            "Requirement already satisfied: importlib-metadata>=4.4 in /usr/local/lib/python3.7/dist-packages (from markdown>=2.6.8->tensorboard<2.9,>=2.8->tensorflow) (4.11.4)\n",
            "Requirement already satisfied: zipp>=0.5 in /usr/local/lib/python3.7/dist-packages (from importlib-metadata>=4.4->markdown>=2.6.8->tensorboard<2.9,>=2.8->tensorflow) (3.8.0)\n",
            "Requirement already satisfied: pyasn1<0.5.0,>=0.4.6 in /usr/local/lib/python3.7/dist-packages (from pyasn1-modules>=0.2.1->google-auth<3,>=1.6.3->tensorboard<2.9,>=2.8->tensorflow) (0.4.8)\n",
            "Requirement already satisfied: urllib3!=1.25.0,!=1.25.1,<1.26,>=1.21.1 in /usr/local/lib/python3.7/dist-packages (from requests<3,>=2.21.0->tensorboard<2.9,>=2.8->tensorflow) (1.24.3)\n",
            "Requirement already satisfied: chardet<4,>=3.0.2 in /usr/local/lib/python3.7/dist-packages (from requests<3,>=2.21.0->tensorboard<2.9,>=2.8->tensorflow) (3.0.4)\n",
            "Requirement already satisfied: certifi>=2017.4.17 in /usr/local/lib/python3.7/dist-packages (from requests<3,>=2.21.0->tensorboard<2.9,>=2.8->tensorflow) (2022.5.18.1)\n",
            "Requirement already satisfied: idna<3,>=2.5 in /usr/local/lib/python3.7/dist-packages (from requests<3,>=2.21.0->tensorboard<2.9,>=2.8->tensorflow) (2.10)\n",
            "Requirement already satisfied: oauthlib>=3.0.0 in /usr/local/lib/python3.7/dist-packages (from requests-oauthlib>=0.7.0->google-auth-oauthlib<0.5,>=0.4.1->tensorboard<2.9,>=2.8->tensorflow) (3.2.0)\n",
            "Collecting tensorflow\n",
            "  Downloading tensorflow-2.9.1-cp37-cp37m-manylinux_2_17_x86_64.manylinux2014_x86_64.whl (511.7 MB)\n",
            "\u001b[K     |████████████████████████████████| 511.7 MB 6.0 kB/s \n",
            "\u001b[?25hRequirement already satisfied: packaging in /usr/local/lib/python3.7/dist-packages (from tensorflow) (21.3)\n",
            "  Downloading tensorflow-2.9.0-cp37-cp37m-manylinux_2_17_x86_64.manylinux2014_x86_64.whl (511.7 MB)\n",
            "\u001b[K     |████████████████████████████████| 511.7 MB 4.3 kB/s \n",
            "\u001b[?25hINFO: pip is looking at multiple versions of tensorflow-text to determine which version is compatible with other requirements. This could take a while.\n",
            "Collecting tensorflow_text\n",
            "  Downloading tensorflow_text-2.8.2-cp37-cp37m-manylinux_2_12_x86_64.manylinux2010_x86_64.whl (4.9 MB)\n",
            "\u001b[K     |████████████████████████████████| 4.9 MB 59.5 MB/s \n",
            "\u001b[?25hInstalling collected packages: tensorflow-text\n",
            "Successfully installed tensorflow-text-2.8.2\n",
            "Looking in indexes: https://pypi.org/simple, https://us-python.pkg.dev/colab-wheels/public/simple/\n",
            "Requirement already satisfied: top2vec[sentence_encoders] in /usr/local/lib/python3.7/dist-packages (1.0.16)\n",
            "Requirement already satisfied: wordcloud in /usr/local/lib/python3.7/dist-packages (from top2vec[sentence_encoders]) (1.5.0)\n",
            "Requirement already satisfied: numpy in /usr/local/lib/python3.7/dist-packages (from top2vec[sentence_encoders]) (1.21.6)\n",
            "Requirement already satisfied: hdbscan in /usr/local/lib/python3.7/dist-packages (from top2vec[sentence_encoders]) (0.8.28)\n",
            "Requirement already satisfied: gensim in /usr/local/lib/python3.7/dist-packages (from top2vec[sentence_encoders]) (3.6.0)\n",
            "Requirement already satisfied: umap-learn in /usr/local/lib/python3.7/dist-packages (from top2vec[sentence_encoders]) (0.5.3)\n",
            "Requirement already satisfied: pandas in /usr/local/lib/python3.7/dist-packages (from top2vec[sentence_encoders]) (1.3.5)\n",
            "Requirement already satisfied: pynndescent>=0.4 in /usr/local/lib/python3.7/dist-packages (from top2vec[sentence_encoders]) (0.5.7)\n",
            "Requirement already satisfied: tensorflow-hub in /usr/local/lib/python3.7/dist-packages (from top2vec[sentence_encoders]) (0.12.0)\n",
            "Requirement already satisfied: tensorflow-text in /usr/local/lib/python3.7/dist-packages (from top2vec[sentence_encoders]) (2.8.2)\n",
            "Requirement already satisfied: tensorflow in /usr/local/lib/python3.7/dist-packages (from top2vec[sentence_encoders]) (2.8.2+zzzcolab20220527125636)\n",
            "Requirement already satisfied: scipy>=1.0 in /usr/local/lib/python3.7/dist-packages (from pynndescent>=0.4->top2vec[sentence_encoders]) (1.4.1)\n",
            "Requirement already satisfied: llvmlite>=0.30 in /usr/local/lib/python3.7/dist-packages (from pynndescent>=0.4->top2vec[sentence_encoders]) (0.34.0)\n",
            "Requirement already satisfied: numba>=0.51.2 in /usr/local/lib/python3.7/dist-packages (from pynndescent>=0.4->top2vec[sentence_encoders]) (0.51.2)\n",
            "Requirement already satisfied: scikit-learn>=0.18 in /usr/local/lib/python3.7/dist-packages (from pynndescent>=0.4->top2vec[sentence_encoders]) (1.0.2)\n",
            "Requirement already satisfied: joblib>=0.11 in /usr/local/lib/python3.7/dist-packages (from pynndescent>=0.4->top2vec[sentence_encoders]) (1.1.0)\n",
            "Requirement already satisfied: setuptools in /usr/local/lib/python3.7/dist-packages (from numba>=0.51.2->pynndescent>=0.4->top2vec[sentence_encoders]) (57.4.0)\n",
            "Requirement already satisfied: threadpoolctl>=2.0.0 in /usr/local/lib/python3.7/dist-packages (from scikit-learn>=0.18->pynndescent>=0.4->top2vec[sentence_encoders]) (3.1.0)\n",
            "Requirement already satisfied: six>=1.5.0 in /usr/local/lib/python3.7/dist-packages (from gensim->top2vec[sentence_encoders]) (1.15.0)\n",
            "Requirement already satisfied: smart-open>=1.2.1 in /usr/local/lib/python3.7/dist-packages (from gensim->top2vec[sentence_encoders]) (6.0.0)\n",
            "Requirement already satisfied: cython>=0.27 in /usr/local/lib/python3.7/dist-packages (from hdbscan->top2vec[sentence_encoders]) (0.29.30)\n",
            "Requirement already satisfied: python-dateutil>=2.7.3 in /usr/local/lib/python3.7/dist-packages (from pandas->top2vec[sentence_encoders]) (2.8.2)\n",
            "Requirement already satisfied: pytz>=2017.3 in /usr/local/lib/python3.7/dist-packages (from pandas->top2vec[sentence_encoders]) (2022.1)\n",
            "Requirement already satisfied: libclang>=9.0.1 in /usr/local/lib/python3.7/dist-packages (from tensorflow->top2vec[sentence_encoders]) (14.0.1)\n",
            "Requirement already satisfied: tensorboard<2.9,>=2.8 in /usr/local/lib/python3.7/dist-packages (from tensorflow->top2vec[sentence_encoders]) (2.8.0)\n",
            "Requirement already satisfied: tensorflow-estimator<2.9,>=2.8 in /usr/local/lib/python3.7/dist-packages (from tensorflow->top2vec[sentence_encoders]) (2.8.0)\n",
            "Requirement already satisfied: wrapt>=1.11.0 in /usr/local/lib/python3.7/dist-packages (from tensorflow->top2vec[sentence_encoders]) (1.14.1)\n",
            "Requirement already satisfied: termcolor>=1.1.0 in /usr/local/lib/python3.7/dist-packages (from tensorflow->top2vec[sentence_encoders]) (1.1.0)\n",
            "Requirement already satisfied: grpcio<2.0,>=1.24.3 in /usr/local/lib/python3.7/dist-packages (from tensorflow->top2vec[sentence_encoders]) (1.46.3)\n",
            "Requirement already satisfied: typing-extensions>=3.6.6 in /usr/local/lib/python3.7/dist-packages (from tensorflow->top2vec[sentence_encoders]) (4.2.0)\n",
            "Requirement already satisfied: google-pasta>=0.1.1 in /usr/local/lib/python3.7/dist-packages (from tensorflow->top2vec[sentence_encoders]) (0.2.0)\n",
            "Requirement already satisfied: protobuf<3.20,>=3.9.2 in /usr/local/lib/python3.7/dist-packages (from tensorflow->top2vec[sentence_encoders]) (3.17.3)\n",
            "Requirement already satisfied: keras-preprocessing>=1.1.1 in /usr/local/lib/python3.7/dist-packages (from tensorflow->top2vec[sentence_encoders]) (1.1.2)\n",
            "Requirement already satisfied: gast>=0.2.1 in /usr/local/lib/python3.7/dist-packages (from tensorflow->top2vec[sentence_encoders]) (0.5.3)\n",
            "Requirement already satisfied: absl-py>=0.4.0 in /usr/local/lib/python3.7/dist-packages (from tensorflow->top2vec[sentence_encoders]) (1.1.0)\n",
            "Requirement already satisfied: h5py>=2.9.0 in /usr/local/lib/python3.7/dist-packages (from tensorflow->top2vec[sentence_encoders]) (3.1.0)\n",
            "Requirement already satisfied: astunparse>=1.6.0 in /usr/local/lib/python3.7/dist-packages (from tensorflow->top2vec[sentence_encoders]) (1.6.3)\n",
            "Requirement already satisfied: tensorflow-io-gcs-filesystem>=0.23.1 in /usr/local/lib/python3.7/dist-packages (from tensorflow->top2vec[sentence_encoders]) (0.26.0)\n",
            "Requirement already satisfied: keras<2.9,>=2.8.0rc0 in /usr/local/lib/python3.7/dist-packages (from tensorflow->top2vec[sentence_encoders]) (2.8.0)\n",
            "Requirement already satisfied: flatbuffers>=1.12 in /usr/local/lib/python3.7/dist-packages (from tensorflow->top2vec[sentence_encoders]) (2.0)\n",
            "Requirement already satisfied: opt-einsum>=2.3.2 in /usr/local/lib/python3.7/dist-packages (from tensorflow->top2vec[sentence_encoders]) (3.3.0)\n",
            "Requirement already satisfied: wheel<1.0,>=0.23.0 in /usr/local/lib/python3.7/dist-packages (from astunparse>=1.6.0->tensorflow->top2vec[sentence_encoders]) (0.37.1)\n",
            "Requirement already satisfied: cached-property in /usr/local/lib/python3.7/dist-packages (from h5py>=2.9.0->tensorflow->top2vec[sentence_encoders]) (1.5.2)\n",
            "Requirement already satisfied: tensorboard-plugin-wit>=1.6.0 in /usr/local/lib/python3.7/dist-packages (from tensorboard<2.9,>=2.8->tensorflow->top2vec[sentence_encoders]) (1.8.1)\n",
            "Requirement already satisfied: markdown>=2.6.8 in /usr/local/lib/python3.7/dist-packages (from tensorboard<2.9,>=2.8->tensorflow->top2vec[sentence_encoders]) (3.3.7)\n",
            "Requirement already satisfied: requests<3,>=2.21.0 in /usr/local/lib/python3.7/dist-packages (from tensorboard<2.9,>=2.8->tensorflow->top2vec[sentence_encoders]) (2.23.0)\n",
            "Requirement already satisfied: werkzeug>=0.11.15 in /usr/local/lib/python3.7/dist-packages (from tensorboard<2.9,>=2.8->tensorflow->top2vec[sentence_encoders]) (1.0.1)\n",
            "Requirement already satisfied: google-auth<3,>=1.6.3 in /usr/local/lib/python3.7/dist-packages (from tensorboard<2.9,>=2.8->tensorflow->top2vec[sentence_encoders]) (1.35.0)\n",
            "Requirement already satisfied: tensorboard-data-server<0.7.0,>=0.6.0 in /usr/local/lib/python3.7/dist-packages (from tensorboard<2.9,>=2.8->tensorflow->top2vec[sentence_encoders]) (0.6.1)\n",
            "Requirement already satisfied: google-auth-oauthlib<0.5,>=0.4.1 in /usr/local/lib/python3.7/dist-packages (from tensorboard<2.9,>=2.8->tensorflow->top2vec[sentence_encoders]) (0.4.6)\n",
            "Requirement already satisfied: rsa<5,>=3.1.4 in /usr/local/lib/python3.7/dist-packages (from google-auth<3,>=1.6.3->tensorboard<2.9,>=2.8->tensorflow->top2vec[sentence_encoders]) (4.8)\n",
            "Requirement already satisfied: pyasn1-modules>=0.2.1 in /usr/local/lib/python3.7/dist-packages (from google-auth<3,>=1.6.3->tensorboard<2.9,>=2.8->tensorflow->top2vec[sentence_encoders]) (0.2.8)\n",
            "Requirement already satisfied: cachetools<5.0,>=2.0.0 in /usr/local/lib/python3.7/dist-packages (from google-auth<3,>=1.6.3->tensorboard<2.9,>=2.8->tensorflow->top2vec[sentence_encoders]) (4.2.4)\n",
            "Requirement already satisfied: requests-oauthlib>=0.7.0 in /usr/local/lib/python3.7/dist-packages (from google-auth-oauthlib<0.5,>=0.4.1->tensorboard<2.9,>=2.8->tensorflow->top2vec[sentence_encoders]) (1.3.1)\n",
            "Requirement already satisfied: importlib-metadata>=4.4 in /usr/local/lib/python3.7/dist-packages (from markdown>=2.6.8->tensorboard<2.9,>=2.8->tensorflow->top2vec[sentence_encoders]) (4.11.4)\n",
            "Requirement already satisfied: zipp>=0.5 in /usr/local/lib/python3.7/dist-packages (from importlib-metadata>=4.4->markdown>=2.6.8->tensorboard<2.9,>=2.8->tensorflow->top2vec[sentence_encoders]) (3.8.0)\n",
            "Requirement already satisfied: pyasn1<0.5.0,>=0.4.6 in /usr/local/lib/python3.7/dist-packages (from pyasn1-modules>=0.2.1->google-auth<3,>=1.6.3->tensorboard<2.9,>=2.8->tensorflow->top2vec[sentence_encoders]) (0.4.8)\n",
            "Requirement already satisfied: certifi>=2017.4.17 in /usr/local/lib/python3.7/dist-packages (from requests<3,>=2.21.0->tensorboard<2.9,>=2.8->tensorflow->top2vec[sentence_encoders]) (2022.5.18.1)\n",
            "Requirement already satisfied: urllib3!=1.25.0,!=1.25.1,<1.26,>=1.21.1 in /usr/local/lib/python3.7/dist-packages (from requests<3,>=2.21.0->tensorboard<2.9,>=2.8->tensorflow->top2vec[sentence_encoders]) (1.24.3)\n",
            "Requirement already satisfied: chardet<4,>=3.0.2 in /usr/local/lib/python3.7/dist-packages (from requests<3,>=2.21.0->tensorboard<2.9,>=2.8->tensorflow->top2vec[sentence_encoders]) (3.0.4)\n",
            "Requirement already satisfied: idna<3,>=2.5 in /usr/local/lib/python3.7/dist-packages (from requests<3,>=2.21.0->tensorboard<2.9,>=2.8->tensorflow->top2vec[sentence_encoders]) (2.10)\n",
            "Requirement already satisfied: oauthlib>=3.0.0 in /usr/local/lib/python3.7/dist-packages (from requests-oauthlib>=0.7.0->google-auth-oauthlib<0.5,>=0.4.1->tensorboard<2.9,>=2.8->tensorflow->top2vec[sentence_encoders]) (3.2.0)\n",
            "Requirement already satisfied: tqdm in /usr/local/lib/python3.7/dist-packages (from umap-learn->top2vec[sentence_encoders]) (4.64.0)\n",
            "Requirement already satisfied: pillow in /usr/local/lib/python3.7/dist-packages (from wordcloud->top2vec[sentence_encoders]) (7.1.2)\n"
          ]
        }
      ],
      "source": [
        "!pip install top2vec==1.0.16\n",
        "!pip install tensorflow tensorflow_hub tensorflow_text\n",
        "!pip install 'top2vec[sentence_encoders]'\n",
        "# !pip install 'top2vec[sentence_transformers]'\n",
        "# !pip install 'top2vec[indexing]'\n",
        "# !pip install 'top2vec[batch_size]'\n"
      ]
    },
    {
      "cell_type": "code",
      "execution_count": null,
      "metadata": {
        "id": "MHSEqDuwZ8RK"
      },
      "outputs": [],
      "source": [
        "import pandas as pd\n",
        "import seaborn as sns\n",
        "import matplotlib.pyplot as plt\n",
        "from top2vec import Top2Vec\n",
        "import numpy as np"
      ]
    },
    {
      "cell_type": "markdown",
      "metadata": {
        "id": "aHyxBGbxQdgn"
      },
      "source": [
        "# Read data"
      ]
    },
    {
      "cell_type": "code",
      "execution_count": null,
      "metadata": {
        "id": "vPDP1bYaZt56"
      },
      "outputs": [],
      "source": [
        "df = pd.read_csv('drive/MyDrive/data/embedding_projector_dataset.csv')"
      ]
    },
    {
      "cell_type": "code",
      "execution_count": null,
      "metadata": {
        "colab": {
          "base_uri": "https://localhost:8080/"
        },
        "id": "GWl4qM1X5wnn",
        "outputId": "dd6189ef-e3cb-4e0d-cdc5-9a7046b54948"
      },
      "outputs": [
        {
          "output_type": "execute_result",
          "data": {
            "text/plain": [
              "(17071, 6)"
            ]
          },
          "metadata": {},
          "execution_count": 7
        }
      ],
      "source": [
        "df.shape"
      ]
    },
    {
      "cell_type": "code",
      "source": [
        "df.head()"
      ],
      "metadata": {
        "colab": {
          "base_uri": "https://localhost:8080/",
          "height": 206
        },
        "id": "FUjFMQbMB318",
        "outputId": "3a6146c7-a121-40cd-e8eb-8ca43c425ca3"
      },
      "execution_count": null,
      "outputs": [
        {
          "output_type": "execute_result",
          "data": {
            "text/plain": [
              "   Unnamed: 0                   Datetime             Tweet Id  \\\n",
              "0           0  2022-06-08 16:00:06+00:00  1534565944374267909   \n",
              "1           1  2022-06-08 12:56:00+00:00  1534519612200562689   \n",
              "2           2  2022-06-08 01:30:08+00:00  1534347009406251008   \n",
              "3           3  2022-06-07 11:37:57+00:00  1534137584338845696   \n",
              "4           4  2022-06-05 03:29:56+00:00  1533289994584002561   \n",
              "\n",
              "                                                Text       Username  \\\n",
              "0  Rwanda policy is having 'NO impact' on migrant...    DailyMailUK   \n",
              "1  Asylum seeker claims UK hotel stay is 'worse t...  Daily_Express   \n",
              "2  More than half the 130 asylum-seekers facing f...     MailOnline   \n",
              "3  'Rwanda plan is NOT working': 80 migrants land...    DailyMailUK   \n",
              "4  Anger as hundreds of refugee children from Ukr...     MailOnline   \n",
              "\n",
              "   Like Count  \n",
              "0         2.0  \n",
              "1         8.0  \n",
              "2         8.0  \n",
              "3         5.0  \n",
              "4        16.0  "
            ],
            "text/html": [
              "\n",
              "  <div id=\"df-66fa3b66-34f3-4688-8e27-7708b03cc2a5\">\n",
              "    <div class=\"colab-df-container\">\n",
              "      <div>\n",
              "<style scoped>\n",
              "    .dataframe tbody tr th:only-of-type {\n",
              "        vertical-align: middle;\n",
              "    }\n",
              "\n",
              "    .dataframe tbody tr th {\n",
              "        vertical-align: top;\n",
              "    }\n",
              "\n",
              "    .dataframe thead th {\n",
              "        text-align: right;\n",
              "    }\n",
              "</style>\n",
              "<table border=\"1\" class=\"dataframe\">\n",
              "  <thead>\n",
              "    <tr style=\"text-align: right;\">\n",
              "      <th></th>\n",
              "      <th>Unnamed: 0</th>\n",
              "      <th>Datetime</th>\n",
              "      <th>Tweet Id</th>\n",
              "      <th>Text</th>\n",
              "      <th>Username</th>\n",
              "      <th>Like Count</th>\n",
              "    </tr>\n",
              "  </thead>\n",
              "  <tbody>\n",
              "    <tr>\n",
              "      <th>0</th>\n",
              "      <td>0</td>\n",
              "      <td>2022-06-08 16:00:06+00:00</td>\n",
              "      <td>1534565944374267909</td>\n",
              "      <td>Rwanda policy is having 'NO impact' on migrant...</td>\n",
              "      <td>DailyMailUK</td>\n",
              "      <td>2.0</td>\n",
              "    </tr>\n",
              "    <tr>\n",
              "      <th>1</th>\n",
              "      <td>1</td>\n",
              "      <td>2022-06-08 12:56:00+00:00</td>\n",
              "      <td>1534519612200562689</td>\n",
              "      <td>Asylum seeker claims UK hotel stay is 'worse t...</td>\n",
              "      <td>Daily_Express</td>\n",
              "      <td>8.0</td>\n",
              "    </tr>\n",
              "    <tr>\n",
              "      <th>2</th>\n",
              "      <td>2</td>\n",
              "      <td>2022-06-08 01:30:08+00:00</td>\n",
              "      <td>1534347009406251008</td>\n",
              "      <td>More than half the 130 asylum-seekers facing f...</td>\n",
              "      <td>MailOnline</td>\n",
              "      <td>8.0</td>\n",
              "    </tr>\n",
              "    <tr>\n",
              "      <th>3</th>\n",
              "      <td>3</td>\n",
              "      <td>2022-06-07 11:37:57+00:00</td>\n",
              "      <td>1534137584338845696</td>\n",
              "      <td>'Rwanda plan is NOT working': 80 migrants land...</td>\n",
              "      <td>DailyMailUK</td>\n",
              "      <td>5.0</td>\n",
              "    </tr>\n",
              "    <tr>\n",
              "      <th>4</th>\n",
              "      <td>4</td>\n",
              "      <td>2022-06-05 03:29:56+00:00</td>\n",
              "      <td>1533289994584002561</td>\n",
              "      <td>Anger as hundreds of refugee children from Ukr...</td>\n",
              "      <td>MailOnline</td>\n",
              "      <td>16.0</td>\n",
              "    </tr>\n",
              "  </tbody>\n",
              "</table>\n",
              "</div>\n",
              "      <button class=\"colab-df-convert\" onclick=\"convertToInteractive('df-66fa3b66-34f3-4688-8e27-7708b03cc2a5')\"\n",
              "              title=\"Convert this dataframe to an interactive table.\"\n",
              "              style=\"display:none;\">\n",
              "        \n",
              "  <svg xmlns=\"http://www.w3.org/2000/svg\" height=\"24px\"viewBox=\"0 0 24 24\"\n",
              "       width=\"24px\">\n",
              "    <path d=\"M0 0h24v24H0V0z\" fill=\"none\"/>\n",
              "    <path d=\"M18.56 5.44l.94 2.06.94-2.06 2.06-.94-2.06-.94-.94-2.06-.94 2.06-2.06.94zm-11 1L8.5 8.5l.94-2.06 2.06-.94-2.06-.94L8.5 2.5l-.94 2.06-2.06.94zm10 10l.94 2.06.94-2.06 2.06-.94-2.06-.94-.94-2.06-.94 2.06-2.06.94z\"/><path d=\"M17.41 7.96l-1.37-1.37c-.4-.4-.92-.59-1.43-.59-.52 0-1.04.2-1.43.59L10.3 9.45l-7.72 7.72c-.78.78-.78 2.05 0 2.83L4 21.41c.39.39.9.59 1.41.59.51 0 1.02-.2 1.41-.59l7.78-7.78 2.81-2.81c.8-.78.8-2.07 0-2.86zM5.41 20L4 18.59l7.72-7.72 1.47 1.35L5.41 20z\"/>\n",
              "  </svg>\n",
              "      </button>\n",
              "      \n",
              "  <style>\n",
              "    .colab-df-container {\n",
              "      display:flex;\n",
              "      flex-wrap:wrap;\n",
              "      gap: 12px;\n",
              "    }\n",
              "\n",
              "    .colab-df-convert {\n",
              "      background-color: #E8F0FE;\n",
              "      border: none;\n",
              "      border-radius: 50%;\n",
              "      cursor: pointer;\n",
              "      display: none;\n",
              "      fill: #1967D2;\n",
              "      height: 32px;\n",
              "      padding: 0 0 0 0;\n",
              "      width: 32px;\n",
              "    }\n",
              "\n",
              "    .colab-df-convert:hover {\n",
              "      background-color: #E2EBFA;\n",
              "      box-shadow: 0px 1px 2px rgba(60, 64, 67, 0.3), 0px 1px 3px 1px rgba(60, 64, 67, 0.15);\n",
              "      fill: #174EA6;\n",
              "    }\n",
              "\n",
              "    [theme=dark] .colab-df-convert {\n",
              "      background-color: #3B4455;\n",
              "      fill: #D2E3FC;\n",
              "    }\n",
              "\n",
              "    [theme=dark] .colab-df-convert:hover {\n",
              "      background-color: #434B5C;\n",
              "      box-shadow: 0px 1px 3px 1px rgba(0, 0, 0, 0.15);\n",
              "      filter: drop-shadow(0px 1px 2px rgba(0, 0, 0, 0.3));\n",
              "      fill: #FFFFFF;\n",
              "    }\n",
              "  </style>\n",
              "\n",
              "      <script>\n",
              "        const buttonEl =\n",
              "          document.querySelector('#df-66fa3b66-34f3-4688-8e27-7708b03cc2a5 button.colab-df-convert');\n",
              "        buttonEl.style.display =\n",
              "          google.colab.kernel.accessAllowed ? 'block' : 'none';\n",
              "\n",
              "        async function convertToInteractive(key) {\n",
              "          const element = document.querySelector('#df-66fa3b66-34f3-4688-8e27-7708b03cc2a5');\n",
              "          const dataTable =\n",
              "            await google.colab.kernel.invokeFunction('convertToInteractive',\n",
              "                                                     [key], {});\n",
              "          if (!dataTable) return;\n",
              "\n",
              "          const docLinkHtml = 'Like what you see? Visit the ' +\n",
              "            '<a target=\"_blank\" href=https://colab.research.google.com/notebooks/data_table.ipynb>data table notebook</a>'\n",
              "            + ' to learn more about interactive tables.';\n",
              "          element.innerHTML = '';\n",
              "          dataTable['output_type'] = 'display_data';\n",
              "          await google.colab.output.renderOutput(dataTable, element);\n",
              "          const docLink = document.createElement('div');\n",
              "          docLink.innerHTML = docLinkHtml;\n",
              "          element.appendChild(docLink);\n",
              "        }\n",
              "      </script>\n",
              "    </div>\n",
              "  </div>\n",
              "  "
            ]
          },
          "metadata": {},
          "execution_count": 8
        }
      ]
    },
    {
      "cell_type": "markdown",
      "metadata": {
        "id": "0zdoPcnyKbEp"
      },
      "source": [
        "# Pre-processing imports and run"
      ]
    },
    {
      "cell_type": "code",
      "source": [
        "import nltk\n",
        "nltk.download('omw-1.4')"
      ],
      "metadata": {
        "colab": {
          "base_uri": "https://localhost:8080/"
        },
        "id": "Guoebw976Ciq",
        "outputId": "c042d0b5-42a3-4f2a-bea9-90a37307c892"
      },
      "execution_count": null,
      "outputs": [
        {
          "output_type": "stream",
          "name": "stderr",
          "text": [
            "[nltk_data] Downloading package omw-1.4 to /root/nltk_data...\n",
            "[nltk_data]   Unzipping corpora/omw-1.4.zip.\n"
          ]
        },
        {
          "output_type": "execute_result",
          "data": {
            "text/plain": [
              "True"
            ]
          },
          "metadata": {},
          "execution_count": 9
        }
      ]
    },
    {
      "cell_type": "code",
      "source": [
        "!pip install nltk\n",
        "nltk.download('punkt')"
      ],
      "metadata": {
        "colab": {
          "base_uri": "https://localhost:8080/"
        },
        "id": "HFuc_fFt5yxc",
        "outputId": "f8821a34-e382-4664-c22c-682e9b4abdd6"
      },
      "execution_count": null,
      "outputs": [
        {
          "output_type": "stream",
          "name": "stdout",
          "text": [
            "Looking in indexes: https://pypi.org/simple, https://us-python.pkg.dev/colab-wheels/public/simple/\n",
            "Requirement already satisfied: nltk in /usr/local/lib/python3.7/dist-packages (3.7)\n",
            "Requirement already satisfied: joblib in /usr/local/lib/python3.7/dist-packages (from nltk) (1.1.0)\n",
            "Requirement already satisfied: tqdm in /usr/local/lib/python3.7/dist-packages (from nltk) (4.64.0)\n",
            "Requirement already satisfied: regex>=2021.8.3 in /usr/local/lib/python3.7/dist-packages (from nltk) (2022.6.2)\n",
            "Requirement already satisfied: click in /usr/local/lib/python3.7/dist-packages (from nltk) (7.1.2)\n"
          ]
        },
        {
          "output_type": "stream",
          "name": "stderr",
          "text": [
            "[nltk_data] Downloading package punkt to /root/nltk_data...\n",
            "[nltk_data]   Unzipping tokenizers/punkt.zip.\n"
          ]
        },
        {
          "output_type": "execute_result",
          "data": {
            "text/plain": [
              "True"
            ]
          },
          "metadata": {},
          "execution_count": 10
        }
      ]
    },
    {
      "cell_type": "code",
      "source": [
        "import pandas as pd\n",
        "import nltk\n",
        "nltk.download('stopwords')\n",
        "from nltk.corpus import stopwords\n",
        "from nltk.tokenize import word_tokenize\n",
        "from bs4 import BeautifulSoup\n",
        "import string\n",
        "string.punctuation \n",
        "stop_words = stopwords.words('english')\n",
        "# -*- coding: utf-8 -*-\n",
        "punctuation = [ c for c in string.punctuation ] + [u'\\u201c',u'\\u201d',u'\\u2018',u'\\u2019']\n",
        "import matplotlib.pyplot as plt\n",
        "import re\n",
        "from nltk.stem import WordNetLemmatizer\n",
        "nltk.download('wordnet')\n",
        "nltk.download('punkt')"
      ],
      "metadata": {
        "colab": {
          "base_uri": "https://localhost:8080/"
        },
        "id": "GZiQXPDy5Op4",
        "outputId": "7105b006-c837-445b-a3c0-3176f074a3f1"
      },
      "execution_count": null,
      "outputs": [
        {
          "output_type": "stream",
          "name": "stderr",
          "text": [
            "[nltk_data] Downloading package stopwords to /root/nltk_data...\n",
            "[nltk_data]   Unzipping corpora/stopwords.zip.\n",
            "[nltk_data] Downloading package wordnet to /root/nltk_data...\n",
            "[nltk_data]   Unzipping corpora/wordnet.zip.\n",
            "[nltk_data] Downloading package punkt to /root/nltk_data...\n",
            "[nltk_data]   Package punkt is already up-to-date!\n"
          ]
        },
        {
          "output_type": "execute_result",
          "data": {
            "text/plain": [
              "True"
            ]
          },
          "metadata": {},
          "execution_count": 11
        }
      ]
    },
    {
      "cell_type": "code",
      "source": [
        "def remove_punc(text):\n",
        "    txt=text\n",
        "    for punc in punctuation:\n",
        "        txt = txt.replace(punc, \" \")\n",
        "    txt = txt.lower()\n",
        "    return txt \n",
        "\n",
        "def remove_URL_and_HTML(row):\n",
        "    row = re.sub(r'http.*$', \"\", row)\n",
        "    row = re.sub(r'https.*$', \"\", row)\n",
        "    return row\n",
        "\n",
        "def remove_stopwords(row):\n",
        "    row = word_tokenize(row)\n",
        "    return ' '.join(w for w in row if not w in stop_words)\n",
        "\n",
        "def lemmatize(row):\n",
        "    lemmatizer = WordNetLemmatizer()\n",
        "    row = [lemmatizer.lemmatize(word) for word in row.split()]\n",
        "    return ' '.join(row)\n",
        "\n",
        "def preprocessing(col):\n",
        "    col = col.astype(str)\n",
        "    punctuation_list = col.apply(remove_punc)\n",
        "    URL = punctuation_list.apply(remove_URL_and_HTML)\n",
        "    lem = URL.apply(lemmatize)\n",
        "    word_tokens = lem.apply(remove_stopwords) \n",
        "    return word_tokens"
      ],
      "metadata": {
        "id": "kWUYQPMN5Rqr"
      },
      "execution_count": null,
      "outputs": []
    },
    {
      "cell_type": "code",
      "source": [
        "df = df.drop(columns=['Unnamed: 0'])"
      ],
      "metadata": {
        "id": "RNJEO6tQ6SkF"
      },
      "execution_count": null,
      "outputs": []
    },
    {
      "cell_type": "code",
      "source": [
        "df.shape"
      ],
      "metadata": {
        "colab": {
          "base_uri": "https://localhost:8080/"
        },
        "id": "6GVi_B3V6bIt",
        "outputId": "99d5c98d-c08a-4087-d17c-eab8877a9e4d"
      },
      "execution_count": null,
      "outputs": [
        {
          "output_type": "execute_result",
          "data": {
            "text/plain": [
              "(17071, 5)"
            ]
          },
          "metadata": {},
          "execution_count": 38
        }
      ]
    },
    {
      "cell_type": "code",
      "source": [
        "df.Text[0]"
      ],
      "metadata": {
        "colab": {
          "base_uri": "https://localhost:8080/",
          "height": 53
        },
        "id": "Kg5_souHyIpU",
        "outputId": "cc605ba0-2a6c-4954-d51a-ad0a99a5a3c4"
      },
      "execution_count": null,
      "outputs": [
        {
          "output_type": "execute_result",
          "data": {
            "text/plain": [
              "\"Rwanda policy is having 'NO impact' on migrants: UK borders inspector says numbers crossing Channel 'have gone up' https://t.co/5cVJ8bhhG1\""
            ],
            "application/vnd.google.colaboratory.intrinsic+json": {
              "type": "string"
            }
          },
          "metadata": {},
          "execution_count": 39
        }
      ]
    },
    {
      "cell_type": "code",
      "source": [
        "df_final = df.copy()"
      ],
      "metadata": {
        "id": "O6aNXCbF6fpN"
      },
      "execution_count": null,
      "outputs": []
    },
    {
      "cell_type": "code",
      "source": [
        "df_final.shape"
      ],
      "metadata": {
        "colab": {
          "base_uri": "https://localhost:8080/"
        },
        "id": "gg87HrJTfoVc",
        "outputId": "463fa50b-6cfe-4cfd-dc41-30143c6713ee"
      },
      "execution_count": null,
      "outputs": [
        {
          "output_type": "execute_result",
          "data": {
            "text/plain": [
              "(17071, 5)"
            ]
          },
          "metadata": {},
          "execution_count": 41
        }
      ]
    },
    {
      "cell_type": "code",
      "source": [
        "df_final = df_final.iloc[:4001,:]"
      ],
      "metadata": {
        "id": "GTLuHwFkebFU"
      },
      "execution_count": null,
      "outputs": []
    },
    {
      "cell_type": "code",
      "source": [
        "df_final.shape"
      ],
      "metadata": {
        "colab": {
          "base_uri": "https://localhost:8080/"
        },
        "id": "hevyOt6Lenr7",
        "outputId": "53684b40-34ed-40dc-c5cf-b90949f315e7"
      },
      "execution_count": null,
      "outputs": [
        {
          "output_type": "execute_result",
          "data": {
            "text/plain": [
              "(4001, 5)"
            ]
          },
          "metadata": {},
          "execution_count": 43
        }
      ]
    },
    {
      "cell_type": "code",
      "source": [
        "df_final.Datetime[0]"
      ],
      "metadata": {
        "colab": {
          "base_uri": "https://localhost:8080/",
          "height": 35
        },
        "id": "xNw_6VYhghI5",
        "outputId": "57bc3a18-381f-40b2-b551-a4e1184ec581"
      },
      "execution_count": null,
      "outputs": [
        {
          "output_type": "execute_result",
          "data": {
            "text/plain": [
              "'2022-06-08 16:00:06+00:00'"
            ],
            "application/vnd.google.colaboratory.intrinsic+json": {
              "type": "string"
            }
          },
          "metadata": {},
          "execution_count": 54
        }
      ]
    },
    {
      "cell_type": "code",
      "source": [
        "df_final.Datetime[4000]"
      ],
      "metadata": {
        "colab": {
          "base_uri": "https://localhost:8080/",
          "height": 35
        },
        "id": "WpMD4RwEg2mo",
        "outputId": "ffe73f5a-4760-4476-c135-6ea907940f41"
      },
      "execution_count": null,
      "outputs": [
        {
          "output_type": "execute_result",
          "data": {
            "text/plain": [
              "'2017-03-03 03:01:06+00:00'"
            ],
            "application/vnd.google.colaboratory.intrinsic+json": {
              "type": "string"
            }
          },
          "metadata": {},
          "execution_count": 53
        }
      ]
    },
    {
      "cell_type": "code",
      "source": [
        "df_final['preprocessed'] = preprocessing(df_final['Text'])"
      ],
      "metadata": {
        "id": "wz6VeeGhcs5k"
      },
      "execution_count": null,
      "outputs": []
    },
    {
      "cell_type": "code",
      "execution_count": null,
      "metadata": {
        "id": "DLqpu8MqeQTa"
      },
      "outputs": [],
      "source": [
        "# index df from 2018 - December 2020 \n",
        "list_tweets_final = [str(i) for i in df_final['preprocessed']]"
      ]
    },
    {
      "cell_type": "code",
      "execution_count": null,
      "metadata": {
        "colab": {
          "base_uri": "https://localhost:8080/"
        },
        "id": "Ykf7fEkIZ7ki",
        "outputId": "5c53ea0d-7335-4bb3-f552-d5ab6721a083"
      },
      "outputs": [
        {
          "output_type": "execute_result",
          "data": {
            "text/plain": [
              "4001"
            ]
          },
          "metadata": {},
          "execution_count": 46
        }
      ],
      "source": [
        "len(list_tweets_final)"
      ]
    },
    {
      "cell_type": "markdown",
      "source": [
        "## Run Top2Vec Model"
      ],
      "metadata": {
        "id": "anfcTtF1zBR_"
      }
    },
    {
      "cell_type": "code",
      "execution_count": null,
      "metadata": {
        "colab": {
          "base_uri": "https://localhost:8080/"
        },
        "id": "HIAezMzpVXL9",
        "outputId": "edd22fbc-a337-429f-e19d-eef102eacb5b"
      },
      "outputs": [
        {
          "output_type": "stream",
          "name": "stderr",
          "text": [
            "2022-06-16 07:53:51,942 - top2vec - INFO - Pre-processing documents for training\n",
            "/usr/local/lib/python3.7/dist-packages/sklearn/utils/deprecation.py:87: FutureWarning: Function get_feature_names is deprecated; get_feature_names is deprecated in 1.0 and will be removed in 1.2. Please use get_feature_names_out instead.\n",
            "  warnings.warn(msg, category=FutureWarning)\n",
            "2022-06-16 07:53:52,172 - top2vec - INFO - Downloading universal-sentence-encoder model\n",
            "2022-06-16 07:54:18,575 - top2vec - INFO - Creating joint document/word embedding\n",
            "INFO:top2vec:Creating joint document/word embedding\n",
            "2022-06-16 07:54:19,531 - top2vec - INFO - Creating lower dimension embedding of documents\n",
            "INFO:top2vec:Creating lower dimension embedding of documents\n",
            "/usr/local/lib/python3.7/dist-packages/numba/np/ufunc/parallel.py:363: NumbaWarning: The TBB threading layer requires TBB version 2019.5 or later i.e., TBB_INTERFACE_VERSION >= 11005. Found TBB_INTERFACE_VERSION = 9107. The TBB threading layer is disabled.\n",
            "  warnings.warn(problem)\n",
            "2022-06-16 07:55:02,646 - top2vec - INFO - Finding dense areas of documents\n",
            "INFO:top2vec:Finding dense areas of documents\n",
            "2022-06-16 07:55:03,218 - top2vec - INFO - Finding topics\n",
            "INFO:top2vec:Finding topics\n"
          ]
        },
        {
          "output_type": "stream",
          "name": "stdout",
          "text": [
            "CPU times: user 59.6 s, sys: 4.24 s, total: 1min 3s\n",
            "Wall time: 1min 11s\n"
          ]
        }
      ],
      "source": [
        "%%time \n",
        "model = Top2Vec(list_tweets_final,\n",
        "        speed='deep-learn',\n",
        "        min_count=100, \n",
        "        embedding_model='universal-sentence-encoder')"
      ]
    },
    {
      "cell_type": "code",
      "source": [
        "!ls"
      ],
      "metadata": {
        "colab": {
          "base_uri": "https://localhost:8080/"
        },
        "id": "NXtyEk4QLpvZ",
        "outputId": "30afedec-64eb-42e2-cf21-dec329febd42"
      },
      "execution_count": null,
      "outputs": [
        {
          "output_type": "stream",
          "name": "stdout",
          "text": [
            "drive  sample_data\n"
          ]
        }
      ]
    },
    {
      "cell_type": "code",
      "source": [
        "model.save('FINAL_model')"
      ],
      "metadata": {
        "id": "pRIG8uKcDdgo"
      },
      "execution_count": null,
      "outputs": []
    },
    {
      "cell_type": "code",
      "source": [
        "model"
      ],
      "metadata": {
        "colab": {
          "base_uri": "https://localhost:8080/"
        },
        "id": "Vl31C1UCLkIX",
        "outputId": "325864da-8ef4-4a2e-b6f2-d7c48bc30c1a"
      },
      "execution_count": null,
      "outputs": [
        {
          "output_type": "execute_result",
          "data": {
            "text/plain": [
              "<top2vec.Top2Vec.Top2Vec at 0x7f4625701e50>"
            ]
          },
          "metadata": {},
          "execution_count": 69
        }
      ]
    },
    {
      "cell_type": "code",
      "source": [
        "model.get_num_topics()"
      ],
      "metadata": {
        "colab": {
          "base_uri": "https://localhost:8080/"
        },
        "id": "n8WL4wFwGjgm",
        "outputId": "96315c29-6619-490c-c738-6078dc88597e"
      },
      "execution_count": null,
      "outputs": [
        {
          "output_type": "execute_result",
          "data": {
            "text/plain": [
              "37"
            ]
          },
          "metadata": {},
          "execution_count": 56
        }
      ]
    },
    {
      "cell_type": "code",
      "execution_count": null,
      "metadata": {
        "colab": {
          "base_uri": "https://localhost:8080/"
        },
        "id": "w9vFG2rdGfMb",
        "outputId": "d2910430-7d50-46bd-dbf0-e411466c96cc"
      },
      "outputs": [
        {
          "output_type": "execute_result",
          "data": {
            "text/plain": [
              "array([ 0, 32, 20,  8, 33])"
            ]
          },
          "metadata": {},
          "execution_count": 59
        }
      ],
      "source": [
        "topic_words, word_scores, topic_scores, topic_nums = model.search_topics(keywords=[\"migrant\"], num_topics=5)\n",
        "topic_nums"
      ]
    },
    {
      "cell_type": "code",
      "execution_count": null,
      "metadata": {
        "colab": {
          "base_uri": "https://localhost:8080/",
          "height": 350
        },
        "id": "CoPO0ESxHEYC",
        "outputId": "9ee21ec9-d79f-4e44-a55a-9de0f6341cc8"
      },
      "outputs": [
        {
          "output_type": "display_data",
          "data": {
            "text/plain": [
              "<Figure size 3200x800 with 1 Axes>"
            ],
            "image/png": "[encoded data removed]"
          },
          "metadata": {
            "needs_background": "light"
          }
        }
      ],
      "source": [
        "model.generate_topic_wordcloud(topic_num=32, background_color='orange')"
      ]
    },
    {
      "cell_type": "code",
      "source": [
        "model.__dict__"
      ],
      "metadata": {
        "colab": {
          "base_uri": "https://localhost:8080/"
        },
        "id": "FffSGyTYncS-",
        "outputId": "b8f78e04-8100-490d-de2b-5d2ffa0822f2"
      },
      "execution_count": null,
      "outputs": [
        {
          "output_type": "execute_result",
          "data": {
            "text/plain": [
              "{'_tokenizer': <function top2vec.Top2Vec.default_tokenizer>,\n",
              " 'doc_dist': array([0.60126376, 0.65934014, 0.6476892 , ..., 0.7081424 , 0.76525545,\n",
              "        0.732028  ], dtype=float32),\n",
              " 'doc_dist_reduced': None,\n",
              " 'doc_id2index': None,\n",
              " 'doc_id_type': numpy.int64,\n",
              " 'doc_top': array([32,  1,  1, ..., 26, 16,  1]),\n",
              " 'doc_top_reduced': None,\n",
              " 'document_ids': None,\n",
              " 'document_vectors': array([[-0.0105029 , -0.04888082,  0.05450291, ..., -0.00679502,\n",
              "         -0.05800613, -0.0646892 ],\n",
              "        [-0.00463017, -0.04627897, -0.00687668, ...,  0.05505084,\n",
              "          0.05466734, -0.0625791 ],\n",
              "        [-0.06905132, -0.06881928, -0.02828237, ...,  0.04977489,\n",
              "         -0.03271402, -0.08023053],\n",
              "        ...,\n",
              "        [-0.00352283, -0.02895978,  0.06011181, ...,  0.03403758,\n",
              "         -0.03155893, -0.07739177],\n",
              "        [ 0.02030542, -0.06755701, -0.02820391, ...,  0.02488394,\n",
              "         -0.06245465, -0.07041959],\n",
              "        [ 0.04335992, -0.0356236 , -0.0258126 , ...,  0.06476225,\n",
              "         -0.01968884, -0.07173567]], dtype=float32),\n",
              " 'documents': array(['rwanda policy impact migrant uk border inspector say number crossing channel gone',\n",
              "        'asylum seeker claim uk hotel stay worse prison',\n",
              "        'half 130 asylum seeker facing first deportation flight rwanda next week launch legal battle remain uk',\n",
              "        ...,\n",
              "        'trump administration could separate woman amp child arriving mexican border',\n",
              "        'desperate merkel fly north africa tackle migrant crisis german election',\n",
              "        'jihadist executioner asylum seeker arrested germany'],\n",
              "       dtype=object),\n",
              " 'embed': <tensorflow.python.saved_model.load.Loader._recreate_base_user_object.<locals>._UserObject at 0x7f1fcddc0b50>,\n",
              " 'embedding_model': 'universal-sentence-encoder',\n",
              " 'embedding_model_path': None,\n",
              " 'hierarchy': None,\n",
              " 'topic_sizes': 0     382\n",
              " 1     282\n",
              " 2     221\n",
              " 3     205\n",
              " 4     185\n",
              " 5     176\n",
              " 6     161\n",
              " 7     147\n",
              " 8     146\n",
              " 9     145\n",
              " 10    116\n",
              " 11    115\n",
              " 12    103\n",
              " 13    102\n",
              " 14    101\n",
              " 15     93\n",
              " 16     91\n",
              " 17     89\n",
              " 18     84\n",
              " 19     77\n",
              " 20     77\n",
              " 21     75\n",
              " 22     74\n",
              " 23     72\n",
              " 24     70\n",
              " 25     70\n",
              " 26     70\n",
              " 27     63\n",
              " 28     58\n",
              " 29     58\n",
              " 30     56\n",
              " 31     50\n",
              " 32     49\n",
              " 33     45\n",
              " 34     44\n",
              " 35     31\n",
              " 36     18\n",
              " dtype: int64,\n",
              " 'topic_sizes_reduced': None,\n",
              " 'topic_vectors': array([[ 0.02921301, -0.01249556,  0.01154029, ...,  0.00022515,\n",
              "         -0.06158718, -0.09699539],\n",
              "        [-0.01057659, -0.02706461,  0.00356669, ...,  0.03143509,\n",
              "         -0.0325635 , -0.09965143],\n",
              "        [-0.04850336, -0.02745127, -0.03866718, ...,  0.00723061,\n",
              "         -0.05575327, -0.11342414],\n",
              "        ...,\n",
              "        [-0.02651254, -0.05072968,  0.0436775 , ...,  0.05295405,\n",
              "         -0.08080406, -0.09504106],\n",
              "        [ 0.01872199, -0.00768126,  0.08320937, ...,  0.00709701,\n",
              "         -0.07160205, -0.09879202],\n",
              "        [-0.00393289, -0.03060514,  0.0628373 , ...,  0.05377176,\n",
              "         -0.0599651 , -0.08902502]], dtype=float32),\n",
              " 'topic_vectors_reduced': None,\n",
              " 'topic_word_scores': array([[ 0.4873141 ,  0.3717285 ,  0.28117323, ..., -0.05687707,\n",
              "         -0.05988271, -0.08773696],\n",
              "        [ 0.5136755 ,  0.4465564 ,  0.38591987, ..., -0.0447425 ,\n",
              "         -0.04819471, -0.12738067],\n",
              "        [ 0.3831895 ,  0.35190076,  0.34132594, ..., -0.04336099,\n",
              "         -0.05598573, -0.08380155],\n",
              "        ...,\n",
              "        [ 0.40983143,  0.36302757,  0.26776445, ..., -0.07158983,\n",
              "         -0.08269437, -0.10386997],\n",
              "        [ 0.24708891,  0.18522263,  0.14868486, ..., -0.07391594,\n",
              "         -0.08100041, -0.08305699],\n",
              "        [ 0.3277501 ,  0.276859  ,  0.23421347, ..., -0.08752823,\n",
              "         -0.10260805, -0.13292561]], dtype=float32),\n",
              " 'topic_word_scores_reduced': None,\n",
              " 'topic_words': array([['migrant', 'refugee', 'immigrant', ..., 'year', 'wa', 'day'],\n",
              "        ['asylum', 'refugee', 'migrant', ..., 'people', 'channel', 'day'],\n",
              "        ['migrant', 'immigrant', 'immigration', ..., 'two', 'channel',\n",
              "         'day'],\n",
              "        ...,\n",
              "        ['refugee', 'migrant', 'asylum', ..., 'wa', 'channel', 'day'],\n",
              "        ['border', 'afghan', 'ukraine', ..., 'priti', 'take', 'day'],\n",
              "        ['refugee', 'migrant', 'ukrainian', ..., 'year', 'plan', 'day']],\n",
              "       dtype='<U11'),\n",
              " 'topic_words_reduced': None,\n",
              " 'verbose': True,\n",
              " 'vocab': ['afghan',\n",
              "  'asylum',\n",
              "  'back',\n",
              "  'boat',\n",
              "  'border',\n",
              "  'brexit',\n",
              "  'britain',\n",
              "  'british',\n",
              "  'camp',\n",
              "  'channel',\n",
              "  'child',\n",
              "  'claim',\n",
              "  'could',\n",
              "  'crisis',\n",
              "  'crossing',\n",
              "  'day',\n",
              "  'eu',\n",
              "  'force',\n",
              "  'france',\n",
              "  'ha',\n",
              "  'home',\n",
              "  'illegal',\n",
              "  'immigrant',\n",
              "  'immigration',\n",
              "  'irish',\n",
              "  'migrant',\n",
              "  'migration',\n",
              "  'new',\n",
              "  'patel',\n",
              "  'people',\n",
              "  'plan',\n",
              "  'police',\n",
              "  'priti',\n",
              "  'refugee',\n",
              "  'say',\n",
              "  'seeker',\n",
              "  'stop',\n",
              "  'take',\n",
              "  'two',\n",
              "  'uk',\n",
              "  'ukraine',\n",
              "  'ukrainian',\n",
              "  'visa',\n",
              "  'wa',\n",
              "  'year'],\n",
              " 'word2index': {'afghan': 0,\n",
              "  'asylum': 1,\n",
              "  'back': 2,\n",
              "  'boat': 3,\n",
              "  'border': 4,\n",
              "  'brexit': 5,\n",
              "  'britain': 6,\n",
              "  'british': 7,\n",
              "  'camp': 8,\n",
              "  'channel': 9,\n",
              "  'child': 10,\n",
              "  'claim': 11,\n",
              "  'could': 12,\n",
              "  'crisis': 13,\n",
              "  'crossing': 14,\n",
              "  'day': 15,\n",
              "  'eu': 16,\n",
              "  'force': 17,\n",
              "  'france': 18,\n",
              "  'ha': 19,\n",
              "  'home': 20,\n",
              "  'illegal': 21,\n",
              "  'immigrant': 22,\n",
              "  'immigration': 23,\n",
              "  'irish': 24,\n",
              "  'migrant': 25,\n",
              "  'migration': 26,\n",
              "  'new': 27,\n",
              "  'patel': 28,\n",
              "  'people': 29,\n",
              "  'plan': 30,\n",
              "  'police': 31,\n",
              "  'priti': 32,\n",
              "  'refugee': 33,\n",
              "  'say': 34,\n",
              "  'seeker': 35,\n",
              "  'stop': 36,\n",
              "  'take': 37,\n",
              "  'two': 38,\n",
              "  'uk': 39,\n",
              "  'ukraine': 40,\n",
              "  'ukrainian': 41,\n",
              "  'visa': 42,\n",
              "  'wa': 43,\n",
              "  'year': 44},\n",
              " 'word_vectors': array([[ 0.00610242, -0.01722009, -0.0074536 , ..., -0.05521342,\n",
              "         -0.04496996, -0.0788148 ],\n",
              "        [-0.00227891, -0.00879772,  0.06546993, ...,  0.03114686,\n",
              "          0.0791186 , -0.06495421],\n",
              "        [-0.06732713, -0.02622825,  0.02202974, ..., -0.0044814 ,\n",
              "          0.04039044, -0.02338361],\n",
              "        ...,\n",
              "        [-0.07719053, -0.06703741,  0.06858733, ...,  0.01651015,\n",
              "         -0.04880505, -0.08177527],\n",
              "        [-0.04110146,  0.01577656, -0.00309702, ..., -0.05438431,\n",
              "         -0.00869409,  0.00209767],\n",
              "        [-0.06842232, -0.07376894,  0.00058   , ..., -0.05037265,\n",
              "         -0.02969537, -0.0073164 ]], dtype=float32)}"
            ]
          },
          "metadata": {},
          "execution_count": 61
        }
      ]
    },
    {
      "cell_type": "code",
      "execution_count": null,
      "metadata": {
        "id": "OzbBR42FEy39"
      },
      "outputs": [],
      "source": [
        "vectors = model._get_document_vectors()"
      ]
    },
    {
      "cell_type": "code",
      "source": [
        "vectors[0]"
      ],
      "metadata": {
        "colab": {
          "base_uri": "https://localhost:8080/"
        },
        "id": "y-lf8MLlfN5a",
        "outputId": "ac6cd1fe-8a79-40b8-aab6-4cc9e6351034"
      },
      "execution_count": null,
      "outputs": [
        {
          "output_type": "execute_result",
          "data": {
            "text/plain": [
              "array([-0.0105029 , -0.04888082,  0.05450291, -0.01742627, -0.02206396,\n",
              "       -0.00980145,  0.04833677,  0.04183814,  0.05447833, -0.04317443,\n",
              "        0.06296565,  0.00265519,  0.03020651, -0.02295602,  0.0060702 ,\n",
              "       -0.06390067,  0.03965926,  0.06665177, -0.05669326,  0.0361309 ,\n",
              "       -0.06626053,  0.01053466, -0.05686637,  0.02385085, -0.0162731 ,\n",
              "       -0.03327205, -0.07064608, -0.0144244 ,  0.04853556,  0.02768666,\n",
              "       -0.05314651,  0.03313374,  0.04431308, -0.00999994, -0.02077753,\n",
              "        0.06189359,  0.0062275 ,  0.06745995,  0.03671676, -0.03072318,\n",
              "       -0.01965091, -0.01532106,  0.02888988, -0.04704227, -0.03320899,\n",
              "       -0.06155219,  0.03480608, -0.03157261,  0.01350481, -0.00791449,\n",
              "       -0.06787694,  0.05785088, -0.05496293,  0.05007748,  0.04001269,\n",
              "       -0.06925967,  0.02806556, -0.00148885, -0.02963036,  0.04194764,\n",
              "       -0.00250567,  0.01247062, -0.00152526, -0.0255656 ,  0.05800908,\n",
              "        0.03121937,  0.06068539, -0.00427341,  0.03867865, -0.01689092,\n",
              "        0.04820649,  0.04258763, -0.04419333,  0.02988531, -0.032254  ,\n",
              "       -0.0341011 ,  0.04811145, -0.00916748, -0.04593609, -0.07633545,\n",
              "       -0.00100847,  0.01959884, -0.02788697, -0.06339021, -0.06530968,\n",
              "       -0.04382072,  0.04270414,  0.07679451, -0.05976801, -0.03236629,\n",
              "       -0.05934227,  0.04028902, -0.01236801, -0.06006676,  0.04687247,\n",
              "       -0.03284394, -0.00391691,  0.06277566,  0.04772886,  0.02846915,\n",
              "        0.03422138,  0.00375599, -0.00319143,  0.00271562, -0.03028465,\n",
              "        0.01415109, -0.00927683, -0.01848747,  0.02493131,  0.0232079 ,\n",
              "       -0.06510225, -0.0115522 , -0.06163132,  0.06696676,  0.05218291,\n",
              "        0.0360147 ,  0.05390763, -0.00035804, -0.05862245,  0.00996011,\n",
              "        0.04932305,  0.074398  , -0.06234398,  0.06348278,  0.03047583,\n",
              "       -0.06167327,  0.08054573,  0.06799667, -0.01890732,  0.05816077,\n",
              "        0.02532603, -0.05871568,  0.01465446, -0.03883508,  0.01710034,\n",
              "       -0.06305854,  0.04264851,  0.0649505 , -0.01231931,  0.07407031,\n",
              "        0.0522697 ,  0.01972803, -0.015267  ,  0.04556867, -0.02228817,\n",
              "       -0.07360701, -0.00568314, -0.02346099,  0.05143113, -0.05728468,\n",
              "       -0.07425703,  0.05666489,  0.01029959,  0.01673273,  0.06598791,\n",
              "       -0.05623644,  0.078056  ,  0.00501861,  0.02869881,  0.07554367,\n",
              "       -0.05124775, -0.04792121, -0.00040318,  0.04213317, -0.06414355,\n",
              "        0.00112252,  0.04506474,  0.07048834,  0.01613824, -0.0208453 ,\n",
              "        0.06693431, -0.07631955, -0.04846112, -0.04523901,  0.0129696 ,\n",
              "        0.05818803,  0.01526593, -0.06450666, -0.07996861,  0.05545741,\n",
              "        0.06326813,  0.06791907,  0.01158917,  0.02936929,  0.06972326,\n",
              "        0.04985774, -0.06021259, -0.04518041, -0.04781302,  0.02866961,\n",
              "        0.04238911, -0.01827726, -0.04571288, -0.00114058, -0.05573393,\n",
              "       -0.04464007, -0.06948464,  0.05698254,  0.05737879, -0.06320295,\n",
              "       -0.08054128,  0.06319681,  0.04987369, -0.01915975,  0.02124747,\n",
              "        0.04799958, -0.07987577, -0.04243815,  0.01673003, -0.0165361 ,\n",
              "       -0.01742199,  0.0591606 ,  0.00770741, -0.05409306, -0.02166714,\n",
              "       -0.05276214,  0.00894305, -0.04662521, -0.0089621 ,  0.02533946,\n",
              "        0.04615397,  0.07294208, -0.03876423,  0.06918625, -0.02076849,\n",
              "        0.06850472,  0.00975432,  0.00963428,  0.06248257, -0.00172986,\n",
              "        0.05195064, -0.04109369,  0.00405954, -0.05951881, -0.01671972,\n",
              "        0.00545524, -0.02224682, -0.03490892, -0.05183592, -0.05697855,\n",
              "        0.02915383,  0.0261691 , -0.01222534, -0.03432548,  0.07722115,\n",
              "        0.06116735, -0.02852873,  0.06763864,  0.01776861,  0.04533107,\n",
              "        0.04475222,  0.06545221,  0.00916744,  0.07015982,  0.0565921 ,\n",
              "       -0.02338845,  0.01900941, -0.02906187, -0.02211281,  0.05192742,\n",
              "       -0.04292597, -0.01558941, -0.063072  ,  0.05145898, -0.05915552,\n",
              "       -0.03153934, -0.05411588,  0.03216491, -0.07492365,  0.05162766,\n",
              "       -0.04617958, -0.00632804, -0.06592745,  0.00304211, -0.04906502,\n",
              "        0.04632359,  0.03641236, -0.05991795,  0.01851384, -0.05472248,\n",
              "       -0.03767973,  0.06036114, -0.0267602 ,  0.05048067, -0.01885614,\n",
              "        0.0166585 ,  0.02534612, -0.0273246 ,  0.03173219,  0.03279504,\n",
              "        0.03051802, -0.05332211, -0.01590915,  0.01916631, -0.04657671,\n",
              "       -0.06536693, -0.02617931, -0.03766223,  0.00889726,  0.0392441 ,\n",
              "       -0.05913599,  0.04121913, -0.0132541 , -0.02605636, -0.00501816,\n",
              "        0.06041172, -0.03301894, -0.05532612, -0.06936907, -0.01102058,\n",
              "        0.00632001,  0.04117778, -0.05105523, -0.05285626,  0.03552654,\n",
              "       -0.0354139 ,  0.01955464, -0.03942587, -0.07686999,  0.00954901,\n",
              "        0.04396719,  0.01777826,  0.05532065, -0.06649728, -0.04121759,\n",
              "        0.0570109 ,  0.0011756 , -0.05106967, -0.03957405,  0.03128399,\n",
              "        0.06066898,  0.047559  , -0.05586153,  0.03535157,  0.03677313,\n",
              "       -0.03961611, -0.05444852,  0.01618547, -0.00278542, -0.04380668,\n",
              "        0.05812357,  0.02285279, -0.07241931, -0.06392261, -0.01931481,\n",
              "        0.06125143, -0.07732931, -0.06749284, -0.00926484,  0.07620408,\n",
              "        0.03894976,  0.05527005, -0.01352835,  0.03509881,  0.07052199,\n",
              "        0.02061599, -0.0652326 , -0.03899271,  0.03748851,  0.03362375,\n",
              "        0.03447727,  0.03143542, -0.0512705 ,  0.0451418 , -0.03915712,\n",
              "        0.06369042, -0.05797043,  0.00060941,  0.00418007,  0.0607901 ,\n",
              "       -0.01651526, -0.0251939 ,  0.02848994, -0.02980284, -0.00434615,\n",
              "        0.02607217,  0.04581615,  0.02509016,  0.00822968,  0.00925112,\n",
              "        0.06364909, -0.01868428, -0.03405599, -0.02853052,  0.00272911,\n",
              "        0.04672373,  0.0115577 ,  0.05501773, -0.04875695, -0.00675729,\n",
              "        0.04804841, -0.0381493 ,  0.05490933,  0.07871858, -0.07190742,\n",
              "        0.00045276,  0.04360231, -0.00071042, -0.03411136, -0.04830103,\n",
              "        0.0278756 , -0.00755716, -0.04650561, -0.02090437, -0.03200002,\n",
              "       -0.07230578, -0.04635558,  0.02243399, -0.00818317,  0.00012015,\n",
              "        0.01794909,  0.05043286,  0.03325335,  0.06603505, -0.00393479,\n",
              "       -0.02699942,  0.02471479,  0.05797292,  0.02846923, -0.05692744,\n",
              "       -0.03573081,  0.04933614, -0.06070029,  0.05313866,  0.00268405,\n",
              "       -0.007953  , -0.06274287, -0.0231616 ,  0.02286063, -0.02724171,\n",
              "       -0.02800919,  0.04245615,  0.00977526,  0.00562638,  0.00988504,\n",
              "       -0.05575281, -0.067408  , -0.0473529 , -0.00249204, -0.03183402,\n",
              "       -0.02780665, -0.02774634,  0.01107449, -0.03638865,  0.02241675,\n",
              "        0.07125733,  0.044205  , -0.05872125,  0.06464321,  0.00228967,\n",
              "        0.014689  ,  0.07236251, -0.01007139, -0.02107647, -0.04695466,\n",
              "       -0.05870467,  0.05156745,  0.01726969, -0.07192823,  0.03410694,\n",
              "       -0.0277041 , -0.01879734, -0.07526854,  0.04861723, -0.06678239,\n",
              "       -0.05331066,  0.03047705, -0.02614606,  0.07582127, -0.02314346,\n",
              "        0.06000359,  0.06790289, -0.05561575,  0.02961235, -0.07033304,\n",
              "        0.00449399, -0.00717418, -0.06980836, -0.01652069,  0.01632802,\n",
              "       -0.01497991, -0.05195738, -0.04935243, -0.0416574 , -0.00302081,\n",
              "        0.01347231, -0.07327816, -0.03029393, -0.04222815,  0.06152708,\n",
              "       -0.06230474,  0.03548645,  0.02815818, -0.01192135,  0.0607728 ,\n",
              "        0.07345697,  0.0628281 , -0.06325262, -0.0610023 ,  0.02265406,\n",
              "       -0.00419665, -0.00507237, -0.06133309,  0.02239812, -0.04328606,\n",
              "        0.00798404, -0.02012936, -0.00289149,  0.06239374, -0.00679502,\n",
              "       -0.05800613, -0.0646892 ], dtype=float32)"
            ]
          },
          "metadata": {},
          "execution_count": 63
        }
      ]
    },
    {
      "cell_type": "markdown",
      "source": [
        "## Principal Component Analysis - to reduce vectors to 50 dims for embedding projector"
      ],
      "metadata": {
        "id": "CZNTyOv1yfIZ"
      }
    },
    {
      "cell_type": "code",
      "source": [
        "from sklearn.decomposition import PCA\n",
        "from sklearn.preprocessing import StandardScaler"
      ],
      "metadata": {
        "id": "mtck_w7SfRE4"
      },
      "execution_count": null,
      "outputs": []
    },
    {
      "cell_type": "code",
      "source": [
        "scaler = StandardScaler()\n",
        "scaler.fit(vectors)"
      ],
      "metadata": {
        "colab": {
          "base_uri": "https://localhost:8080/"
        },
        "id": "DEObnIhpfbyu",
        "outputId": "9ab12ac5-9536-4299-bc18-0553d98582c0"
      },
      "execution_count": null,
      "outputs": [
        {
          "output_type": "execute_result",
          "data": {
            "text/plain": [
              "StandardScaler()"
            ]
          },
          "metadata": {},
          "execution_count": 65
        }
      ]
    },
    {
      "cell_type": "code",
      "source": [
        "transformed_vectors = scaler.transform(vectors)\n",
        "transformed_vectors"
      ],
      "metadata": {
        "colab": {
          "base_uri": "https://localhost:8080/"
        },
        "id": "gynPcOFzfy8E",
        "outputId": "fa073a76-2dd6-4491-8b6a-690a4e73be20"
      },
      "execution_count": null,
      "outputs": [
        {
          "output_type": "execute_result",
          "data": {
            "text/plain": [
              "array([[-0.45129743, -0.49756783,  1.306032  , ..., -0.8019718 ,\n",
              "        -0.6049886 ,  0.00613937],\n",
              "       [-0.2882727 , -0.42924148, -0.31002015, ...,  1.0402709 ,\n",
              "         2.795818  ,  0.10315482],\n",
              "       [-2.0765765 , -1.0211651 , -0.8736068 , ...,  0.8831129 ,\n",
              "         0.15839949, -0.7084022 ],\n",
              "       ...,\n",
              "       [-0.25753355,  0.02557217,  1.4537075 , ...,  0.4143353 ,\n",
              "         0.19326338, -0.5778847 ],\n",
              "       [ 0.40392858, -0.98801726, -0.8715409 , ...,  0.14166991,\n",
              "        -0.73925775, -0.25732625],\n",
              "       [ 1.0439117 , -0.14942437, -0.8085807 , ...,  1.3295511 ,\n",
              "         0.55153656, -0.31783536]], dtype=float32)"
            ]
          },
          "metadata": {},
          "execution_count": 66
        }
      ]
    },
    {
      "cell_type": "code",
      "source": [
        "pca = PCA(n_components=50)\n",
        "pca.fit(transformed_vectors)\n",
        "pca_vectors = pca.transform(transformed_vectors)\n",
        "pca_df = pd.DataFrame(pca_vectors)"
      ],
      "metadata": {
        "id": "3-LaFymYgx2k"
      },
      "execution_count": null,
      "outputs": []
    },
    {
      "cell_type": "code",
      "source": [
        "pca_df.shape"
      ],
      "metadata": {
        "colab": {
          "base_uri": "https://localhost:8080/"
        },
        "id": "wyAuA9pnhiIs",
        "outputId": "d7c9899d-24da-4c80-c2f3-a3aa44496b2a"
      },
      "execution_count": null,
      "outputs": [
        {
          "output_type": "execute_result",
          "data": {
            "text/plain": [
              "(4001, 50)"
            ]
          },
          "metadata": {},
          "execution_count": 68
        }
      ]
    },
    {
      "cell_type": "code",
      "source": [
        "reduced_pca_df = pca_df.iloc[:4000,]"
      ],
      "metadata": {
        "id": "BZHQ_uvlw4Wg"
      },
      "execution_count": null,
      "outputs": []
    },
    {
      "cell_type": "markdown",
      "source": [
        "Create vector TSV file for tensorflowm embedding projector"
      ],
      "metadata": {
        "id": "zMRx35sEzcQU"
      }
    },
    {
      "cell_type": "code",
      "source": [
        "reduced_pca_df.to_csv('4kuniPCAembedding.tsv', sep='\\t', encoding='utf-8', index=False)"
      ],
      "metadata": {
        "id": "Y8DkdRd5xLrm"
      },
      "execution_count": null,
      "outputs": []
    },
    {
      "cell_type": "code",
      "source": [
        "!pwd"
      ],
      "metadata": {
        "colab": {
          "base_uri": "https://localhost:8080/"
        },
        "id": "4FuTXVS6hmfU",
        "outputId": "2dc44dc3-fd66-43dc-ed84-e299810a5da3"
      },
      "execution_count": null,
      "outputs": [
        {
          "output_type": "stream",
          "name": "stdout",
          "text": [
            "/content\n"
          ]
        }
      ]
    },
    {
      "cell_type": "code",
      "source": [
        ""
      ],
      "metadata": {
        "id": "LJ3arQCrxQqm"
      },
      "execution_count": null,
      "outputs": []
    },
    {
      "cell_type": "code",
      "source": [
        "pca_df.to_csv('PCAembedding.tsv', sep='\\t', encoding='utf-8', index=False)"
      ],
      "metadata": {
        "id": "SCSa3qXiiLO0"
      },
      "execution_count": null,
      "outputs": []
    },
    {
      "cell_type": "code",
      "source": [
        "!pwd"
      ],
      "metadata": {
        "colab": {
          "base_uri": "https://localhost:8080/"
        },
        "id": "zk1UNGUDicZO",
        "outputId": "437713cf-f36d-46b0-97e6-c228174db3c2"
      },
      "execution_count": null,
      "outputs": [
        {
          "output_type": "stream",
          "name": "stdout",
          "text": [
            "/content\n"
          ]
        }
      ]
    },
    {
      "cell_type": "code",
      "execution_count": null,
      "metadata": {
        "id": "ZodB50z4drDt"
      },
      "outputs": [],
      "source": [
        "#embedding_df = pd.DataFrame(vectors)"
      ]
    },
    {
      "cell_type": "code",
      "source": [
        "#embedding_df.shape"
      ],
      "metadata": {
        "colab": {
          "base_uri": "https://localhost:8080/"
        },
        "id": "m9Cdv6eVGzso",
        "outputId": "2c501d72-1e0a-4c16-dfd1-fd1d7a239bb9"
      },
      "execution_count": null,
      "outputs": [
        {
          "output_type": "execute_result",
          "data": {
            "text/plain": [
              "(17071, 300)"
            ]
          },
          "metadata": {},
          "execution_count": 135
        }
      ]
    },
    {
      "cell_type": "code",
      "source": [
        "#embedding_df.to_csv('embedding.tsv', sep='\\t', encoding='utf-8', index=False)"
      ],
      "metadata": {
        "id": "z-kyw-NRoFGf"
      },
      "execution_count": null,
      "outputs": []
    },
    {
      "cell_type": "markdown",
      "source": [
        "## Prepare metadata TSV file for tensorflow embedding projector"
      ],
      "metadata": {
        "id": "8w6GRM1ZzmT_"
      }
    },
    {
      "cell_type": "code",
      "source": [
        "df_roberta = pd.read_csv('/content/drive/MyDrive/data/roberta datasets/roberta_for_embedding.csv')"
      ],
      "metadata": {
        "id": "CAfwtgLgpWrH"
      },
      "execution_count": null,
      "outputs": []
    },
    {
      "cell_type": "code",
      "source": [
        "df_roberta.head()"
      ],
      "metadata": {
        "colab": {
          "base_uri": "https://localhost:8080/",
          "height": 791
        },
        "id": "PG7ASSG-2lVJ",
        "outputId": "f8401216-78e5-4315-a280-74c44e188e7f"
      },
      "execution_count": null,
      "outputs": [
        {
          "output_type": "execute_result",
          "data": {
            "text/plain": [
              "   Unnamed: 0                   Datetime             Tweet Id  \\\n",
              "0           0  2022-06-08 16:00:06+00:00  1534565944374267909   \n",
              "1           1  2022-06-08 12:56:00+00:00  1534519612200562689   \n",
              "2           2  2022-06-08 01:30:08+00:00  1534347009406251008   \n",
              "3           3  2022-06-07 11:37:57+00:00  1534137584338845696   \n",
              "4           4  2022-06-05 03:29:56+00:00  1533289994584002561   \n",
              "\n",
              "                                                Text       Username  \\\n",
              "0  Rwanda policy is having 'NO impact' on migrant...    DailyMailUK   \n",
              "1  Asylum seeker claims UK hotel stay is 'worse t...  Daily_Express   \n",
              "2  More than half the 130 asylum-seekers facing f...     MailOnline   \n",
              "3  'Rwanda plan is NOT working': 80 migrants land...    DailyMailUK   \n",
              "4  Anger as hundreds of refugee children from Ukr...     MailOnline   \n",
              "\n",
              "   Like Count     joy  optimism   anger  sadness  positive  neutral  negative  \n",
              "0         2.0  0.0087    0.0678  0.4097   0.5138    0.0166   0.4520    0.5313  \n",
              "1         8.0  0.0075    0.0162  0.7976   0.1787    0.0054   0.1190    0.8756  \n",
              "2         8.0  0.0218    0.1511  0.5018   0.3253    0.0217   0.7471    0.2312  \n",
              "3         5.0  0.0084    0.0223  0.1745   0.7949    0.0052   0.1088    0.8860  \n",
              "4        16.0  0.0090    0.0191  0.8268   0.1451    0.0048   0.1251    0.8701  "
            ],
            "text/html": [
              "\n",
              "  <div id=\"df-b3797f8a-b6d3-4d72-852f-5a3a6ab47495\">\n",
              "    <div class=\"colab-df-container\">\n",
              "      <div>\n",
              "<style scoped>\n",
              "    .dataframe tbody tr th:only-of-type {\n",
              "        vertical-align: middle;\n",
              "    }\n",
              "\n",
              "    .dataframe tbody tr th {\n",
              "        vertical-align: top;\n",
              "    }\n",
              "\n",
              "    .dataframe thead th {\n",
              "        text-align: right;\n",
              "    }\n",
              "</style>\n",
              "<table border=\"1\" class=\"dataframe\">\n",
              "  <thead>\n",
              "    <tr style=\"text-align: right;\">\n",
              "      <th></th>\n",
              "      <th>Unnamed: 0</th>\n",
              "      <th>Datetime</th>\n",
              "      <th>Tweet Id</th>\n",
              "      <th>Text</th>\n",
              "      <th>Username</th>\n",
              "      <th>Like Count</th>\n",
              "      <th>joy</th>\n",
              "      <th>optimism</th>\n",
              "      <th>anger</th>\n",
              "      <th>sadness</th>\n",
              "      <th>positive</th>\n",
              "      <th>neutral</th>\n",
              "      <th>negative</th>\n",
              "    </tr>\n",
              "  </thead>\n",
              "  <tbody>\n",
              "    <tr>\n",
              "      <th>0</th>\n",
              "      <td>0</td>\n",
              "      <td>2022-06-08 16:00:06+00:00</td>\n",
              "      <td>1534565944374267909</td>\n",
              "      <td>Rwanda policy is having 'NO impact' on migrant...</td>\n",
              "      <td>DailyMailUK</td>\n",
              "      <td>2.0</td>\n",
              "      <td>0.0087</td>\n",
              "      <td>0.0678</td>\n",
              "      <td>0.4097</td>\n",
              "      <td>0.5138</td>\n",
              "      <td>0.0166</td>\n",
              "      <td>0.4520</td>\n",
              "      <td>0.5313</td>\n",
              "    </tr>\n",
              "    <tr>\n",
              "      <th>1</th>\n",
              "      <td>1</td>\n",
              "      <td>2022-06-08 12:56:00+00:00</td>\n",
              "      <td>1534519612200562689</td>\n",
              "      <td>Asylum seeker claims UK hotel stay is 'worse t...</td>\n",
              "      <td>Daily_Express</td>\n",
              "      <td>8.0</td>\n",
              "      <td>0.0075</td>\n",
              "      <td>0.0162</td>\n",
              "      <td>0.7976</td>\n",
              "      <td>0.1787</td>\n",
              "      <td>0.0054</td>\n",
              "      <td>0.1190</td>\n",
              "      <td>0.8756</td>\n",
              "    </tr>\n",
              "    <tr>\n",
              "      <th>2</th>\n",
              "      <td>2</td>\n",
              "      <td>2022-06-08 01:30:08+00:00</td>\n",
              "      <td>1534347009406251008</td>\n",
              "      <td>More than half the 130 asylum-seekers facing f...</td>\n",
              "      <td>MailOnline</td>\n",
              "      <td>8.0</td>\n",
              "      <td>0.0218</td>\n",
              "      <td>0.1511</td>\n",
              "      <td>0.5018</td>\n",
              "      <td>0.3253</td>\n",
              "      <td>0.0217</td>\n",
              "      <td>0.7471</td>\n",
              "      <td>0.2312</td>\n",
              "    </tr>\n",
              "    <tr>\n",
              "      <th>3</th>\n",
              "      <td>3</td>\n",
              "      <td>2022-06-07 11:37:57+00:00</td>\n",
              "      <td>1534137584338845696</td>\n",
              "      <td>'Rwanda plan is NOT working': 80 migrants land...</td>\n",
              "      <td>DailyMailUK</td>\n",
              "      <td>5.0</td>\n",
              "      <td>0.0084</td>\n",
              "      <td>0.0223</td>\n",
              "      <td>0.1745</td>\n",
              "      <td>0.7949</td>\n",
              "      <td>0.0052</td>\n",
              "      <td>0.1088</td>\n",
              "      <td>0.8860</td>\n",
              "    </tr>\n",
              "    <tr>\n",
              "      <th>4</th>\n",
              "      <td>4</td>\n",
              "      <td>2022-06-05 03:29:56+00:00</td>\n",
              "      <td>1533289994584002561</td>\n",
              "      <td>Anger as hundreds of refugee children from Ukr...</td>\n",
              "      <td>MailOnline</td>\n",
              "      <td>16.0</td>\n",
              "      <td>0.0090</td>\n",
              "      <td>0.0191</td>\n",
              "      <td>0.8268</td>\n",
              "      <td>0.1451</td>\n",
              "      <td>0.0048</td>\n",
              "      <td>0.1251</td>\n",
              "      <td>0.8701</td>\n",
              "    </tr>\n",
              "  </tbody>\n",
              "</table>\n",
              "</div>\n",
              "      <button class=\"colab-df-convert\" onclick=\"convertToInteractive('df-b3797f8a-b6d3-4d72-852f-5a3a6ab47495')\"\n",
              "              title=\"Convert this dataframe to an interactive table.\"\n",
              "              style=\"display:none;\">\n",
              "        \n",
              "  <svg xmlns=\"http://www.w3.org/2000/svg\" height=\"24px\"viewBox=\"0 0 24 24\"\n",
              "       width=\"24px\">\n",
              "    <path d=\"M0 0h24v24H0V0z\" fill=\"none\"/>\n",
              "    <path d=\"M18.56 5.44l.94 2.06.94-2.06 2.06-.94-2.06-.94-.94-2.06-.94 2.06-2.06.94zm-11 1L8.5 8.5l.94-2.06 2.06-.94-2.06-.94L8.5 2.5l-.94 2.06-2.06.94zm10 10l.94 2.06.94-2.06 2.06-.94-2.06-.94-.94-2.06-.94 2.06-2.06.94z\"/><path d=\"M17.41 7.96l-1.37-1.37c-.4-.4-.92-.59-1.43-.59-.52 0-1.04.2-1.43.59L10.3 9.45l-7.72 7.72c-.78.78-.78 2.05 0 2.83L4 21.41c.39.39.9.59 1.41.59.51 0 1.02-.2 1.41-.59l7.78-7.78 2.81-2.81c.8-.78.8-2.07 0-2.86zM5.41 20L4 18.59l7.72-7.72 1.47 1.35L5.41 20z\"/>\n",
              "  </svg>\n",
              "      </button>\n",
              "      \n",
              "  <style>\n",
              "    .colab-df-container {\n",
              "      display:flex;\n",
              "      flex-wrap:wrap;\n",
              "      gap: 12px;\n",
              "    }\n",
              "\n",
              "    .colab-df-convert {\n",
              "      background-color: #E8F0FE;\n",
              "      border: none;\n",
              "      border-radius: 50%;\n",
              "      cursor: pointer;\n",
              "      display: none;\n",
              "      fill: #1967D2;\n",
              "      height: 32px;\n",
              "      padding: 0 0 0 0;\n",
              "      width: 32px;\n",
              "    }\n",
              "\n",
              "    .colab-df-convert:hover {\n",
              "      background-color: #E2EBFA;\n",
              "      box-shadow: 0px 1px 2px rgba(60, 64, 67, 0.3), 0px 1px 3px 1px rgba(60, 64, 67, 0.15);\n",
              "      fill: #174EA6;\n",
              "    }\n",
              "\n",
              "    [theme=dark] .colab-df-convert {\n",
              "      background-color: #3B4455;\n",
              "      fill: #D2E3FC;\n",
              "    }\n",
              "\n",
              "    [theme=dark] .colab-df-convert:hover {\n",
              "      background-color: #434B5C;\n",
              "      box-shadow: 0px 1px 3px 1px rgba(0, 0, 0, 0.15);\n",
              "      filter: drop-shadow(0px 1px 2px rgba(0, 0, 0, 0.3));\n",
              "      fill: #FFFFFF;\n",
              "    }\n",
              "  </style>\n",
              "\n",
              "      <script>\n",
              "        const buttonEl =\n",
              "          document.querySelector('#df-b3797f8a-b6d3-4d72-852f-5a3a6ab47495 button.colab-df-convert');\n",
              "        buttonEl.style.display =\n",
              "          google.colab.kernel.accessAllowed ? 'block' : 'none';\n",
              "\n",
              "        async function convertToInteractive(key) {\n",
              "          const element = document.querySelector('#df-b3797f8a-b6d3-4d72-852f-5a3a6ab47495');\n",
              "          const dataTable =\n",
              "            await google.colab.kernel.invokeFunction('convertToInteractive',\n",
              "                                                     [key], {});\n",
              "          if (!dataTable) return;\n",
              "\n",
              "          const docLinkHtml = 'Like what you see? Visit the ' +\n",
              "            '<a target=\"_blank\" href=https://colab.research.google.com/notebooks/data_table.ipynb>data table notebook</a>'\n",
              "            + ' to learn more about interactive tables.';\n",
              "          element.innerHTML = '';\n",
              "          dataTable['output_type'] = 'display_data';\n",
              "          await google.colab.output.renderOutput(dataTable, element);\n",
              "          const docLink = document.createElement('div');\n",
              "          docLink.innerHTML = docLinkHtml;\n",
              "          element.appendChild(docLink);\n",
              "        }\n",
              "      </script>\n",
              "    </div>\n",
              "  </div>\n",
              "  "
            ]
          },
          "metadata": {},
          "execution_count": 73
        }
      ]
    },
    {
      "cell_type": "code",
      "source": [
        "df_roberta = df_roberta.drop(columns=['Unnamed: 0'])\n",
        "df_roberta"
      ],
      "metadata": {
        "colab": {
          "base_uri": "https://localhost:8080/",
          "height": 1000
        },
        "id": "BZbtbXf5q9YC",
        "outputId": "7d59fd46-9a6b-4632-ec13-94410c8b9761"
      },
      "execution_count": null,
      "outputs": [
        {
          "output_type": "execute_result",
          "data": {
            "text/plain": [
              "                        Datetime             Tweet Id  \\\n",
              "0      2022-06-08 16:00:06+00:00  1534565944374267909   \n",
              "1      2022-06-08 12:56:00+00:00  1534519612200562689   \n",
              "2      2022-06-08 01:30:08+00:00  1534347009406251008   \n",
              "3      2022-06-07 11:37:57+00:00  1534137584338845696   \n",
              "4      2022-06-05 03:29:56+00:00  1533289994584002561   \n",
              "...                          ...                  ...   \n",
              "17066  2008-08-20 12:54:31+00:00            893204721   \n",
              "17067  2008-08-19 12:51:42+00:00            892082485   \n",
              "17068  2008-08-18 20:22:00+00:00            891418251   \n",
              "17069  2008-08-14 12:52:03+00:00            887337505   \n",
              "17070  2008-08-10 19:19:10+00:00            883467151   \n",
              "\n",
              "                                                    Text       Username  \\\n",
              "0      Rwanda policy is having 'NO impact' on migrant...    DailyMailUK   \n",
              "1      Asylum seeker claims UK hotel stay is 'worse t...  Daily_Express   \n",
              "2      More than half the 130 asylum-seekers facing f...     MailOnline   \n",
              "3      'Rwanda plan is NOT working': 80 migrants land...    DailyMailUK   \n",
              "4      Anger as hundreds of refugee children from Ukr...     MailOnline   \n",
              "...                                                  ...            ...   \n",
              "17066  Thailand officials to deport laughing Glitter ...     MailOnline   \n",
              "17067  Pictured: The trail of destruction left by bus...     MailOnline   \n",
              "17068  One killed and up to 40 injured after migrant ...     MailOnline   \n",
              "17069  Gary Glitter to be deported back to Britain af...     MailOnline   \n",
              "17070  Russia sinks Georgian warship and &#039;bomb T...     MailOnline   \n",
              "\n",
              "       Like Count     joy  optimism   anger  sadness  positive  neutral  \\\n",
              "0             2.0  0.0087    0.0678  0.4097   0.5138    0.0166   0.4520   \n",
              "1             8.0  0.0075    0.0162  0.7976   0.1787    0.0054   0.1190   \n",
              "2             8.0  0.0218    0.1511  0.5018   0.3253    0.0217   0.7471   \n",
              "3             5.0  0.0084    0.0223  0.1745   0.7949    0.0052   0.1088   \n",
              "4            16.0  0.0090    0.0191  0.8268   0.1451    0.0048   0.1251   \n",
              "...           ...     ...       ...     ...      ...       ...      ...   \n",
              "17066         0.0  0.0263    0.0436  0.0841   0.8461    0.0183   0.7520   \n",
              "17067         0.0  0.0080    0.0136  0.0493   0.9291    0.0056   0.1451   \n",
              "17068         0.0  0.0096    0.0271  0.0941   0.8692    0.0059   0.2041   \n",
              "17069         0.0  0.0341    0.0182  0.3142   0.6335    0.0101   0.4600   \n",
              "17070         0.0  0.0186    0.0289  0.5830   0.3695    0.0073   0.3182   \n",
              "\n",
              "       negative  \n",
              "0        0.5313  \n",
              "1        0.8756  \n",
              "2        0.2312  \n",
              "3        0.8860  \n",
              "4        0.8701  \n",
              "...         ...  \n",
              "17066    0.2297  \n",
              "17067    0.8493  \n",
              "17068    0.7900  \n",
              "17069    0.5299  \n",
              "17070    0.6746  \n",
              "\n",
              "[17071 rows x 12 columns]"
            ],
            "text/html": [
              "\n",
              "  <div id=\"df-ea8fb047-7573-44e4-98da-8e2e8ce977d7\">\n",
              "    <div class=\"colab-df-container\">\n",
              "      <div>\n",
              "<style scoped>\n",
              "    .dataframe tbody tr th:only-of-type {\n",
              "        vertical-align: middle;\n",
              "    }\n",
              "\n",
              "    .dataframe tbody tr th {\n",
              "        vertical-align: top;\n",
              "    }\n",
              "\n",
              "    .dataframe thead th {\n",
              "        text-align: right;\n",
              "    }\n",
              "</style>\n",
              "<table border=\"1\" class=\"dataframe\">\n",
              "  <thead>\n",
              "    <tr style=\"text-align: right;\">\n",
              "      <th></th>\n",
              "      <th>Datetime</th>\n",
              "      <th>Tweet Id</th>\n",
              "      <th>Text</th>\n",
              "      <th>Username</th>\n",
              "      <th>Like Count</th>\n",
              "      <th>joy</th>\n",
              "      <th>optimism</th>\n",
              "      <th>anger</th>\n",
              "      <th>sadness</th>\n",
              "      <th>positive</th>\n",
              "      <th>neutral</th>\n",
              "      <th>negative</th>\n",
              "    </tr>\n",
              "  </thead>\n",
              "  <tbody>\n",
              "    <tr>\n",
              "      <th>0</th>\n",
              "      <td>2022-06-08 16:00:06+00:00</td>\n",
              "      <td>1534565944374267909</td>\n",
              "      <td>Rwanda policy is having 'NO impact' on migrant...</td>\n",
              "      <td>DailyMailUK</td>\n",
              "      <td>2.0</td>\n",
              "      <td>0.0087</td>\n",
              "      <td>0.0678</td>\n",
              "      <td>0.4097</td>\n",
              "      <td>0.5138</td>\n",
              "      <td>0.0166</td>\n",
              "      <td>0.4520</td>\n",
              "      <td>0.5313</td>\n",
              "    </tr>\n",
              "    <tr>\n",
              "      <th>1</th>\n",
              "      <td>2022-06-08 12:56:00+00:00</td>\n",
              "      <td>1534519612200562689</td>\n",
              "      <td>Asylum seeker claims UK hotel stay is 'worse t...</td>\n",
              "      <td>Daily_Express</td>\n",
              "      <td>8.0</td>\n",
              "      <td>0.0075</td>\n",
              "      <td>0.0162</td>\n",
              "      <td>0.7976</td>\n",
              "      <td>0.1787</td>\n",
              "      <td>0.0054</td>\n",
              "      <td>0.1190</td>\n",
              "      <td>0.8756</td>\n",
              "    </tr>\n",
              "    <tr>\n",
              "      <th>2</th>\n",
              "      <td>2022-06-08 01:30:08+00:00</td>\n",
              "      <td>1534347009406251008</td>\n",
              "      <td>More than half the 130 asylum-seekers facing f...</td>\n",
              "      <td>MailOnline</td>\n",
              "      <td>8.0</td>\n",
              "      <td>0.0218</td>\n",
              "      <td>0.1511</td>\n",
              "      <td>0.5018</td>\n",
              "      <td>0.3253</td>\n",
              "      <td>0.0217</td>\n",
              "      <td>0.7471</td>\n",
              "      <td>0.2312</td>\n",
              "    </tr>\n",
              "    <tr>\n",
              "      <th>3</th>\n",
              "      <td>2022-06-07 11:37:57+00:00</td>\n",
              "      <td>1534137584338845696</td>\n",
              "      <td>'Rwanda plan is NOT working': 80 migrants land...</td>\n",
              "      <td>DailyMailUK</td>\n",
              "      <td>5.0</td>\n",
              "      <td>0.0084</td>\n",
              "      <td>0.0223</td>\n",
              "      <td>0.1745</td>\n",
              "      <td>0.7949</td>\n",
              "      <td>0.0052</td>\n",
              "      <td>0.1088</td>\n",
              "      <td>0.8860</td>\n",
              "    </tr>\n",
              "    <tr>\n",
              "      <th>4</th>\n",
              "      <td>2022-06-05 03:29:56+00:00</td>\n",
              "      <td>1533289994584002561</td>\n",
              "      <td>Anger as hundreds of refugee children from Ukr...</td>\n",
              "      <td>MailOnline</td>\n",
              "      <td>16.0</td>\n",
              "      <td>0.0090</td>\n",
              "      <td>0.0191</td>\n",
              "      <td>0.8268</td>\n",
              "      <td>0.1451</td>\n",
              "      <td>0.0048</td>\n",
              "      <td>0.1251</td>\n",
              "      <td>0.8701</td>\n",
              "    </tr>\n",
              "    <tr>\n",
              "      <th>...</th>\n",
              "      <td>...</td>\n",
              "      <td>...</td>\n",
              "      <td>...</td>\n",
              "      <td>...</td>\n",
              "      <td>...</td>\n",
              "      <td>...</td>\n",
              "      <td>...</td>\n",
              "      <td>...</td>\n",
              "      <td>...</td>\n",
              "      <td>...</td>\n",
              "      <td>...</td>\n",
              "      <td>...</td>\n",
              "    </tr>\n",
              "    <tr>\n",
              "      <th>17066</th>\n",
              "      <td>2008-08-20 12:54:31+00:00</td>\n",
              "      <td>893204721</td>\n",
              "      <td>Thailand officials to deport laughing Glitter ...</td>\n",
              "      <td>MailOnline</td>\n",
              "      <td>0.0</td>\n",
              "      <td>0.0263</td>\n",
              "      <td>0.0436</td>\n",
              "      <td>0.0841</td>\n",
              "      <td>0.8461</td>\n",
              "      <td>0.0183</td>\n",
              "      <td>0.7520</td>\n",
              "      <td>0.2297</td>\n",
              "    </tr>\n",
              "    <tr>\n",
              "      <th>17067</th>\n",
              "      <td>2008-08-19 12:51:42+00:00</td>\n",
              "      <td>892082485</td>\n",
              "      <td>Pictured: The trail of destruction left by bus...</td>\n",
              "      <td>MailOnline</td>\n",
              "      <td>0.0</td>\n",
              "      <td>0.0080</td>\n",
              "      <td>0.0136</td>\n",
              "      <td>0.0493</td>\n",
              "      <td>0.9291</td>\n",
              "      <td>0.0056</td>\n",
              "      <td>0.1451</td>\n",
              "      <td>0.8493</td>\n",
              "    </tr>\n",
              "    <tr>\n",
              "      <th>17068</th>\n",
              "      <td>2008-08-18 20:22:00+00:00</td>\n",
              "      <td>891418251</td>\n",
              "      <td>One killed and up to 40 injured after migrant ...</td>\n",
              "      <td>MailOnline</td>\n",
              "      <td>0.0</td>\n",
              "      <td>0.0096</td>\n",
              "      <td>0.0271</td>\n",
              "      <td>0.0941</td>\n",
              "      <td>0.8692</td>\n",
              "      <td>0.0059</td>\n",
              "      <td>0.2041</td>\n",
              "      <td>0.7900</td>\n",
              "    </tr>\n",
              "    <tr>\n",
              "      <th>17069</th>\n",
              "      <td>2008-08-14 12:52:03+00:00</td>\n",
              "      <td>887337505</td>\n",
              "      <td>Gary Glitter to be deported back to Britain af...</td>\n",
              "      <td>MailOnline</td>\n",
              "      <td>0.0</td>\n",
              "      <td>0.0341</td>\n",
              "      <td>0.0182</td>\n",
              "      <td>0.3142</td>\n",
              "      <td>0.6335</td>\n",
              "      <td>0.0101</td>\n",
              "      <td>0.4600</td>\n",
              "      <td>0.5299</td>\n",
              "    </tr>\n",
              "    <tr>\n",
              "      <th>17070</th>\n",
              "      <td>2008-08-10 19:19:10+00:00</td>\n",
              "      <td>883467151</td>\n",
              "      <td>Russia sinks Georgian warship and &amp;#039;bomb T...</td>\n",
              "      <td>MailOnline</td>\n",
              "      <td>0.0</td>\n",
              "      <td>0.0186</td>\n",
              "      <td>0.0289</td>\n",
              "      <td>0.5830</td>\n",
              "      <td>0.3695</td>\n",
              "      <td>0.0073</td>\n",
              "      <td>0.3182</td>\n",
              "      <td>0.6746</td>\n",
              "    </tr>\n",
              "  </tbody>\n",
              "</table>\n",
              "<p>17071 rows × 12 columns</p>\n",
              "</div>\n",
              "      <button class=\"colab-df-convert\" onclick=\"convertToInteractive('df-ea8fb047-7573-44e4-98da-8e2e8ce977d7')\"\n",
              "              title=\"Convert this dataframe to an interactive table.\"\n",
              "              style=\"display:none;\">\n",
              "        \n",
              "  <svg xmlns=\"http://www.w3.org/2000/svg\" height=\"24px\"viewBox=\"0 0 24 24\"\n",
              "       width=\"24px\">\n",
              "    <path d=\"M0 0h24v24H0V0z\" fill=\"none\"/>\n",
              "    <path d=\"M18.56 5.44l.94 2.06.94-2.06 2.06-.94-2.06-.94-.94-2.06-.94 2.06-2.06.94zm-11 1L8.5 8.5l.94-2.06 2.06-.94-2.06-.94L8.5 2.5l-.94 2.06-2.06.94zm10 10l.94 2.06.94-2.06 2.06-.94-2.06-.94-.94-2.06-.94 2.06-2.06.94z\"/><path d=\"M17.41 7.96l-1.37-1.37c-.4-.4-.92-.59-1.43-.59-.52 0-1.04.2-1.43.59L10.3 9.45l-7.72 7.72c-.78.78-.78 2.05 0 2.83L4 21.41c.39.39.9.59 1.41.59.51 0 1.02-.2 1.41-.59l7.78-7.78 2.81-2.81c.8-.78.8-2.07 0-2.86zM5.41 20L4 18.59l7.72-7.72 1.47 1.35L5.41 20z\"/>\n",
              "  </svg>\n",
              "      </button>\n",
              "      \n",
              "  <style>\n",
              "    .colab-df-container {\n",
              "      display:flex;\n",
              "      flex-wrap:wrap;\n",
              "      gap: 12px;\n",
              "    }\n",
              "\n",
              "    .colab-df-convert {\n",
              "      background-color: #E8F0FE;\n",
              "      border: none;\n",
              "      border-radius: 50%;\n",
              "      cursor: pointer;\n",
              "      display: none;\n",
              "      fill: #1967D2;\n",
              "      height: 32px;\n",
              "      padding: 0 0 0 0;\n",
              "      width: 32px;\n",
              "    }\n",
              "\n",
              "    .colab-df-convert:hover {\n",
              "      background-color: #E2EBFA;\n",
              "      box-shadow: 0px 1px 2px rgba(60, 64, 67, 0.3), 0px 1px 3px 1px rgba(60, 64, 67, 0.15);\n",
              "      fill: #174EA6;\n",
              "    }\n",
              "\n",
              "    [theme=dark] .colab-df-convert {\n",
              "      background-color: #3B4455;\n",
              "      fill: #D2E3FC;\n",
              "    }\n",
              "\n",
              "    [theme=dark] .colab-df-convert:hover {\n",
              "      background-color: #434B5C;\n",
              "      box-shadow: 0px 1px 3px 1px rgba(0, 0, 0, 0.15);\n",
              "      filter: drop-shadow(0px 1px 2px rgba(0, 0, 0, 0.3));\n",
              "      fill: #FFFFFF;\n",
              "    }\n",
              "  </style>\n",
              "\n",
              "      <script>\n",
              "        const buttonEl =\n",
              "          document.querySelector('#df-ea8fb047-7573-44e4-98da-8e2e8ce977d7 button.colab-df-convert');\n",
              "        buttonEl.style.display =\n",
              "          google.colab.kernel.accessAllowed ? 'block' : 'none';\n",
              "\n",
              "        async function convertToInteractive(key) {\n",
              "          const element = document.querySelector('#df-ea8fb047-7573-44e4-98da-8e2e8ce977d7');\n",
              "          const dataTable =\n",
              "            await google.colab.kernel.invokeFunction('convertToInteractive',\n",
              "                                                     [key], {});\n",
              "          if (!dataTable) return;\n",
              "\n",
              "          const docLinkHtml = 'Like what you see? Visit the ' +\n",
              "            '<a target=\"_blank\" href=https://colab.research.google.com/notebooks/data_table.ipynb>data table notebook</a>'\n",
              "            + ' to learn more about interactive tables.';\n",
              "          element.innerHTML = '';\n",
              "          dataTable['output_type'] = 'display_data';\n",
              "          await google.colab.output.renderOutput(dataTable, element);\n",
              "          const docLink = document.createElement('div');\n",
              "          docLink.innerHTML = docLinkHtml;\n",
              "          element.appendChild(docLink);\n",
              "        }\n",
              "      </script>\n",
              "    </div>\n",
              "  </div>\n",
              "  "
            ]
          },
          "metadata": {},
          "execution_count": 74
        }
      ]
    },
    {
      "cell_type": "markdown",
      "source": [
        "Previous Top2Vec viz with plotly - ignore hashed cells"
      ],
      "metadata": {
        "id": "IEEgbZCbr2ij"
      }
    },
    {
      "cell_type": "code",
      "execution_count": null,
      "metadata": {
        "id": "TVSpWYoqgE4x"
      },
      "outputs": [],
      "source": [
        "# reduced2d = umap.UMAP(n_neighbors=15, n_components=2, metric='cosine', verbose=True).fit_transform(vectors)"
      ]
    },
    {
      "cell_type": "code",
      "execution_count": null,
      "metadata": {
        "id": "aAQx2jRxgQDA"
      },
      "outputs": [],
      "source": [
        "# import matplotlib.pyplot as plt\n",
        "# x, y = reduced2d[:,0], reduced2d[:,1]\n",
        "# plt.scatter(x,y)"
      ]
    },
    {
      "cell_type": "code",
      "execution_count": null,
      "metadata": {
        "id": "9RblOdXGhovz"
      },
      "outputs": [],
      "source": [
        "# reduced3d = umap.UMAP(n_neighbors=15, n_components=3, metric='cosine', verbose=True).fit_transform(vectors)"
      ]
    },
    {
      "cell_type": "code",
      "execution_count": null,
      "metadata": {
        "id": "a3f0tb98jV0H"
      },
      "outputs": [],
      "source": [
        "# reduced3d.shape"
      ]
    },
    {
      "cell_type": "code",
      "execution_count": null,
      "metadata": {
        "id": "YtJUIrx0h6zp"
      },
      "outputs": [],
      "source": [
        "# import plotly.express as px\n",
        "# fig = px.scatter_3d(x=reduced3d[:,0], y=reduced3d[:,1], z=reduced3d[:,2])\n",
        "# fig.show()"
      ]
    },
    {
      "cell_type": "code",
      "execution_count": null,
      "metadata": {
        "id": "0TjBF9Z6hcei"
      },
      "outputs": [],
      "source": [
        "# topic_of_interest = 0\n",
        "# topic_sizes, topic_nums = model_final.get_topic_sizes()\n",
        "# documents, document_scores, document_ids = model_final.search_documents_by_topic(topic_num=topic_of_interest, num_docs=topic_sizes[topic_of_interest])"
      ]
    },
    {
      "cell_type": "code",
      "source": [
        "model.get_num_topics()"
      ],
      "metadata": {
        "colab": {
          "base_uri": "https://localhost:8080/"
        },
        "id": "4sGaiNS1sA9P",
        "outputId": "2b3b1684-5f57-411b-d582-af18c72303dc"
      },
      "execution_count": null,
      "outputs": [
        {
          "output_type": "execute_result",
          "data": {
            "text/plain": [
              "37"
            ]
          },
          "metadata": {},
          "execution_count": 75
        }
      ]
    },
    {
      "cell_type": "code",
      "source": [
        "df_roberta = df_roberta.iloc[:4001,:]"
      ],
      "metadata": {
        "id": "HGCCT5kmiSnn"
      },
      "execution_count": null,
      "outputs": []
    },
    {
      "cell_type": "code",
      "source": [
        "df_roberta.shape"
      ],
      "metadata": {
        "colab": {
          "base_uri": "https://localhost:8080/"
        },
        "id": "JzLAyr0TiXT1",
        "outputId": "440d1c00-005b-4696-fabd-144db6a24a69"
      },
      "execution_count": null,
      "outputs": [
        {
          "output_type": "execute_result",
          "data": {
            "text/plain": [
              "(4001, 12)"
            ]
          },
          "metadata": {},
          "execution_count": 77
        }
      ]
    },
    {
      "cell_type": "markdown",
      "source": [
        "Create a Topic column - assign topic number per row / tweet in df"
      ],
      "metadata": {
        "id": "9825IxXN0IV1"
      }
    },
    {
      "cell_type": "code",
      "source": [
        "topic_of_interest = np.arange(0, 37, 1)\n",
        "dict_tweet = {}\n",
        "for topic in topic_of_interest:\n",
        "  topic_sizes, topic_nums = model.get_topic_sizes()\n",
        "  documents, document_scores, document_ids = model.search_documents_by_topic(topic_num=topic, num_docs=topic_sizes[topic])\n",
        "  dict_tweet[topic] = [document_ids]"
      ],
      "metadata": {
        "id": "87DCWPHRllRu"
      },
      "execution_count": null,
      "outputs": []
    },
    {
      "cell_type": "code",
      "source": [
        "dict_tweet"
      ],
      "metadata": {
        "colab": {
          "base_uri": "https://localhost:8080/"
        },
        "id": "PSDqUMAAjRnd",
        "outputId": "de1d110f-0b99-4e7a-e2af-7d2a0a8e87e5"
      },
      "execution_count": null,
      "outputs": [
        {
          "output_type": "execute_result",
          "data": {
            "text/plain": [
              "{0: [array([2550, 1174, 1760, 1759, 1262, 1520, 1519, 1180, 1178, 1762, 2355,\n",
              "         1094, 1983, 2443, 1264,  969,  971,  988,  777, 1261, 1880, 1976,\n",
              "         1978, 1226,  184, 2046, 2999, 1297, 2522, 1160, 2491, 1959, 1663,\n",
              "         1974, 1199, 1201, 1939, 1665, 1773,  703, 1947, 2757, 2268, 1230,\n",
              "         2613, 2868, 1988, 2300, 2772, 1981, 2759, 3849, 1794, 1374,  717,\n",
              "         1302, 1420, 2463, 2023, 2710, 1991, 1523, 3920, 1944, 1917, 1979,\n",
              "         2140, 2153, 1190, 2764, 1918, 1920, 1995, 3757,  519, 2667,  663,\n",
              "          664, 2386, 2013,  761,  770, 3754, 3919,  799, 2089, 1761,  769,\n",
              "         1200, 2704, 2097,  905, 2265, 3264, 1537, 1536, 1785, 1774, 1584,\n",
              "         2565, 1834, 2686,  661, 2785,  762,  748, 1824, 1823, 2427, 2580,\n",
              "         1176, 2951, 2002, 1299,  831, 2419, 2333, 2723,  763,  679, 1274,\n",
              "         1675, 1271, 1154, 3315, 1902, 2642, 2324, 1248, 2503, 2504, 2506,\n",
              "          151, 2700, 1314, 1866, 1867, 1869, 1945, 2586, 2948, 1215, 1217,\n",
              "          131, 1515, 1108, 3142, 2411, 2618, 1864, 1861, 1842, 3317, 3213,\n",
              "         1478,  718,  757, 2289,  543, 2926, 2960, 2108, 2846, 1286, 2956,\n",
              "         2880, 1741, 1975, 1881, 1878, 1919, 3086,  778, 2121, 3791,  753,\n",
              "         3551, 1752,  680,  681,  996, 1166, 2830, 1033, 1032,  892, 1778,\n",
              "         2837, 3221, 1780, 2529, 1899,  677, 2273, 3029,  934,  935,   77,\n",
              "         2232, 1269,  673, 1812, 1992, 3662, 1763, 1905, 1906, 1935, 2577,\n",
              "          667, 1070, 1066,  810,  919, 2418, 2124, 1985,   56,   55, 2390,\n",
              "         2389, 1868,  751, 1039, 1641, 1726,  111, 1856, 1993, 2266, 1289,\n",
              "          141,  182,  240, 1371, 3523, 3522,  261, 1777,  859,  525,  554,\n",
              "         2877, 1120, 1960, 1796,  808, 2081, 2494,  678,  675,  136, 2725,\n",
              "         2536, 3925, 1459, 2861, 3518,  127, 1466, 1354,  590,  657,  658,\n",
              "         1161,  666, 1943, 2908, 2925, 1968,  475, 3506,  949, 1913, 2104,\n",
              "          730,  801,  806, 1207, 1208, 2516, 1016, 1019, 1062, 2902, 3599,\n",
              "         3600, 3782, 1846, 1228, 3020, 1578, 1722, 1723, 3584, 1887, 1531,\n",
              "          895, 1457, 1458, 1990,  920, 2502, 1954, 3864, 3148,   45,  750,\n",
              "         1551,  230, 1058, 2057, 2620, 1183, 3525, 2705,  973,  974, 1057,\n",
              "         1149, 1153, 1858, 3000, 1875,  729,  645, 1781, 1753, 1320, 1170,\n",
              "         1169, 1418, 1911, 1220, 1381, 1380,  842,   11, 1972, 2543, 1004,\n",
              "         2874, 3018, 2693, 2263, 3049,  254, 3848,   26,   27,   29,  723,\n",
              "         1232, 2554, 2998, 1179,  239, 3524, 1352, 2399, 2072, 3335, 2648,\n",
              "         3903, 1465, 2209, 1205,  497, 3250, 1811,  912, 1764, 2233, 2450,\n",
              "         3540, 3541, 2783, 1799, 1800, 2031, 2032, 2033])],\n",
              " 1: [array([2659, 2597, 3023, 2798, 3156, 3210, 1031, 2603, 3137, 3041, 3614,\n",
              "         2771, 1034, 3786, 3448, 2487, 3643, 3360, 3359, 3358, 3361, 3362,\n",
              "         3363, 2873, 3067, 3899, 3804, 3383, 3696, 2770, 2342, 1449, 1448,\n",
              "         2278, 4000, 3090, 3089, 3563, 2754, 2570, 3749, 3946, 3940, 2490,\n",
              "         3461, 3119, 1737, 1524, 3650, 1791, 3772,  668,  669,  670, 1355,\n",
              "         3425, 3935,  290, 3902, 3469, 2277, 1490, 2365,  959, 3389, 1937,\n",
              "         1941, 1317, 1318, 1600, 1599, 2753, 2630,  517, 1961, 2646, 2765,\n",
              "         3276, 1324, 3226, 3225, 2596, 2802,  836, 3505, 3503, 3764, 3173,\n",
              "         3135, 2039, 1994,    1, 3455, 2611, 3203, 1148, 2752,  822, 3256,\n",
              "         3427,    2, 2403, 3390, 3291, 2676, 3382,  139, 3857, 1192, 2292,\n",
              "         1073,  941, 2128, 1385, 3443, 3219,  926, 2176, 2177, 1526, 1525,\n",
              "         3787, 2452, 3439, 3438, 3901, 2381, 3125,  817, 3120, 2668, 1821,\n",
              "         1820, 3354, 2729,  638,  641, 3631, 3632, 3633, 3620, 2755, 1787,\n",
              "         3868, 3805, 3676, 3194, 3103,  790, 2465,  179, 2901, 1853, 1585,\n",
              "         3978, 2219, 2218, 1502, 2724, 3155,  542, 2041, 3298, 2206,  820,\n",
              "         1313, 1315, 3666, 3664, 3829, 3830, 3828, 2784, 3400, 2363, 1816,\n",
              "         2651, 1830, 1832, 1544,  550, 2733, 1517, 3449, 1638, 1605,  794,\n",
              "         3993,  692,  170, 1681, 2899, 2980, 1749, 3231, 1912, 1276, 1165,\n",
              "         2042, 1873, 3374, 3274,  212, 1851, 3365, 3386, 1000, 1717, 3854,\n",
              "          768,  771,  766, 3227, 1852, 1221, 2369, 1953, 1958, 3060, 1293,\n",
              "         3871, 2787, 1797, 2780, 2683, 1839, 1817, 2681, 2513, 1989, 1987,\n",
              "         1291, 1751,  772, 3763, 3762,  351,  350, 3767,  160, 1740, 1739,\n",
              "          168, 2501, 3065,  824,  823, 3289, 3562, 2066,  845, 2270, 2862,\n",
              "         2473, 2306, 3607,   93, 1783,   31, 2844,  918, 1770,  955,  107,\n",
              "          106,  104,  108,  105, 2762, 2068, 2067, 2930, 1275, 2564, 2017,\n",
              "         1925, 2371, 2558, 2461, 2410, 3608, 2800])],\n",
              " 2: [array([2112, 2647, 2288,  157, 3013,  194, 3413, 2708, 3560, 3208, 2688,\n",
              "         2827, 2607, 2317, 1735, 1398, 1486, 2569, 2475,  193, 2478, 3027,\n",
              "         3410, 2021,   41, 1065, 1068, 2476, 3897, 1186, 2692, 2639, 3286,\n",
              "         3861, 1727, 2482, 3913, 3911, 2230, 2584, 1724, 3462, 2477, 3273,\n",
              "         2078, 3024, 1518, 1748, 3305, 3756, 3755, 2889, 1266, 2533, 3196,\n",
              "          685, 1069, 1677, 1829, 2923, 1550, 1547, 1549, 3136, 3108, 2307,\n",
              "         3412, 3912, 2629, 1831, 2285, 3204, 3533, 3534, 2394, 2617, 3207,\n",
              "         3355, 3243, 2685, 2684, 1775, 1485, 1308, 2380, 2226, 3700, 2485,\n",
              "          904, 2728, 1392,  858, 3692, 2315, 2492, 1606, 3470, 3209, 2572,\n",
              "         1362, 3536, 2909, 2396, 1725, 2542, 3685, 2022,  686, 3480, 3731,\n",
              "         1321,  541, 3356, 2005, 2575, 3288, 3719, 3714, 3977, 1450, 3624,\n",
              "         3622, 3043, 1136,   19, 1746, 1328, 3684, 2876, 3312, 1210, 1213,\n",
              "         3040, 2545,  928, 2623, 2625, 2377, 2259, 2314, 1649, 2745, 2671,\n",
              "         3263, 3628, 1195, 1334, 1336, 2927, 2234,  760, 2166, 3663,  647,\n",
              "         3042, 1267,  632,  877, 3751, 2721, 3752, 3936, 3938, 3546, 2437,\n",
              "         2641, 2111, 3501, 2744,  872, 1583, 2898,  138, 1451, 3705, 3750,\n",
              "         2262, 1237,  242,  786, 1844, 1934, 3900, 1504,   98, 2135,  690,\n",
              "         2290, 2146, 2538, 1479, 2224, 2398, 2424, 2069, 2778, 3002, 1871,\n",
              "         2571, 3323, 2264, 1729, 2284, 2459, 2431,   71, 1487, 1239, 3745,\n",
              "         2408, 1611, 2786, 2637, 2809, 3619, 3064, 2180, 2660, 2593,  291,\n",
              "         2566])],\n",
              " 3: [array([3150, 3153, 3151, 3152, 3066, 2447, 3055, 3784, 3313, 3348, 2767,\n",
              "         2870, 2847, 1067, 3433, 3435, 3434, 3432, 3703, 3704, 3325, 3192,\n",
              "         3303, 2825, 1720, 1556, 3307, 3588, 2822, 3304, 3297, 2793, 3241,\n",
              "         3242, 3240, 3117, 3116, 3074, 3591, 3092, 3528, 3508, 3507, 3516,\n",
              "         3513, 2776, 2781, 2712, 2748, 2928, 3395, 2938, 3314, 3206, 2592,\n",
              "         2852, 3570, 3569, 1253, 3350, 2826, 3296, 3094, 3095, 3075, 3426,\n",
              "         3545, 3732, 3733, 2848, 3510, 3141, 3882, 3293, 2414, 1652, 2587,\n",
              "         3399, 3398, 3299, 3320, 3093,   95, 3511, 3512, 3514,  784, 1586,\n",
              "         3109, 2196, 1530, 2345, 2821, 3385, 2922, 1532, 2857, 3547, 3302,\n",
              "         3301, 3139, 2824, 1700, 1043, 2432, 3159, 3158, 2643, 3785, 3106,\n",
              "         3005, 2808, 2635, 3590, 1694, 1499, 3247,   59, 3144,  662, 3212,\n",
              "         3214, 3054, 3515, 3517, 1661, 2442, 1303, 1304, 2027, 3640, 3641,\n",
              "         2812, 2517,  642, 3339, 3340,  636,  634, 1683, 1653, 2911, 3047,\n",
              "         3161, 3308, 3290,  459, 1572, 1573, 3295, 1874, 1862, 1601, 3309,\n",
              "         3310, 3311, 2065, 1598, 1596, 1635, 3044,  720,   52, 1657, 2804,\n",
              "         1288, 3589, 3553,  844, 3891, 3131, 3873, 1668, 2471, 2707, 2929,\n",
              "         3292, 2599, 2831, 3168, 3875, 3063, 2810, 3777, 2699, 1580, 1660,\n",
              "         1553,   62, 3134, 2374, 2823,   48,   49, 1522,  640, 3193, 3855,\n",
              "         2429, 3380, 2717,  515,  514, 2077, 1593])],\n",
              " 4: [array([ 330,  243,  363,  322,  223,  219,  122,  366,  255,  121,  401,\n",
              "          267,  266,  287,  288,  292,  258,  273,  181,  268,  384,  382,\n",
              "          331,  119,  435,  439,  436,  393,  359,  388,  349,  444,  364,\n",
              "          360,  352,  252,  371,   18,  199,  188,  277,  280,  279,  262,\n",
              "          275,  412,   33,   36,  260,  348,  496,  377,  419,  417,  422,\n",
              "          129,  375,  421,  423,   82,   83,  235,  356,  208,   25,  314,\n",
              "          192,  281,  368,  274,   24,   21,  215,   30,  432,  407,  402,\n",
              "          372,  251,  247,  191,  299,  394,  448,  271,  222,  347,  342,\n",
              "          339,  224,  259,  256,  361,  265,  264,  213,   34,  379,  286,\n",
              "          284,  220,  221,    4,  303,  229,  325,  228,  285,  396,  324,\n",
              "         3267,   17,  232,  390,  358,   74,  248,   90,  410,  392,  196,\n",
              "           28,  187,  333,  335,  337,  210,  244,  245,  381,  383,  389,\n",
              "           22,  289,  365,  362, 1238,  344,   35,   32,  370,  395,  415,\n",
              "          441,  253,  414,  341,  237,   50,   73,  246,  238,  236,    9,\n",
              "          386,  397,  323,  320,  315,  420,  102,  154,   66,  103,  313,\n",
              "          336,  719,  343,  225,  400,  651,  185,  309, 1481, 3661, 1102,\n",
              "          906,   38, 1788,  263,  132, 3776,  345,  633,  631])],\n",
              " 5: [array([1456, 1447,  465, 1416, 1415,  856, 1428, 2740,  487,  490,  488,\n",
              "          317,  310,  603,  134,  135,  329,   51,  716, 1438,  540,    6,\n",
              "          145,  684,  650, 1442, 1443, 1441, 1437,  682,  498,  353,  683,\n",
              "          327,  846,  530,  532,  533,  529,  531,  538,   58, 1444,  555,\n",
              "          404,  534,  523,  524, 1417,  537,  233,   81,  560,  462,  483,\n",
              "          463, 1384,  486,  854,  450,  501,  521,  576, 3488,  504,  367,\n",
              "         1254, 3837, 3834,  700,  110,  837, 2016,   76,  440,  443,  438,\n",
              "          437,  482,  559,  489,  698,  659,  454,  470, 1103, 2495, 1440,\n",
              "         1281, 3436, 1446, 3467,   47,   46,  494,  696, 2372,  473,  472,\n",
              "          328,  424,  852,  214, 3154, 2567,  493,   88,  850,  701,   54,\n",
              "         1897, 2518, 2519, 1426,  338,  189, 1453,  460, 2282,  307,  197,\n",
              "          204,  202,  200, 3727, 3724, 3723, 3725, 1898, 3808,  234,  495,\n",
              "         3838,  190, 3987,  474,  257,  311,  206,  408,  446, 2610, 1894,\n",
              "         1280,  241,  505,  427,  464,  321,  346,  442, 2910, 3933,  209,\n",
              "         2161,  452,  449,  326, 1662,  357, 2509, 2455,  282,  399,  451,\n",
              "          455,  300,  301,  406,  270,  283,  269, 3420,  405,  403,  652])],\n",
              " 6: [array([2074, 1631, 1827, 2799, 2352, 2351, 2335, 1493, 2347, 2301, 2336,\n",
              "         2009, 2010, 1719, 1214, 2304, 2350, 2320, 2319, 2337, 2361, 2338,\n",
              "         1826, 3718, 1558, 1559, 1557, 1818, 1714, 1715, 2353, 2349, 2184,\n",
              "         2366, 2359, 1701, 3147, 2343, 1789, 1795, 1835, 2872, 2357, 2360,\n",
              "         2344, 2661, 1718, 2340, 1712, 1750, 1198, 1197, 3701, 3702, 3458,\n",
              "         3456, 2339, 2362, 2174, 2114, 1793,  946, 2341, 2918, 2305, 3542,\n",
              "         2605, 1971, 1203,  776,  773,  775, 1758, 1560, 1561, 2331, 2303,\n",
              "          665, 2356, 3792, 1998, 1691, 3057, 1552, 3683, 2367, 1330,  649,\n",
              "         3575, 3579, 3577, 3576, 3578, 3583, 3582, 3581, 3585, 1828, 1999,\n",
              "         2919, 1883, 2879, 2334, 2133, 2286,   85, 2364, 2665, 3381, 3378,\n",
              "         1815, 1854,  484,  789, 1403, 1400, 1402, 1684, 2860, 1387, 2192,\n",
              "          861, 1669, 3678, 3172, 2811, 2698,  945,  957, 2346, 3942, 3950,\n",
              "         3945, 3833, 3409, 3493, 2231, 1962, 1344,  374, 1792, 1377, 3530,\n",
              "          805, 1219, 1287, 2302, 2434,  516, 3143, 1948, 2561, 2906, 1545,\n",
              "          811, 1211, 1391, 2325, 2328, 3673, 2666])],\n",
              " 7: [array([3798, 3793, 3796, 3797, 3789, 3790, 1709, 1708, 2679, 3037, 2581,\n",
              "         2578, 3908, 3909, 3922, 2653, 2654, 3036, 1673, 1771, 1772, 3759,\n",
              "         1184, 2321, 3760, 2546, 1996, 3877, 3878, 3879, 3880, 3881, 3883,\n",
              "         2817,  816, 1439, 2836, 2788, 1187, 2779, 1805,  890,  891, 2915,\n",
              "         2916, 2738, 2737,   61, 2299,  989,  987, 2020, 2309, 3444, 3441,\n",
              "         2395,   14, 1173, 1172, 1806,  566, 2932, 1390, 2393, 2076, 2736,\n",
              "         1316,  818,  821,  227,  561, 3104, 2931,  986, 3169, 1445, 2528,\n",
              "         2552, 2532, 3038, 1342, 2119, 2348, 3046, 3162,  272, 3118, 2012,\n",
              "         3124, 2110, 2026, 3316,  479,  477, 3491, 3489, 2422, 2520, 3773,\n",
              "         3943, 3947,  983,  982,  980, 3238, 2323, 2322, 3183, 3184, 3179,\n",
              "         3180, 3187, 3181, 3186, 3182, 3185, 3177, 2143, 3010, 2137, 2842,\n",
              "         1343, 3110, 2132,   97, 3056,  398,  527, 1728,  480,  478,  476,\n",
              "         2907, 3053, 2008, 2750, 1475,  217, 2897, 3621, 3195, 1476, 1471,\n",
              "         3994, 2433, 3682, 3025])],\n",
              " 8: [array([3722, 3726, 3729, 3730, 2947, 3189, 2796, 3708,  884,  853, 3876,\n",
              "          787, 2966, 2950, 2949, 2777, 3717, 3905, 2464, 3646, 3647, 3888,\n",
              "         2987, 2457, 2845, 2973, 3406, 3405, 3404, 2921, 3269, 3268, 1204,\n",
              "          865, 3927, 3644, 1101, 1849, 1847,  855,  857,  860, 3445, 1088,\n",
              "         3452, 3451, 3407, 3408, 3965, 3983, 2590,  653,  721, 3737, 1889,\n",
              "         3887, 3121, 3082, 3083,  660, 2992, 1086, 1338, 2990, 2187, 3251,\n",
              "         3884, 3886, 3387, 3778, 3779, 3780, 3642, 3062, 3160, 2148, 3278,\n",
              "         2984, 3587, 2560, 3450, 3388, 1225, 2091, 2961,   63, 3370, 3497,\n",
              "          699,  697, 3423,  759, 3216, 3217, 3218, 3190, 3985, 3277, 2851,\n",
              "         3657, 3654, 3653, 3652, 3651, 3649, 1915, 3775,  626,  908, 3910,\n",
              "         3245,  509, 3364, 3846, 3845, 3281, 3283, 3285, 3198, 2445, 3630,\n",
              "         1037, 2574, 2702,  164,  882, 2917, 2988, 2986, 3627, 3626, 3623,\n",
              "         3625, 3001, 3200, 3191, 3711, 3712, 1301, 1405,  557, 2711,   37,\n",
              "         2530, 3371, 3372])],\n",
              " 9: [array([1005, 1007, 1421, 1423, 1460, 2252, 1335, 1333, 2806, 2758, 3527,\n",
              "         2535, 1435,  916, 2588,  938,  940,  942, 1021, 2253, 2534, 3539,\n",
              "         1510, 1513, 3338, 3337,  960, 1492, 1023, 1022, 2939, 3537, 2246,\n",
              "         1396, 1279, 3396, 2173, 2539, 1011, 1491, 1461, 1462, 1464, 1463,\n",
              "          385,  378,  968, 1432,  915, 1554, 1946, 2656, 3373, 2467, 1341,\n",
              "         2291, 2531, 1327, 2878, 2406, 2887, 2256, 2524, 2257, 1272, 1452,\n",
              "         2996, 2527, 1678, 2421, 2756, 2541, 3697,  939,  944,  153, 1175,\n",
              "          332,  334, 1346, 1071,  601,  411, 3220, 1409, 2521, 2975,  445,\n",
              "         1229, 2488,  431, 3616, 2895, 3648,   16, 1359, 1358, 1295,   44,\n",
              "         2484,  503,  502, 2640, 2283, 3145, 2622, 2261,  485,  963,  520,\n",
              "         3502, 1002, 1224,  921, 2430, 2435, 2354, 3603, 1290, 1278, 1648,\n",
              "         2628, 2417, 1347, 1630, 2600, 2107, 2444, 3279, 2141, 1671,  688,\n",
              "         1222, 3333, 3215, 2621, 1408, 2553, 1503, 3128, 1298, 1804, 1074,\n",
              "         2568, 2134])],\n",
              " 10: [array([ 835,  832, 2105,  646, 1018,  764, 1936, 1484, 1736,   84, 1837,\n",
              "          826, 1964, 1965,  809, 1733, 1921, 1924, 1064, 2018,  218,  950,\n",
              "          951,  159, 2019,  767,  737,  741, 1855, 1859,  785,  863, 3199,\n",
              "         2101, 1049, 1833,  840,  536, 1257,  898,  901,  736, 1980, 1206,\n",
              "         2537,  841,  155, 1949, 1056, 1008, 2375,  558,  819, 1984,  689,\n",
              "         1501,  754,  999, 1093, 1095, 1489,  745,  175, 2245,  802, 1933,\n",
              "         1734,  985, 2428, 1015,  953,  952, 2760, 1047, 1666,  706, 1986,\n",
              "          704, 1500, 1498, 1857, 2483, 2701,   67, 3284,  622, 3282,  752,\n",
              "         2867, 1227, 1155,  176, 1482,  165, 1840, 2116, 1654, 2123,  549,\n",
              "          909,  907,  911,  910,  546, 1111, 1212, 1209, 1836,  797, 2080,\n",
              "          142, 1697, 1695,  491, 1419, 1957])],\n",
              " 11: [array([3126, 3586, 2866, 2714, 3509, 3681, 3809, 3889, 2853, 2451, 2886,\n",
              "         3275, 3351,  133, 2544, 2313, 3504, 2716, 3867, 3166, 3167, 2634,\n",
              "         3257, 3258, 2691, 3098, 3826, 3824, 1922, 1927, 2460, 3853, 3852,\n",
              "         2243, 2244, 3454, 2849, 3914, 3916, 3157, 3856, 3602, 3487, 3486,\n",
              "         2329, 3102, 3675,   79, 3923, 2713, 3768, 3765, 2649, 3890, 3698,\n",
              "         3699, 3615, 3597, 3592,  744,  742,  739, 3991, 2215, 2730, 1309,\n",
              "         2795, 3324, 2865, 2212, 2298,   20, 1294, 2835,  144, 2087,  732,\n",
              "         3384, 3774, 3376, 3377, 3171,  522,  779, 1682, 2247,  734, 3485,\n",
              "         2905, 3610, 3907, 3992, 1809,  231, 3531, 2890, 3898, 1325, 3494,\n",
              "         2186, 2557, 3495,  143, 2840, 3709, 3706, 3707, 3369, 3948, 3949,\n",
              "         2859, 3781, 3783, 2855,  914])],\n",
              " 12: [array([ 881,  880,  883,  878,  899,  829,  803,  807,  812,  813,  815,\n",
              "          889,  887, 1177, 1863, 1865, 1249,  843,  879,  851,  886,  885,\n",
              "          433,  862, 1130, 1081,  694,  712,  710,  708,  711,  413,  755,\n",
              "          796,  932,  834,  873,  871, 1107,  434,  847, 1685, 2156,  864,\n",
              "          866,  418,  416, 1916,  827,  825, 1078,  278, 2090,  713,  695,\n",
              "         1307, 1617, 3552, 2162, 1182, 3840, 1312,  305, 1436, 1587,  158,\n",
              "          156,  687,  874,  869, 3896, 3895, 3874,   39, 2122,  456, 1825,\n",
              "          306,  308,  276,  304,  296,  297,  298, 2687, 2201, 2203,  294,\n",
              "          426,  425,  430, 1168, 2115, 3422, 3976, 2573,  428, 1331, 1285,\n",
              "         3416, 3418, 1373, 1382])],\n",
              " 13: [array([ 528,  535, 2167, 2240, 1629, 1602, 1582, 1907, 1323, 2388, 2441,\n",
              "         2440, 2241, 1646, 2035, 2251, 1612, 1613, 2448,  995, 3096, 2655,\n",
              "         2326, 1650,  902,  726, 2250,  123,  774, 2523, 1337, 1370, 1698,\n",
              "          429, 1480, 1356,  966, 2242,  570, 1672,  447,  152,   53,  172,\n",
              "         1688, 2207, 1977, 3580,  984,  970,  967,  743, 1798,  791, 1882,\n",
              "         1594,  756,  481, 2489, 2287, 2449, 1813, 1616,  556, 1969, 1970,\n",
              "          588,  589,    7, 1703,   78,   75,   80, 1048,  747,  746, 3771,\n",
              "         1639,  598,  166,  173, 1841,  512,  511, 1054, 1260,  466, 1966,\n",
              "          798, 1588, 1589, 1590,  691, 2269, 1579, 1640,  671, 3081, 2221,\n",
              "         2222, 2493, 2318])],\n",
              " 14: [array([2739, 2636, 2631, 2749, 2774, 2734, 2735, 2626, 2743, 2751, 2582,\n",
              "         2727, 3146, 1164, 2604, 2602, 2843, 3113,  725, 2747, 1542, 2673,\n",
              "         2662, 2841, 3753,  788, 1769, 3052, 2832, 1767, 1765, 2612, 1455,\n",
              "         3349, 1632, 2816, 2563, 2732, 3440, 2583, 2741, 2664, 1508, 1511,\n",
              "         1512, 3971, 2295, 2085,  931, 2658, 3939, 3667, 3665, 2271, 3431,\n",
              "         2742, 2896, 2059, 1930, 1931, 1932, 3556, 3554,  510, 1904, 2508,\n",
              "         1814, 2127,  507, 3817, 2040, 1940, 1658, 3424, 2199, 2768, 2051,\n",
              "         3529, 3713, 1145,  369, 2084, 2959, 1528, 1529,  391, 3442, 3114,\n",
              "         2555, 3842, 2436, 1884,   94, 2275, 1909, 1901,  814, 2479, 2102,\n",
              "         3266,  319])],\n",
              " 15: [array([1122, 1082, 1152, 1138, 1159, 1150, 1144, 1167, 1132, 1080, 1117,\n",
              "         1142, 1163, 1162, 1042, 1115, 1079, 1104, 1137, 1143,  849, 1106,\n",
              "         1084, 1128, 1127, 1121, 1099, 1072, 1140, 1061, 1109, 1114, 1083,\n",
              "         1158, 1157, 1156, 1089, 3197, 1139, 1141,  994,  993,  672,  992,\n",
              "         1135, 1189,  954, 1100, 1098, 1123, 1124,  627,  997, 1134,  936,\n",
              "         1125, 1126, 1105, 2663, 1255, 1044, 2559, 2924, 1129, 1053, 2220,\n",
              "         1090, 3259,  848, 1131, 2675, 1087, 3952, 3953, 1077, 1147, 1146,\n",
              "          499,  500,  896,  894,  893, 1110, 1112, 1910, 1116, 1055, 3988,\n",
              "         1085, 3357, 2258, 1029, 1045])],\n",
              " 16: [array([2945, 2976, 2943, 3457, 3550, 3520, 3484, 3336, 3482, 2944, 3639,\n",
              "         3638, 3689, 3688, 3687, 3686, 3690, 1876, 3959, 3015, 3606, 3397,\n",
              "         1923, 3224, 2869, 2942, 2940, 2803, 3460, 3459, 3401, 1567, 3306,\n",
              "         2972, 3244, 2965, 2946, 2883, 2082, 2978, 3476, 3068, 2871, 1265,\n",
              "         3999, 1642, 3428, 2971, 2941, 3235, 3255,  876,  962,  867,  868,\n",
              "          875,  870, 3968, 2995, 3572, 3573, 3574, 3565, 3567, 3568, 3566,\n",
              "         3972, 3970, 3973, 3974, 1548, 3463, 1533, 2182, 3659, 3934, 2952,\n",
              "         3967, 3969, 3966, 2316, 1647, 3012, 3006, 3008, 2370, 2819,  976,\n",
              "          975, 2512, 1951])],\n",
              " 17: [array([ 765, 2953, 3680, 3799, 1306, 1036,  903, 1181,  552, 2782,  547,\n",
              "         3233, 2407, 1690, 3841,  693, 3188, 3492, 3490,  707,  738, 2970,\n",
              "          714,  731,  728,  724, 2678, 2677,  795, 2164, 3928, 3926,  749,\n",
              "         3921, 1091, 2453, 2498, 2497,  174, 3989, 3474, 2761,  518, 3237,\n",
              "         1705, 1151, 3893, 1133,  674,  676,  740, 2813, 1218,  553, 3230,\n",
              "         3239, 1692, 3595, 3379, 3811, 1745, 2548, 3835, 3329, 3327, 3328,\n",
              "         3742, 1534,  120, 3234,  781,  655,  615, 1223, 1687, 1689, 1052,\n",
              "         3232,  917, 3123, 1973, 3836, 2409, 2145, 2144,  595, 2163, 1038,\n",
              "         1808])],\n",
              " 18: [array([  15, 3111, 2217, 1659, 2933, 2083, 2955, 3794, 2838, 1997,  793,\n",
              "         3862,  792, 2936, 3995, 2937, 1497, 3262, 3261, 3260, 2510, 2480,\n",
              "         3050, 3693,  508, 3800, 3918, 3112, 3178, 3519, 2210, 3115, 3932,\n",
              "         3931,  643,   23, 1310, 3679, 2850, 2864, 2211, 2474, 3766, 3917,\n",
              "          648, 2731, 2715, 2136, 1963,  933, 3084, 2281, 2280, 1679, 3099,\n",
              "         2103, 3073, 2645, 3078, 1527, 1422, 1246, 2255, 3869, 3801, 2833,\n",
              "         1680,   86, 3821, 3820, 2920, 3079, 1379, 3720, 3951, 1263, 2260,\n",
              "         2472, 3341, 3165, 2801, 3802, 2829, 1670])],\n",
              " 19: [array([ 637,  578,  586,  587,  574,  639,  614,  616,  619,  567,  623,\n",
              "          624,  579,  611,  584,  591,  592,  594,  635,  625,  628,  621,\n",
              "          573,  617,  606,  618,  582,  580,  610,  571,  600,  585,  583,\n",
              "          581,  605,  612,  568,  544,  575,  577,  609,  604,  563,  564,\n",
              "          602, 1231, 1241,  620,  355,  565,  599,  596, 1242,  572, 1233,\n",
              "          354,  629, 1240, 1234, 1235, 1236, 2680, 1188, 1607, 1608, 1610,\n",
              "         1609, 1845,  607,  608, 2672, 1394, 1393, 2028,  977, 2912,  630])],\n",
              " 20: [array([1895, 3629, 1891, 2129, 2130, 3906, 3904, 1012, 1892, 1893, 2170,\n",
              "         2094, 2095, 2142, 1535, 2150, 1538, 1885, 2272, 2594, 2131, 2120,\n",
              "         1879, 1645, 1886, 2624, 1888, 1872, 2608, 2175, 3331, 3832, 3660,\n",
              "          927, 3721,  998, 2248, 3866, 2358, 2576, 2079, 2438, 2439, 3929,\n",
              "         2401, 3635, 3860, 2213, 1743, 1742, 3419, 1627,  990, 2400, 3984,\n",
              "         3342, 2001, 3738, 3739, 1202,  216, 2615, 3865, 1027, 2125, 2179,\n",
              "           43,   42, 1024, 1025, 2614, 1850, 1838, 2726,  783, 2481,  387])],\n",
              " 21: [array([2075, 1268, 2073, 1470, 1711, 1413, 1368, 1332,  705, 1546, 1395,\n",
              "         2092, 2063, 1634, 1766, 1467, 2015, 2014, 2106, 1730, 1731, 1732,\n",
              "         1540, 1345, 2093, 1786, 2064, 2037, 1521, 1483, 1686, 2468, 1603,\n",
              "         1050,  780,  947, 1595, 3870, 1710, 2030,  539, 1704, 1819, 2071,\n",
              "         1626, 1119, 2007, 2004, 2006, 1113, 1644, 3812, 3813, 2297, 1296,\n",
              "          972, 2088,  943, 2165,  469, 2397,  506, 1424, 1425, 1357, 2149,\n",
              "         1433, 1434, 3806, 3807, 2000, 1664, 1516, 1468,  376])],\n",
              " 22: [array([2045, 1273, 1620, 2070, 3475,  830,  833, 2054, 2055, 1624, 1843,\n",
              "         2053, 1890, 1896, 1900, 1625, 2043, 3430, 2061, 1171, 2058, 2056,\n",
              "         1622, 1651, 2062, 1636, 2038, 2044, 1430, 3228, 2591, 2458, 2048,\n",
              "         3605, 2601, 2049, 2050, 3205, 2589, 2052, 3133, 2029, 2454, 2616,\n",
              "         1713, 2036, 1429, 2466, 3601, 1779, 2239, 2456, 2267, 2237, 2147,\n",
              "         1283, 2609, 2126, 2169,  979,  978, 2446, 2204, 2202, 1967,  727,\n",
              "         1569, 1570,  137, 2500, 3609, 3915, 2294, 1340])],\n",
              " 23: [array([3671, 3670, 3669, 3668, 3543, 3544, 3618, 3571, 3447, 3446, 3465,\n",
              "         3468, 2954, 2958, 2856, 2934, 3598, 3031, 3611, 3014, 3004, 3558,\n",
              "         3557, 3637, 3035, 3017, 3538, 3645, 3656, 3655, 1040, 1041, 3011,\n",
              "         2967, 2964, 3034, 3033, 2462, 2885, 2957, 3500, 3674, 2834, 3164,\n",
              "         3672, 2100, 2900, 3658, 3003, 3016, 3030, 3019, 2882,  839,  838,\n",
              "         3825, 3822, 3236, 3437, 2997, 2991, 2993, 3107, 3087, 1721, 1784,\n",
              "         1782, 2981, 3894, 3892, 2969,  937])],\n",
              " 24: [array([  89,   91, 1414, 3483, 1903, 3549, 1431, 1427, 1568, 1348, 1351,\n",
              "         1360, 1514, 1216, 1388, 1076, 1075, 2985,  250,  249, 1252, 3072,\n",
              "         1576, 1577, 1614, 1196, 3814, 3816, 1194, 3127, 2113, 1571, 2118,\n",
              "         1696, 2585, 1655, 1656, 1092, 1566, 1929, 1326, 3163, 2138,  888,\n",
              "         1699, 2913, 1702, 1982,  925,  924,  597, 3548, 1870, 1637, 1621,\n",
              "          593, 1693, 1628, 2099, 2511,  526, 1581, 2549,  551,  548, 2385,\n",
              "         1096, 1097, 1243, 2791])],\n",
              " 25: [array([3859, 3858, 2881, 2773, 3827, 3818, 3070, 3229, 2514, 3958, 3957,\n",
              "         2694, 2674, 2690, 2689, 2696, 2695, 1716, 3211, 1643, 2216, 1555,\n",
              "         2792, 3176, 3175, 2763, 1822, 3924,  562, 2652, 3294, 3691, 1259,\n",
              "         1258, 3831, 3535, 3321, 3091, 2669, 2540, 3039, 3735, 3736, 2888,\n",
              "         3140, 2208, 3982, 3980, 3981, 3979, 2820, 3819, 1604, 3222, 2562,\n",
              "         2383, 2229, 3059, 2794, 2863, 3499, 2469, 3265, 3392, 3521, 2935,\n",
              "         3564, 2547, 2223,  961])],\n",
              " 26: [array([3498, 2719, 3593, 3594, 2718, 2815,  929,  930, 2632, 3402, 3403,\n",
              "         3823, 2633, 3975, 2650, 2644, 2805, 2682, 3997, 3996, 2627, 2293,\n",
              "         1938, 2657, 2598, 2697, 1473, 2989, 2828, 2797, 2994, 3998, 2894,\n",
              "         3843, 3839, 3788, 2722, 3270, 3715, 3716, 3561, 2766, 2892, 1877,\n",
              "         2638, 2789, 2790,  956,  958, 2962, 2963, 2974, 2891, 2982, 2983,\n",
              "         3930, 2709, 3986, 2670, 3937, 1469, 1674, 2047, 2238, 1350, 1035,\n",
              "         1623,  461,  458,  457])],\n",
              " 27: [array([3960, 3956, 3955, 3961, 3954, 3964, 3885, 3748, 3746, 2979, 2977,\n",
              "         3747, 2311, 2310, 3481, 3478, 3479, 3596, 3740, 2225, 2775, 3694,\n",
              "         3411, 3677, 3990, 3097, 3532,  758, 3695, 3170,  373, 3429, 1386,\n",
              "         3810, 2308, 3122, 3769, 3770, 3101, 2249,  468, 2858, 2769, 2200,\n",
              "         3962, 2214, 1060, 3743,  312,  316,  318, 2312, 3963, 1046,  177,\n",
              "         3851, 3803,  948, 1364, 1366,    8, 3744, 3941])],\n",
              " 28: [array([1353, 1349,  186,  183, 1707, 3280, 2412, 3071, 3496, 1706, 2060,\n",
              "         3252, 3253, 2875,  545,  569, 1768, 2139, 2228,  782, 3872,  492,\n",
              "         3617, 2227, 3088, 1311, 1956, 1955, 3130, 3129, 2332, 1389, 1801,\n",
              "          203,  201, 1319, 2420, 1010,   12, 2392, 2254, 2117, 2011, 1026,\n",
              "         2914, 2425, 2086, 1803, 1802, 3007, 3844, 2526, 1322, 1410, 2387,\n",
              "         3300, 1509, 1191])],\n",
              " 29: [array([1494, 1507, 1505, 1017,  125, 1250, 1251, 1282, 1575, 1397, 1009,\n",
              "         1014,  709, 1378, 1006, 1270,  226,  340, 1592,  900, 1051, 1020,\n",
              "          913, 1401, 1488, 1496, 1454, 1059,  467,  800, 1495, 1256, 1744,\n",
              "         1541, 1506, 1247, 1013,  195, 1329,  923,  922,  722, 1562,   99,\n",
              "         1030, 1063, 1474,  991,   68, 1339,  644,  211, 1472,  180,  981,\n",
              "         1300, 1667,  293])],\n",
              " 30: [array([1407, 1406, 1565, 1563, 1399, 2024, 1404, 1411, 2025, 1244,  513,\n",
              "         1412, 2034, 3249, 1676, 1564, 2098, 1942,  656,  654, 1860, 1619,\n",
              "         1618, 1193, 1305, 1591, 3048, 3526, 2154, 3343, 2703, 1367, 1363,\n",
              "         2152, 3138, 1615, 3728, 2155, 2157, 2158, 2159, 2160, 3076, 3850,\n",
              "         1361,  471,  613, 3077, 3045, 2274, 3332, 3330, 3061, 1908, 3334,\n",
              "         1633])],\n",
              " 31: [array([3761, 3758, 2818, 3863, 1543, 2507, 1245, 2619, 3345, 3471, 3421,\n",
              "         2505, 3815, 3248, 3246, 3287, 1790, 2595, 3473, 3344, 3085, 3322,\n",
              "         1914, 3453, 3795, 3353, 2109, 3352, 3636, 2096, 1477, 3464, 3366,\n",
              "         3367, 3368, 3375, 3201, 3202, 3472, 3477, 3271, 2327, 3272, 3326,\n",
              "         1539, 3254, 2839, 3022, 2854, 3149])],\n",
              " 32: [array([ 150,  147,   60,  163,   65,   40,  146,  101,  100,  140,   72,\n",
              "          162,  167,  148,  109,   57,  169,  178,   87,   13,  126,    3,\n",
              "           70,    5,  161,   10, 2470,  130,  171,    0,   92, 2968,   96,\n",
              "          149,   64, 3026, 1003, 1001, 2496, 2515, 1738, 1757, 2178, 2551,\n",
              "         2579, 1574, 1185, 3009,  453])],\n",
              " 33: [array([2416, 1755, 1756, 2235, 2415, 2413, 3634, 2197, 1747, 3555, 2236,\n",
              "         2391, 3415, 3417,  715, 2330,  828, 3710, 2198, 2486,  804, 1810,\n",
              "         1848, 2003, 1776, 2402, 2405, 2404, 3559, 3613, 3612, 2296, 1807,\n",
              "         3319, 3318, 2525, 1952, 3223, 1597, 3604, 2279, 1950, 3466,   69,\n",
              "          897])],\n",
              " 34: [array([2151, 2181, 2171, 2172, 2193, 2185, 2194, 2189, 2276, 3132, 2190,\n",
              "         2191, 2188, 3944, 1028, 2423, 2195, 2382, 3391, 3393, 3394, 3847,\n",
              "         2168, 2183, 1118, 2379, 2384, 3105, 3734, 2376, 2807, 2378, 3174,\n",
              "         2746, 2606, 2368,  965,  964, 3414, 3741, 1292, 2720, 2903, 2904])],\n",
              " 35: [array([3032, 1926, 1928, 1372, 2893, 1376, 3080, 1369, 3100,  702, 2814,\n",
              "         2426, 3069, 2556, 1754, 1375, 1383, 1365, 3028, 3051, 3058, 2706,\n",
              "          733, 2373,  735, 1277, 2205, 3347, 3021, 3346, 2884])],\n",
              " 36: [array([ 118,  114,  115,  116,  117,  112,  113,  207,  205,  198,  124,\n",
              "          128,  302,  295,  380,  409, 2499, 1284])]}"
            ]
          },
          "metadata": {},
          "execution_count": 79
        }
      ]
    },
    {
      "cell_type": "code",
      "source": [
        "for index, row in df_roberta.iterrows():\n",
        "  for key, values in dict_tweet.items():\n",
        "    if index in values[0]:\n",
        "      df_roberta.loc[index,'Topic'] = key\n",
        "      pass\n",
        "      # print(key)\n",
        "      # print(\"-------test-------\")\n",
        "      # print(df_roberta.loc[index,'Topic'])"
      ],
      "metadata": {
        "colab": {
          "base_uri": "https://localhost:8080/"
        },
        "id": "cjPo_LDf_NG6",
        "outputId": "6658692b-4e5a-4891-951e-6a96ce7fc1ed"
      },
      "execution_count": null,
      "outputs": [
        {
          "output_type": "stream",
          "name": "stderr",
          "text": [
            "/usr/local/lib/python3.7/dist-packages/pandas/core/indexing.py:1684: SettingWithCopyWarning: \n",
            "A value is trying to be set on a copy of a slice from a DataFrame.\n",
            "Try using .loc[row_indexer,col_indexer] = value instead\n",
            "\n",
            "See the caveats in the documentation: https://pandas.pydata.org/pandas-docs/stable/user_guide/indexing.html#returning-a-view-versus-a-copy\n",
            "  self.obj[key] = infer_fill_value(value)\n",
            "/usr/local/lib/python3.7/dist-packages/pandas/core/indexing.py:1817: SettingWithCopyWarning: \n",
            "A value is trying to be set on a copy of a slice from a DataFrame.\n",
            "Try using .loc[row_indexer,col_indexer] = value instead\n",
            "\n",
            "See the caveats in the documentation: https://pandas.pydata.org/pandas-docs/stable/user_guide/indexing.html#returning-a-view-versus-a-copy\n",
            "  self._setitem_single_column(loc, value, pi)\n"
          ]
        }
      ]
    },
    {
      "cell_type": "code",
      "source": [
        "df_roberta.Topic.nunique()"
      ],
      "metadata": {
        "colab": {
          "base_uri": "https://localhost:8080/"
        },
        "id": "SziVH0EQj56f",
        "outputId": "ec4c26a7-2e8d-4fd8-d635-01235c67b3b9"
      },
      "execution_count": null,
      "outputs": [
        {
          "output_type": "execute_result",
          "data": {
            "text/plain": [
              "37"
            ]
          },
          "metadata": {},
          "execution_count": 81
        }
      ]
    },
    {
      "cell_type": "code",
      "source": [
        "#topic_nums, topic_score, topics_words, word_scores = model.get_documents_topics([0])"
      ],
      "metadata": {
        "id": "sWbwttDhuaTg"
      },
      "execution_count": null,
      "outputs": []
    },
    {
      "cell_type": "code",
      "source": [
        "#topic_nums"
      ],
      "metadata": {
        "id": "MHV01EhTutCA"
      },
      "execution_count": null,
      "outputs": []
    },
    {
      "cell_type": "code",
      "source": [
        "#documents, doc_scores, doc_ids = model.search_documents_by_documents([0], 1)"
      ],
      "metadata": {
        "id": "djqYkraBu5dC"
      },
      "execution_count": null,
      "outputs": []
    },
    {
      "cell_type": "code",
      "source": [
        "#documents"
      ],
      "metadata": {
        "id": "ANe-y1Ppvan2"
      },
      "execution_count": null,
      "outputs": []
    },
    {
      "cell_type": "code",
      "source": [
        "#topic_words, word_scores, topic_nums = model.get_topics()"
      ],
      "metadata": {
        "id": "logNU0_YCg4m"
      },
      "execution_count": null,
      "outputs": []
    },
    {
      "cell_type": "code",
      "source": [
        "#topic_words[9]"
      ],
      "metadata": {
        "id": "-njbb5v5EsQW"
      },
      "execution_count": null,
      "outputs": []
    },
    {
      "cell_type": "code",
      "source": [
        "df_roberta.Topic"
      ],
      "metadata": {
        "colab": {
          "base_uri": "https://localhost:8080/"
        },
        "id": "TEafYOdCkkCt",
        "outputId": "9371cea7-f489-4345-8dbf-ca7ce1979834"
      },
      "execution_count": null,
      "outputs": [
        {
          "output_type": "execute_result",
          "data": {
            "text/plain": [
              "0       32.0\n",
              "1        1.0\n",
              "2        1.0\n",
              "3       32.0\n",
              "4        4.0\n",
              "        ... \n",
              "3996    26.0\n",
              "3997    26.0\n",
              "3998    26.0\n",
              "3999    16.0\n",
              "4000     1.0\n",
              "Name: Topic, Length: 4001, dtype: float64"
            ]
          },
          "metadata": {},
          "execution_count": 82
        }
      ]
    },
    {
      "cell_type": "code",
      "source": [
        "df_roberta[\"Topic\"] = df_roberta[\"Topic\"].astype(int)"
      ],
      "metadata": {
        "colab": {
          "base_uri": "https://localhost:8080/"
        },
        "id": "bO4KdWu3lM9Y",
        "outputId": "2fb41c7f-b8f8-45a3-d3ac-f12a1bfd8abb"
      },
      "execution_count": null,
      "outputs": [
        {
          "output_type": "stream",
          "name": "stderr",
          "text": [
            "/usr/local/lib/python3.7/dist-packages/ipykernel_launcher.py:1: SettingWithCopyWarning: \n",
            "A value is trying to be set on a copy of a slice from a DataFrame.\n",
            "Try using .loc[row_indexer,col_indexer] = value instead\n",
            "\n",
            "See the caveats in the documentation: https://pandas.pydata.org/pandas-docs/stable/user_guide/indexing.html#returning-a-view-versus-a-copy\n",
            "  \"\"\"Entry point for launching an IPython kernel.\n"
          ]
        }
      ]
    },
    {
      "cell_type": "code",
      "source": [
        "df_roberta"
      ],
      "metadata": {
        "colab": {
          "base_uri": "https://localhost:8080/",
          "height": 1000
        },
        "id": "PW3mUq2AlkRR",
        "outputId": "f97de722-e4e5-4b85-8e2c-59075e0e08a7"
      },
      "execution_count": null,
      "outputs": [
        {
          "output_type": "execute_result",
          "data": {
            "text/plain": [
              "                       Datetime             Tweet Id  \\\n",
              "0     2022-06-08 16:00:06+00:00  1534565944374267909   \n",
              "1     2022-06-08 12:56:00+00:00  1534519612200562689   \n",
              "2     2022-06-08 01:30:08+00:00  1534347009406251008   \n",
              "3     2022-06-07 11:37:57+00:00  1534137584338845696   \n",
              "4     2022-06-05 03:29:56+00:00  1533289994584002561   \n",
              "...                         ...                  ...   \n",
              "3996  2017-03-04 17:53:03+00:00   838084889060782083   \n",
              "3997  2017-03-04 13:33:19+00:00   838019526205784064   \n",
              "3998  2017-03-04 05:14:43+00:00   837894051579953152   \n",
              "3999  2017-03-03 09:35:02+00:00   837597173923647488   \n",
              "4000  2017-03-03 03:01:06+00:00   837498035236122624   \n",
              "\n",
              "                                                   Text       Username  \\\n",
              "0     Rwanda policy is having 'NO impact' on migrant...    DailyMailUK   \n",
              "1     Asylum seeker claims UK hotel stay is 'worse t...  Daily_Express   \n",
              "2     More than half the 130 asylum-seekers facing f...     MailOnline   \n",
              "3     'Rwanda plan is NOT working': 80 migrants land...    DailyMailUK   \n",
              "4     Anger as hundreds of refugee children from Ukr...     MailOnline   \n",
              "...                                                 ...            ...   \n",
              "3996  Mexican congressman MOCKS Donald Trump by posi...  Daily_Express   \n",
              "3997  Mexican congressman MOCKS Donald Trump by posi...  Daily_Express   \n",
              "3998  Trump administration ‘could separate women &am...  Daily_Express   \n",
              "3999  Desperate Merkel flies to North Africa to tack...  Daily_Express   \n",
              "4000  'Jihadist executioner' asylum seeker arrested ...     MailOnline   \n",
              "\n",
              "      Like Count     joy  optimism   anger  sadness  positive  neutral  \\\n",
              "0            2.0  0.0087    0.0678  0.4097   0.5138    0.0166   0.4520   \n",
              "1            8.0  0.0075    0.0162  0.7976   0.1787    0.0054   0.1190   \n",
              "2            8.0  0.0218    0.1511  0.5018   0.3253    0.0217   0.7471   \n",
              "3            5.0  0.0084    0.0223  0.1745   0.7949    0.0052   0.1088   \n",
              "4           16.0  0.0090    0.0191  0.8268   0.1451    0.0048   0.1251   \n",
              "...          ...     ...       ...     ...      ...       ...      ...   \n",
              "3996         2.0  0.0188    0.0305  0.9058   0.0449    0.0223   0.5667   \n",
              "3997         7.0  0.0188    0.0305  0.9058   0.0449    0.0223   0.5667   \n",
              "3998         3.0  0.0138    0.0728  0.5325   0.3809    0.0164   0.7485   \n",
              "3999         7.0  0.0072    0.0226  0.0892   0.8810    0.0307   0.6359   \n",
              "4000        28.0  0.0151    0.0183  0.8712   0.0953    0.0074   0.3174   \n",
              "\n",
              "      negative  Topic  \n",
              "0       0.5313     32  \n",
              "1       0.8756      1  \n",
              "2       0.2312      1  \n",
              "3       0.8860     32  \n",
              "4       0.8701      4  \n",
              "...        ...    ...  \n",
              "3996    0.4110     26  \n",
              "3997    0.4110     26  \n",
              "3998    0.2352     26  \n",
              "3999    0.3334     16  \n",
              "4000    0.6752      1  \n",
              "\n",
              "[4001 rows x 13 columns]"
            ],
            "text/html": [
              "\n",
              "  <div id=\"df-9ee79b7e-5b0d-4e54-bc25-2b47995baac0\">\n",
              "    <div class=\"colab-df-container\">\n",
              "      <div>\n",
              "<style scoped>\n",
              "    .dataframe tbody tr th:only-of-type {\n",
              "        vertical-align: middle;\n",
              "    }\n",
              "\n",
              "    .dataframe tbody tr th {\n",
              "        vertical-align: top;\n",
              "    }\n",
              "\n",
              "    .dataframe thead th {\n",
              "        text-align: right;\n",
              "    }\n",
              "</style>\n",
              "<table border=\"1\" class=\"dataframe\">\n",
              "  <thead>\n",
              "    <tr style=\"text-align: right;\">\n",
              "      <th></th>\n",
              "      <th>Datetime</th>\n",
              "      <th>Tweet Id</th>\n",
              "      <th>Text</th>\n",
              "      <th>Username</th>\n",
              "      <th>Like Count</th>\n",
              "      <th>joy</th>\n",
              "      <th>optimism</th>\n",
              "      <th>anger</th>\n",
              "      <th>sadness</th>\n",
              "      <th>positive</th>\n",
              "      <th>neutral</th>\n",
              "      <th>negative</th>\n",
              "      <th>Topic</th>\n",
              "    </tr>\n",
              "  </thead>\n",
              "  <tbody>\n",
              "    <tr>\n",
              "      <th>0</th>\n",
              "      <td>2022-06-08 16:00:06+00:00</td>\n",
              "      <td>1534565944374267909</td>\n",
              "      <td>Rwanda policy is having 'NO impact' on migrant...</td>\n",
              "      <td>DailyMailUK</td>\n",
              "      <td>2.0</td>\n",
              "      <td>0.0087</td>\n",
              "      <td>0.0678</td>\n",
              "      <td>0.4097</td>\n",
              "      <td>0.5138</td>\n",
              "      <td>0.0166</td>\n",
              "      <td>0.4520</td>\n",
              "      <td>0.5313</td>\n",
              "      <td>32</td>\n",
              "    </tr>\n",
              "    <tr>\n",
              "      <th>1</th>\n",
              "      <td>2022-06-08 12:56:00+00:00</td>\n",
              "      <td>1534519612200562689</td>\n",
              "      <td>Asylum seeker claims UK hotel stay is 'worse t...</td>\n",
              "      <td>Daily_Express</td>\n",
              "      <td>8.0</td>\n",
              "      <td>0.0075</td>\n",
              "      <td>0.0162</td>\n",
              "      <td>0.7976</td>\n",
              "      <td>0.1787</td>\n",
              "      <td>0.0054</td>\n",
              "      <td>0.1190</td>\n",
              "      <td>0.8756</td>\n",
              "      <td>1</td>\n",
              "    </tr>\n",
              "    <tr>\n",
              "      <th>2</th>\n",
              "      <td>2022-06-08 01:30:08+00:00</td>\n",
              "      <td>1534347009406251008</td>\n",
              "      <td>More than half the 130 asylum-seekers facing f...</td>\n",
              "      <td>MailOnline</td>\n",
              "      <td>8.0</td>\n",
              "      <td>0.0218</td>\n",
              "      <td>0.1511</td>\n",
              "      <td>0.5018</td>\n",
              "      <td>0.3253</td>\n",
              "      <td>0.0217</td>\n",
              "      <td>0.7471</td>\n",
              "      <td>0.2312</td>\n",
              "      <td>1</td>\n",
              "    </tr>\n",
              "    <tr>\n",
              "      <th>3</th>\n",
              "      <td>2022-06-07 11:37:57+00:00</td>\n",
              "      <td>1534137584338845696</td>\n",
              "      <td>'Rwanda plan is NOT working': 80 migrants land...</td>\n",
              "      <td>DailyMailUK</td>\n",
              "      <td>5.0</td>\n",
              "      <td>0.0084</td>\n",
              "      <td>0.0223</td>\n",
              "      <td>0.1745</td>\n",
              "      <td>0.7949</td>\n",
              "      <td>0.0052</td>\n",
              "      <td>0.1088</td>\n",
              "      <td>0.8860</td>\n",
              "      <td>32</td>\n",
              "    </tr>\n",
              "    <tr>\n",
              "      <th>4</th>\n",
              "      <td>2022-06-05 03:29:56+00:00</td>\n",
              "      <td>1533289994584002561</td>\n",
              "      <td>Anger as hundreds of refugee children from Ukr...</td>\n",
              "      <td>MailOnline</td>\n",
              "      <td>16.0</td>\n",
              "      <td>0.0090</td>\n",
              "      <td>0.0191</td>\n",
              "      <td>0.8268</td>\n",
              "      <td>0.1451</td>\n",
              "      <td>0.0048</td>\n",
              "      <td>0.1251</td>\n",
              "      <td>0.8701</td>\n",
              "      <td>4</td>\n",
              "    </tr>\n",
              "    <tr>\n",
              "      <th>...</th>\n",
              "      <td>...</td>\n",
              "      <td>...</td>\n",
              "      <td>...</td>\n",
              "      <td>...</td>\n",
              "      <td>...</td>\n",
              "      <td>...</td>\n",
              "      <td>...</td>\n",
              "      <td>...</td>\n",
              "      <td>...</td>\n",
              "      <td>...</td>\n",
              "      <td>...</td>\n",
              "      <td>...</td>\n",
              "      <td>...</td>\n",
              "    </tr>\n",
              "    <tr>\n",
              "      <th>3996</th>\n",
              "      <td>2017-03-04 17:53:03+00:00</td>\n",
              "      <td>838084889060782083</td>\n",
              "      <td>Mexican congressman MOCKS Donald Trump by posi...</td>\n",
              "      <td>Daily_Express</td>\n",
              "      <td>2.0</td>\n",
              "      <td>0.0188</td>\n",
              "      <td>0.0305</td>\n",
              "      <td>0.9058</td>\n",
              "      <td>0.0449</td>\n",
              "      <td>0.0223</td>\n",
              "      <td>0.5667</td>\n",
              "      <td>0.4110</td>\n",
              "      <td>26</td>\n",
              "    </tr>\n",
              "    <tr>\n",
              "      <th>3997</th>\n",
              "      <td>2017-03-04 13:33:19+00:00</td>\n",
              "      <td>838019526205784064</td>\n",
              "      <td>Mexican congressman MOCKS Donald Trump by posi...</td>\n",
              "      <td>Daily_Express</td>\n",
              "      <td>7.0</td>\n",
              "      <td>0.0188</td>\n",
              "      <td>0.0305</td>\n",
              "      <td>0.9058</td>\n",
              "      <td>0.0449</td>\n",
              "      <td>0.0223</td>\n",
              "      <td>0.5667</td>\n",
              "      <td>0.4110</td>\n",
              "      <td>26</td>\n",
              "    </tr>\n",
              "    <tr>\n",
              "      <th>3998</th>\n",
              "      <td>2017-03-04 05:14:43+00:00</td>\n",
              "      <td>837894051579953152</td>\n",
              "      <td>Trump administration ‘could separate women &amp;am...</td>\n",
              "      <td>Daily_Express</td>\n",
              "      <td>3.0</td>\n",
              "      <td>0.0138</td>\n",
              "      <td>0.0728</td>\n",
              "      <td>0.5325</td>\n",
              "      <td>0.3809</td>\n",
              "      <td>0.0164</td>\n",
              "      <td>0.7485</td>\n",
              "      <td>0.2352</td>\n",
              "      <td>26</td>\n",
              "    </tr>\n",
              "    <tr>\n",
              "      <th>3999</th>\n",
              "      <td>2017-03-03 09:35:02+00:00</td>\n",
              "      <td>837597173923647488</td>\n",
              "      <td>Desperate Merkel flies to North Africa to tack...</td>\n",
              "      <td>Daily_Express</td>\n",
              "      <td>7.0</td>\n",
              "      <td>0.0072</td>\n",
              "      <td>0.0226</td>\n",
              "      <td>0.0892</td>\n",
              "      <td>0.8810</td>\n",
              "      <td>0.0307</td>\n",
              "      <td>0.6359</td>\n",
              "      <td>0.3334</td>\n",
              "      <td>16</td>\n",
              "    </tr>\n",
              "    <tr>\n",
              "      <th>4000</th>\n",
              "      <td>2017-03-03 03:01:06+00:00</td>\n",
              "      <td>837498035236122624</td>\n",
              "      <td>'Jihadist executioner' asylum seeker arrested ...</td>\n",
              "      <td>MailOnline</td>\n",
              "      <td>28.0</td>\n",
              "      <td>0.0151</td>\n",
              "      <td>0.0183</td>\n",
              "      <td>0.8712</td>\n",
              "      <td>0.0953</td>\n",
              "      <td>0.0074</td>\n",
              "      <td>0.3174</td>\n",
              "      <td>0.6752</td>\n",
              "      <td>1</td>\n",
              "    </tr>\n",
              "  </tbody>\n",
              "</table>\n",
              "<p>4001 rows × 13 columns</p>\n",
              "</div>\n",
              "      <button class=\"colab-df-convert\" onclick=\"convertToInteractive('df-9ee79b7e-5b0d-4e54-bc25-2b47995baac0')\"\n",
              "              title=\"Convert this dataframe to an interactive table.\"\n",
              "              style=\"display:none;\">\n",
              "        \n",
              "  <svg xmlns=\"http://www.w3.org/2000/svg\" height=\"24px\"viewBox=\"0 0 24 24\"\n",
              "       width=\"24px\">\n",
              "    <path d=\"M0 0h24v24H0V0z\" fill=\"none\"/>\n",
              "    <path d=\"M18.56 5.44l.94 2.06.94-2.06 2.06-.94-2.06-.94-.94-2.06-.94 2.06-2.06.94zm-11 1L8.5 8.5l.94-2.06 2.06-.94-2.06-.94L8.5 2.5l-.94 2.06-2.06.94zm10 10l.94 2.06.94-2.06 2.06-.94-2.06-.94-.94-2.06-.94 2.06-2.06.94z\"/><path d=\"M17.41 7.96l-1.37-1.37c-.4-.4-.92-.59-1.43-.59-.52 0-1.04.2-1.43.59L10.3 9.45l-7.72 7.72c-.78.78-.78 2.05 0 2.83L4 21.41c.39.39.9.59 1.41.59.51 0 1.02-.2 1.41-.59l7.78-7.78 2.81-2.81c.8-.78.8-2.07 0-2.86zM5.41 20L4 18.59l7.72-7.72 1.47 1.35L5.41 20z\"/>\n",
              "  </svg>\n",
              "      </button>\n",
              "      \n",
              "  <style>\n",
              "    .colab-df-container {\n",
              "      display:flex;\n",
              "      flex-wrap:wrap;\n",
              "      gap: 12px;\n",
              "    }\n",
              "\n",
              "    .colab-df-convert {\n",
              "      background-color: #E8F0FE;\n",
              "      border: none;\n",
              "      border-radius: 50%;\n",
              "      cursor: pointer;\n",
              "      display: none;\n",
              "      fill: #1967D2;\n",
              "      height: 32px;\n",
              "      padding: 0 0 0 0;\n",
              "      width: 32px;\n",
              "    }\n",
              "\n",
              "    .colab-df-convert:hover {\n",
              "      background-color: #E2EBFA;\n",
              "      box-shadow: 0px 1px 2px rgba(60, 64, 67, 0.3), 0px 1px 3px 1px rgba(60, 64, 67, 0.15);\n",
              "      fill: #174EA6;\n",
              "    }\n",
              "\n",
              "    [theme=dark] .colab-df-convert {\n",
              "      background-color: #3B4455;\n",
              "      fill: #D2E3FC;\n",
              "    }\n",
              "\n",
              "    [theme=dark] .colab-df-convert:hover {\n",
              "      background-color: #434B5C;\n",
              "      box-shadow: 0px 1px 3px 1px rgba(0, 0, 0, 0.15);\n",
              "      filter: drop-shadow(0px 1px 2px rgba(0, 0, 0, 0.3));\n",
              "      fill: #FFFFFF;\n",
              "    }\n",
              "  </style>\n",
              "\n",
              "      <script>\n",
              "        const buttonEl =\n",
              "          document.querySelector('#df-9ee79b7e-5b0d-4e54-bc25-2b47995baac0 button.colab-df-convert');\n",
              "        buttonEl.style.display =\n",
              "          google.colab.kernel.accessAllowed ? 'block' : 'none';\n",
              "\n",
              "        async function convertToInteractive(key) {\n",
              "          const element = document.querySelector('#df-9ee79b7e-5b0d-4e54-bc25-2b47995baac0');\n",
              "          const dataTable =\n",
              "            await google.colab.kernel.invokeFunction('convertToInteractive',\n",
              "                                                     [key], {});\n",
              "          if (!dataTable) return;\n",
              "\n",
              "          const docLinkHtml = 'Like what you see? Visit the ' +\n",
              "            '<a target=\"_blank\" href=https://colab.research.google.com/notebooks/data_table.ipynb>data table notebook</a>'\n",
              "            + ' to learn more about interactive tables.';\n",
              "          element.innerHTML = '';\n",
              "          dataTable['output_type'] = 'display_data';\n",
              "          await google.colab.output.renderOutput(dataTable, element);\n",
              "          const docLink = document.createElement('div');\n",
              "          docLink.innerHTML = docLinkHtml;\n",
              "          element.appendChild(docLink);\n",
              "        }\n",
              "      </script>\n",
              "    </div>\n",
              "  </div>\n",
              "  "
            ]
          },
          "metadata": {},
          "execution_count": 84
        }
      ]
    },
    {
      "cell_type": "code",
      "source": [
        "topic_words, word_scores, topic_nums = model.get_topics()"
      ],
      "metadata": {
        "id": "bUrgT9fIlrfK"
      },
      "execution_count": null,
      "outputs": []
    },
    {
      "cell_type": "code",
      "source": [
        "df_roberta['Topic Words'] = df_roberta['Topic'].apply(lambda x: topic_words[x])"
      ],
      "metadata": {
        "colab": {
          "base_uri": "https://localhost:8080/"
        },
        "id": "ulOXm4WlDSU4",
        "outputId": "d807ad5f-25ce-44bb-a20d-63517493b558"
      },
      "execution_count": null,
      "outputs": [
        {
          "output_type": "stream",
          "name": "stderr",
          "text": [
            "/usr/local/lib/python3.7/dist-packages/ipykernel_launcher.py:1: SettingWithCopyWarning: \n",
            "A value is trying to be set on a copy of a slice from a DataFrame.\n",
            "Try using .loc[row_indexer,col_indexer] = value instead\n",
            "\n",
            "See the caveats in the documentation: https://pandas.pydata.org/pandas-docs/stable/user_guide/indexing.html#returning-a-view-versus-a-copy\n",
            "  \"\"\"Entry point for launching an IPython kernel.\n"
          ]
        }
      ]
    },
    {
      "cell_type": "code",
      "source": [
        "df_roberta"
      ],
      "metadata": {
        "colab": {
          "base_uri": "https://localhost:8080/",
          "height": 1000
        },
        "id": "rp7FiunKDtGb",
        "outputId": "59abca36-b954-4ad6-a5e1-683eb4ce356b"
      },
      "execution_count": null,
      "outputs": [
        {
          "output_type": "execute_result",
          "data": {
            "text/plain": [
              "                       Datetime             Tweet Id  \\\n",
              "0     2022-06-08 16:00:06+00:00  1534565944374267909   \n",
              "1     2022-06-08 12:56:00+00:00  1534519612200562689   \n",
              "2     2022-06-08 01:30:08+00:00  1534347009406251008   \n",
              "3     2022-06-07 11:37:57+00:00  1534137584338845696   \n",
              "4     2022-06-05 03:29:56+00:00  1533289994584002561   \n",
              "...                         ...                  ...   \n",
              "3996  2017-03-04 17:53:03+00:00   838084889060782083   \n",
              "3997  2017-03-04 13:33:19+00:00   838019526205784064   \n",
              "3998  2017-03-04 05:14:43+00:00   837894051579953152   \n",
              "3999  2017-03-03 09:35:02+00:00   837597173923647488   \n",
              "4000  2017-03-03 03:01:06+00:00   837498035236122624   \n",
              "\n",
              "                                                   Text       Username  \\\n",
              "0     Rwanda policy is having 'NO impact' on migrant...    DailyMailUK   \n",
              "1     Asylum seeker claims UK hotel stay is 'worse t...  Daily_Express   \n",
              "2     More than half the 130 asylum-seekers facing f...     MailOnline   \n",
              "3     'Rwanda plan is NOT working': 80 migrants land...    DailyMailUK   \n",
              "4     Anger as hundreds of refugee children from Ukr...     MailOnline   \n",
              "...                                                 ...            ...   \n",
              "3996  Mexican congressman MOCKS Donald Trump by posi...  Daily_Express   \n",
              "3997  Mexican congressman MOCKS Donald Trump by posi...  Daily_Express   \n",
              "3998  Trump administration ‘could separate women &am...  Daily_Express   \n",
              "3999  Desperate Merkel flies to North Africa to tack...  Daily_Express   \n",
              "4000  'Jihadist executioner' asylum seeker arrested ...     MailOnline   \n",
              "\n",
              "      Like Count     joy  optimism   anger  sadness  positive  neutral  \\\n",
              "0            2.0  0.0087    0.0678  0.4097   0.5138    0.0166   0.4520   \n",
              "1            8.0  0.0075    0.0162  0.7976   0.1787    0.0054   0.1190   \n",
              "2            8.0  0.0218    0.1511  0.5018   0.3253    0.0217   0.7471   \n",
              "3            5.0  0.0084    0.0223  0.1745   0.7949    0.0052   0.1088   \n",
              "4           16.0  0.0090    0.0191  0.8268   0.1451    0.0048   0.1251   \n",
              "...          ...     ...       ...     ...      ...       ...      ...   \n",
              "3996         2.0  0.0188    0.0305  0.9058   0.0449    0.0223   0.5667   \n",
              "3997         7.0  0.0188    0.0305  0.9058   0.0449    0.0223   0.5667   \n",
              "3998         3.0  0.0138    0.0728  0.5325   0.3809    0.0164   0.7485   \n",
              "3999         7.0  0.0072    0.0226  0.0892   0.8810    0.0307   0.6359   \n",
              "4000        28.0  0.0151    0.0183  0.8712   0.0953    0.0074   0.3174   \n",
              "\n",
              "      negative  Topic                                        Topic Words  \n",
              "0       0.5313     32  [migrant, refugee, migration, immigration, imm...  \n",
              "1       0.8756      1  [asylum, refugee, migrant, immigrant, immigrat...  \n",
              "2       0.2312      1  [asylum, refugee, migrant, immigrant, immigrat...  \n",
              "3       0.8860     32  [migrant, refugee, migration, immigration, imm...  \n",
              "4       0.8701      4  [refugee, migrant, ukraine, ukrainian, asylum,...  \n",
              "...        ...    ...                                                ...  \n",
              "3996    0.4110     26  [border, immigration, migrant, immigrant, refu...  \n",
              "3997    0.4110     26  [border, immigration, migrant, immigrant, refu...  \n",
              "3998    0.2352     26  [border, immigration, migrant, immigrant, refu...  \n",
              "3999    0.3334     16  [migrant, refugee, brexit, immigration, immigr...  \n",
              "4000    0.6752      1  [asylum, refugee, migrant, immigrant, immigrat...  \n",
              "\n",
              "[4001 rows x 14 columns]"
            ],
            "text/html": [
              "\n",
              "  <div id=\"df-3d5a0cd0-11e7-42d0-a9a8-9a01750b94c7\">\n",
              "    <div class=\"colab-df-container\">\n",
              "      <div>\n",
              "<style scoped>\n",
              "    .dataframe tbody tr th:only-of-type {\n",
              "        vertical-align: middle;\n",
              "    }\n",
              "\n",
              "    .dataframe tbody tr th {\n",
              "        vertical-align: top;\n",
              "    }\n",
              "\n",
              "    .dataframe thead th {\n",
              "        text-align: right;\n",
              "    }\n",
              "</style>\n",
              "<table border=\"1\" class=\"dataframe\">\n",
              "  <thead>\n",
              "    <tr style=\"text-align: right;\">\n",
              "      <th></th>\n",
              "      <th>Datetime</th>\n",
              "      <th>Tweet Id</th>\n",
              "      <th>Text</th>\n",
              "      <th>Username</th>\n",
              "      <th>Like Count</th>\n",
              "      <th>joy</th>\n",
              "      <th>optimism</th>\n",
              "      <th>anger</th>\n",
              "      <th>sadness</th>\n",
              "      <th>positive</th>\n",
              "      <th>neutral</th>\n",
              "      <th>negative</th>\n",
              "      <th>Topic</th>\n",
              "      <th>Topic Words</th>\n",
              "    </tr>\n",
              "  </thead>\n",
              "  <tbody>\n",
              "    <tr>\n",
              "      <th>0</th>\n",
              "      <td>2022-06-08 16:00:06+00:00</td>\n",
              "      <td>1534565944374267909</td>\n",
              "      <td>Rwanda policy is having 'NO impact' on migrant...</td>\n",
              "      <td>DailyMailUK</td>\n",
              "      <td>2.0</td>\n",
              "      <td>0.0087</td>\n",
              "      <td>0.0678</td>\n",
              "      <td>0.4097</td>\n",
              "      <td>0.5138</td>\n",
              "      <td>0.0166</td>\n",
              "      <td>0.4520</td>\n",
              "      <td>0.5313</td>\n",
              "      <td>32</td>\n",
              "      <td>[migrant, refugee, migration, immigration, imm...</td>\n",
              "    </tr>\n",
              "    <tr>\n",
              "      <th>1</th>\n",
              "      <td>2022-06-08 12:56:00+00:00</td>\n",
              "      <td>1534519612200562689</td>\n",
              "      <td>Asylum seeker claims UK hotel stay is 'worse t...</td>\n",
              "      <td>Daily_Express</td>\n",
              "      <td>8.0</td>\n",
              "      <td>0.0075</td>\n",
              "      <td>0.0162</td>\n",
              "      <td>0.7976</td>\n",
              "      <td>0.1787</td>\n",
              "      <td>0.0054</td>\n",
              "      <td>0.1190</td>\n",
              "      <td>0.8756</td>\n",
              "      <td>1</td>\n",
              "      <td>[asylum, refugee, migrant, immigrant, immigrat...</td>\n",
              "    </tr>\n",
              "    <tr>\n",
              "      <th>2</th>\n",
              "      <td>2022-06-08 01:30:08+00:00</td>\n",
              "      <td>1534347009406251008</td>\n",
              "      <td>More than half the 130 asylum-seekers facing f...</td>\n",
              "      <td>MailOnline</td>\n",
              "      <td>8.0</td>\n",
              "      <td>0.0218</td>\n",
              "      <td>0.1511</td>\n",
              "      <td>0.5018</td>\n",
              "      <td>0.3253</td>\n",
              "      <td>0.0217</td>\n",
              "      <td>0.7471</td>\n",
              "      <td>0.2312</td>\n",
              "      <td>1</td>\n",
              "      <td>[asylum, refugee, migrant, immigrant, immigrat...</td>\n",
              "    </tr>\n",
              "    <tr>\n",
              "      <th>3</th>\n",
              "      <td>2022-06-07 11:37:57+00:00</td>\n",
              "      <td>1534137584338845696</td>\n",
              "      <td>'Rwanda plan is NOT working': 80 migrants land...</td>\n",
              "      <td>DailyMailUK</td>\n",
              "      <td>5.0</td>\n",
              "      <td>0.0084</td>\n",
              "      <td>0.0223</td>\n",
              "      <td>0.1745</td>\n",
              "      <td>0.7949</td>\n",
              "      <td>0.0052</td>\n",
              "      <td>0.1088</td>\n",
              "      <td>0.8860</td>\n",
              "      <td>32</td>\n",
              "      <td>[migrant, refugee, migration, immigration, imm...</td>\n",
              "    </tr>\n",
              "    <tr>\n",
              "      <th>4</th>\n",
              "      <td>2022-06-05 03:29:56+00:00</td>\n",
              "      <td>1533289994584002561</td>\n",
              "      <td>Anger as hundreds of refugee children from Ukr...</td>\n",
              "      <td>MailOnline</td>\n",
              "      <td>16.0</td>\n",
              "      <td>0.0090</td>\n",
              "      <td>0.0191</td>\n",
              "      <td>0.8268</td>\n",
              "      <td>0.1451</td>\n",
              "      <td>0.0048</td>\n",
              "      <td>0.1251</td>\n",
              "      <td>0.8701</td>\n",
              "      <td>4</td>\n",
              "      <td>[refugee, migrant, ukraine, ukrainian, asylum,...</td>\n",
              "    </tr>\n",
              "    <tr>\n",
              "      <th>...</th>\n",
              "      <td>...</td>\n",
              "      <td>...</td>\n",
              "      <td>...</td>\n",
              "      <td>...</td>\n",
              "      <td>...</td>\n",
              "      <td>...</td>\n",
              "      <td>...</td>\n",
              "      <td>...</td>\n",
              "      <td>...</td>\n",
              "      <td>...</td>\n",
              "      <td>...</td>\n",
              "      <td>...</td>\n",
              "      <td>...</td>\n",
              "      <td>...</td>\n",
              "    </tr>\n",
              "    <tr>\n",
              "      <th>3996</th>\n",
              "      <td>2017-03-04 17:53:03+00:00</td>\n",
              "      <td>838084889060782083</td>\n",
              "      <td>Mexican congressman MOCKS Donald Trump by posi...</td>\n",
              "      <td>Daily_Express</td>\n",
              "      <td>2.0</td>\n",
              "      <td>0.0188</td>\n",
              "      <td>0.0305</td>\n",
              "      <td>0.9058</td>\n",
              "      <td>0.0449</td>\n",
              "      <td>0.0223</td>\n",
              "      <td>0.5667</td>\n",
              "      <td>0.4110</td>\n",
              "      <td>26</td>\n",
              "      <td>[border, immigration, migrant, immigrant, refu...</td>\n",
              "    </tr>\n",
              "    <tr>\n",
              "      <th>3997</th>\n",
              "      <td>2017-03-04 13:33:19+00:00</td>\n",
              "      <td>838019526205784064</td>\n",
              "      <td>Mexican congressman MOCKS Donald Trump by posi...</td>\n",
              "      <td>Daily_Express</td>\n",
              "      <td>7.0</td>\n",
              "      <td>0.0188</td>\n",
              "      <td>0.0305</td>\n",
              "      <td>0.9058</td>\n",
              "      <td>0.0449</td>\n",
              "      <td>0.0223</td>\n",
              "      <td>0.5667</td>\n",
              "      <td>0.4110</td>\n",
              "      <td>26</td>\n",
              "      <td>[border, immigration, migrant, immigrant, refu...</td>\n",
              "    </tr>\n",
              "    <tr>\n",
              "      <th>3998</th>\n",
              "      <td>2017-03-04 05:14:43+00:00</td>\n",
              "      <td>837894051579953152</td>\n",
              "      <td>Trump administration ‘could separate women &amp;am...</td>\n",
              "      <td>Daily_Express</td>\n",
              "      <td>3.0</td>\n",
              "      <td>0.0138</td>\n",
              "      <td>0.0728</td>\n",
              "      <td>0.5325</td>\n",
              "      <td>0.3809</td>\n",
              "      <td>0.0164</td>\n",
              "      <td>0.7485</td>\n",
              "      <td>0.2352</td>\n",
              "      <td>26</td>\n",
              "      <td>[border, immigration, migrant, immigrant, refu...</td>\n",
              "    </tr>\n",
              "    <tr>\n",
              "      <th>3999</th>\n",
              "      <td>2017-03-03 09:35:02+00:00</td>\n",
              "      <td>837597173923647488</td>\n",
              "      <td>Desperate Merkel flies to North Africa to tack...</td>\n",
              "      <td>Daily_Express</td>\n",
              "      <td>7.0</td>\n",
              "      <td>0.0072</td>\n",
              "      <td>0.0226</td>\n",
              "      <td>0.0892</td>\n",
              "      <td>0.8810</td>\n",
              "      <td>0.0307</td>\n",
              "      <td>0.6359</td>\n",
              "      <td>0.3334</td>\n",
              "      <td>16</td>\n",
              "      <td>[migrant, refugee, brexit, immigration, immigr...</td>\n",
              "    </tr>\n",
              "    <tr>\n",
              "      <th>4000</th>\n",
              "      <td>2017-03-03 03:01:06+00:00</td>\n",
              "      <td>837498035236122624</td>\n",
              "      <td>'Jihadist executioner' asylum seeker arrested ...</td>\n",
              "      <td>MailOnline</td>\n",
              "      <td>28.0</td>\n",
              "      <td>0.0151</td>\n",
              "      <td>0.0183</td>\n",
              "      <td>0.8712</td>\n",
              "      <td>0.0953</td>\n",
              "      <td>0.0074</td>\n",
              "      <td>0.3174</td>\n",
              "      <td>0.6752</td>\n",
              "      <td>1</td>\n",
              "      <td>[asylum, refugee, migrant, immigrant, immigrat...</td>\n",
              "    </tr>\n",
              "  </tbody>\n",
              "</table>\n",
              "<p>4001 rows × 14 columns</p>\n",
              "</div>\n",
              "      <button class=\"colab-df-convert\" onclick=\"convertToInteractive('df-3d5a0cd0-11e7-42d0-a9a8-9a01750b94c7')\"\n",
              "              title=\"Convert this dataframe to an interactive table.\"\n",
              "              style=\"display:none;\">\n",
              "        \n",
              "  <svg xmlns=\"http://www.w3.org/2000/svg\" height=\"24px\"viewBox=\"0 0 24 24\"\n",
              "       width=\"24px\">\n",
              "    <path d=\"M0 0h24v24H0V0z\" fill=\"none\"/>\n",
              "    <path d=\"M18.56 5.44l.94 2.06.94-2.06 2.06-.94-2.06-.94-.94-2.06-.94 2.06-2.06.94zm-11 1L8.5 8.5l.94-2.06 2.06-.94-2.06-.94L8.5 2.5l-.94 2.06-2.06.94zm10 10l.94 2.06.94-2.06 2.06-.94-2.06-.94-.94-2.06-.94 2.06-2.06.94z\"/><path d=\"M17.41 7.96l-1.37-1.37c-.4-.4-.92-.59-1.43-.59-.52 0-1.04.2-1.43.59L10.3 9.45l-7.72 7.72c-.78.78-.78 2.05 0 2.83L4 21.41c.39.39.9.59 1.41.59.51 0 1.02-.2 1.41-.59l7.78-7.78 2.81-2.81c.8-.78.8-2.07 0-2.86zM5.41 20L4 18.59l7.72-7.72 1.47 1.35L5.41 20z\"/>\n",
              "  </svg>\n",
              "      </button>\n",
              "      \n",
              "  <style>\n",
              "    .colab-df-container {\n",
              "      display:flex;\n",
              "      flex-wrap:wrap;\n",
              "      gap: 12px;\n",
              "    }\n",
              "\n",
              "    .colab-df-convert {\n",
              "      background-color: #E8F0FE;\n",
              "      border: none;\n",
              "      border-radius: 50%;\n",
              "      cursor: pointer;\n",
              "      display: none;\n",
              "      fill: #1967D2;\n",
              "      height: 32px;\n",
              "      padding: 0 0 0 0;\n",
              "      width: 32px;\n",
              "    }\n",
              "\n",
              "    .colab-df-convert:hover {\n",
              "      background-color: #E2EBFA;\n",
              "      box-shadow: 0px 1px 2px rgba(60, 64, 67, 0.3), 0px 1px 3px 1px rgba(60, 64, 67, 0.15);\n",
              "      fill: #174EA6;\n",
              "    }\n",
              "\n",
              "    [theme=dark] .colab-df-convert {\n",
              "      background-color: #3B4455;\n",
              "      fill: #D2E3FC;\n",
              "    }\n",
              "\n",
              "    [theme=dark] .colab-df-convert:hover {\n",
              "      background-color: #434B5C;\n",
              "      box-shadow: 0px 1px 3px 1px rgba(0, 0, 0, 0.15);\n",
              "      filter: drop-shadow(0px 1px 2px rgba(0, 0, 0, 0.3));\n",
              "      fill: #FFFFFF;\n",
              "    }\n",
              "  </style>\n",
              "\n",
              "      <script>\n",
              "        const buttonEl =\n",
              "          document.querySelector('#df-3d5a0cd0-11e7-42d0-a9a8-9a01750b94c7 button.colab-df-convert');\n",
              "        buttonEl.style.display =\n",
              "          google.colab.kernel.accessAllowed ? 'block' : 'none';\n",
              "\n",
              "        async function convertToInteractive(key) {\n",
              "          const element = document.querySelector('#df-3d5a0cd0-11e7-42d0-a9a8-9a01750b94c7');\n",
              "          const dataTable =\n",
              "            await google.colab.kernel.invokeFunction('convertToInteractive',\n",
              "                                                     [key], {});\n",
              "          if (!dataTable) return;\n",
              "\n",
              "          const docLinkHtml = 'Like what you see? Visit the ' +\n",
              "            '<a target=\"_blank\" href=https://colab.research.google.com/notebooks/data_table.ipynb>data table notebook</a>'\n",
              "            + ' to learn more about interactive tables.';\n",
              "          element.innerHTML = '';\n",
              "          dataTable['output_type'] = 'display_data';\n",
              "          await google.colab.output.renderOutput(dataTable, element);\n",
              "          const docLink = document.createElement('div');\n",
              "          docLink.innerHTML = docLinkHtml;\n",
              "          element.appendChild(docLink);\n",
              "        }\n",
              "      </script>\n",
              "    </div>\n",
              "  </div>\n",
              "  "
            ]
          },
          "metadata": {},
          "execution_count": 87
        }
      ]
    },
    {
      "cell_type": "code",
      "source": [
        "df_roberta['Topic'].nunique()"
      ],
      "metadata": {
        "colab": {
          "base_uri": "https://localhost:8080/"
        },
        "id": "-AGP-iMhBe33",
        "outputId": "0a767aec-7f70-4220-e8d4-f9e7e95dafaf"
      },
      "execution_count": null,
      "outputs": [
        {
          "output_type": "execute_result",
          "data": {
            "text/plain": [
              "37"
            ]
          },
          "metadata": {},
          "execution_count": 88
        }
      ]
    },
    {
      "cell_type": "code",
      "source": [
        "# function that returns given text based on ID\n",
        "\n",
        "\n",
        "def return_my_text(index):\n",
        "  return df_roberta.loc[index, 'Text']\n"
      ],
      "metadata": {
        "id": "4Vq3cht5Co6j"
      },
      "execution_count": null,
      "outputs": []
    },
    {
      "cell_type": "code",
      "source": [
        "return_my_text(4000)"
      ],
      "metadata": {
        "colab": {
          "base_uri": "https://localhost:8080/",
          "height": 35
        },
        "id": "-99dWc92C4N7",
        "outputId": "cc2eb1bc-cef5-4fc7-906c-38995902cd39"
      },
      "execution_count": null,
      "outputs": [
        {
          "output_type": "execute_result",
          "data": {
            "text/plain": [
              "\"'Jihadist executioner' asylum seeker arrested in Germany https://t.co/C2KTv4LxNY\""
            ],
            "application/vnd.google.colaboratory.intrinsic+json": {
              "type": "string"
            }
          },
          "metadata": {},
          "execution_count": 90
        }
      ]
    },
    {
      "cell_type": "code",
      "source": [
        "df_roberta['preprocessed'] = preprocessing(df_roberta['Text'])"
      ],
      "metadata": {
        "colab": {
          "base_uri": "https://localhost:8080/"
        },
        "id": "CGYsNTNyFK5q",
        "outputId": "3cf3d9c9-f59d-41e3-8803-7ea4275be579"
      },
      "execution_count": null,
      "outputs": [
        {
          "output_type": "stream",
          "name": "stderr",
          "text": [
            "/usr/local/lib/python3.7/dist-packages/ipykernel_launcher.py:1: SettingWithCopyWarning: \n",
            "A value is trying to be set on a copy of a slice from a DataFrame.\n",
            "Try using .loc[row_indexer,col_indexer] = value instead\n",
            "\n",
            "See the caveats in the documentation: https://pandas.pydata.org/pandas-docs/stable/user_guide/indexing.html#returning-a-view-versus-a-copy\n",
            "  \"\"\"Entry point for launching an IPython kernel.\n"
          ]
        }
      ]
    },
    {
      "cell_type": "code",
      "source": [
        "df_roberta.head()"
      ],
      "metadata": {
        "colab": {
          "base_uri": "https://localhost:8080/",
          "height": 791
        },
        "id": "jRvpigRKnPu-",
        "outputId": "f42beec8-7fb4-42ce-a0c3-a3096e6a5ccf"
      },
      "execution_count": null,
      "outputs": [
        {
          "output_type": "execute_result",
          "data": {
            "text/plain": [
              "                    Datetime             Tweet Id  \\\n",
              "0  2022-06-08 16:00:06+00:00  1534565944374267909   \n",
              "1  2022-06-08 12:56:00+00:00  1534519612200562689   \n",
              "2  2022-06-08 01:30:08+00:00  1534347009406251008   \n",
              "3  2022-06-07 11:37:57+00:00  1534137584338845696   \n",
              "4  2022-06-05 03:29:56+00:00  1533289994584002561   \n",
              "\n",
              "                                                Text       Username  \\\n",
              "0  Rwanda policy is having 'NO impact' on migrant...    DailyMailUK   \n",
              "1  Asylum seeker claims UK hotel stay is 'worse t...  Daily_Express   \n",
              "2  More than half the 130 asylum-seekers facing f...     MailOnline   \n",
              "3  'Rwanda plan is NOT working': 80 migrants land...    DailyMailUK   \n",
              "4  Anger as hundreds of refugee children from Ukr...     MailOnline   \n",
              "\n",
              "   Like Count     joy  optimism   anger  sadness  positive  neutral  negative  \\\n",
              "0         2.0  0.0087    0.0678  0.4097   0.5138    0.0166   0.4520    0.5313   \n",
              "1         8.0  0.0075    0.0162  0.7976   0.1787    0.0054   0.1190    0.8756   \n",
              "2         8.0  0.0218    0.1511  0.5018   0.3253    0.0217   0.7471    0.2312   \n",
              "3         5.0  0.0084    0.0223  0.1745   0.7949    0.0052   0.1088    0.8860   \n",
              "4        16.0  0.0090    0.0191  0.8268   0.1451    0.0048   0.1251    0.8701   \n",
              "\n",
              "   Topic                                        Topic Words  \\\n",
              "0     32  [migrant, refugee, migration, immigration, imm...   \n",
              "1      1  [asylum, refugee, migrant, immigrant, immigrat...   \n",
              "2      1  [asylum, refugee, migrant, immigrant, immigrat...   \n",
              "3     32  [migrant, refugee, migration, immigration, imm...   \n",
              "4      4  [refugee, migrant, ukraine, ukrainian, asylum,...   \n",
              "\n",
              "                                        preprocessed  \n",
              "0  rwanda policy impact migrant uk border inspect...  \n",
              "1     asylum seeker claim uk hotel stay worse prison  \n",
              "2  half 130 asylum seeker facing first deportatio...  \n",
              "3  rwanda plan working 80 migrant land dover toda...  \n",
              "4  anger hundred refugee child ukraine left stran...  "
            ],
            "text/html": [
              "\n",
              "  <div id=\"df-3eb94fbb-f8fa-4747-8e3a-1a7391bd683d\">\n",
              "    <div class=\"colab-df-container\">\n",
              "      <div>\n",
              "<style scoped>\n",
              "    .dataframe tbody tr th:only-of-type {\n",
              "        vertical-align: middle;\n",
              "    }\n",
              "\n",
              "    .dataframe tbody tr th {\n",
              "        vertical-align: top;\n",
              "    }\n",
              "\n",
              "    .dataframe thead th {\n",
              "        text-align: right;\n",
              "    }\n",
              "</style>\n",
              "<table border=\"1\" class=\"dataframe\">\n",
              "  <thead>\n",
              "    <tr style=\"text-align: right;\">\n",
              "      <th></th>\n",
              "      <th>Datetime</th>\n",
              "      <th>Tweet Id</th>\n",
              "      <th>Text</th>\n",
              "      <th>Username</th>\n",
              "      <th>Like Count</th>\n",
              "      <th>joy</th>\n",
              "      <th>optimism</th>\n",
              "      <th>anger</th>\n",
              "      <th>sadness</th>\n",
              "      <th>positive</th>\n",
              "      <th>neutral</th>\n",
              "      <th>negative</th>\n",
              "      <th>Topic</th>\n",
              "      <th>Topic Words</th>\n",
              "      <th>preprocessed</th>\n",
              "    </tr>\n",
              "  </thead>\n",
              "  <tbody>\n",
              "    <tr>\n",
              "      <th>0</th>\n",
              "      <td>2022-06-08 16:00:06+00:00</td>\n",
              "      <td>1534565944374267909</td>\n",
              "      <td>Rwanda policy is having 'NO impact' on migrant...</td>\n",
              "      <td>DailyMailUK</td>\n",
              "      <td>2.0</td>\n",
              "      <td>0.0087</td>\n",
              "      <td>0.0678</td>\n",
              "      <td>0.4097</td>\n",
              "      <td>0.5138</td>\n",
              "      <td>0.0166</td>\n",
              "      <td>0.4520</td>\n",
              "      <td>0.5313</td>\n",
              "      <td>32</td>\n",
              "      <td>[migrant, refugee, migration, immigration, imm...</td>\n",
              "      <td>rwanda policy impact migrant uk border inspect...</td>\n",
              "    </tr>\n",
              "    <tr>\n",
              "      <th>1</th>\n",
              "      <td>2022-06-08 12:56:00+00:00</td>\n",
              "      <td>1534519612200562689</td>\n",
              "      <td>Asylum seeker claims UK hotel stay is 'worse t...</td>\n",
              "      <td>Daily_Express</td>\n",
              "      <td>8.0</td>\n",
              "      <td>0.0075</td>\n",
              "      <td>0.0162</td>\n",
              "      <td>0.7976</td>\n",
              "      <td>0.1787</td>\n",
              "      <td>0.0054</td>\n",
              "      <td>0.1190</td>\n",
              "      <td>0.8756</td>\n",
              "      <td>1</td>\n",
              "      <td>[asylum, refugee, migrant, immigrant, immigrat...</td>\n",
              "      <td>asylum seeker claim uk hotel stay worse prison</td>\n",
              "    </tr>\n",
              "    <tr>\n",
              "      <th>2</th>\n",
              "      <td>2022-06-08 01:30:08+00:00</td>\n",
              "      <td>1534347009406251008</td>\n",
              "      <td>More than half the 130 asylum-seekers facing f...</td>\n",
              "      <td>MailOnline</td>\n",
              "      <td>8.0</td>\n",
              "      <td>0.0218</td>\n",
              "      <td>0.1511</td>\n",
              "      <td>0.5018</td>\n",
              "      <td>0.3253</td>\n",
              "      <td>0.0217</td>\n",
              "      <td>0.7471</td>\n",
              "      <td>0.2312</td>\n",
              "      <td>1</td>\n",
              "      <td>[asylum, refugee, migrant, immigrant, immigrat...</td>\n",
              "      <td>half 130 asylum seeker facing first deportatio...</td>\n",
              "    </tr>\n",
              "    <tr>\n",
              "      <th>3</th>\n",
              "      <td>2022-06-07 11:37:57+00:00</td>\n",
              "      <td>1534137584338845696</td>\n",
              "      <td>'Rwanda plan is NOT working': 80 migrants land...</td>\n",
              "      <td>DailyMailUK</td>\n",
              "      <td>5.0</td>\n",
              "      <td>0.0084</td>\n",
              "      <td>0.0223</td>\n",
              "      <td>0.1745</td>\n",
              "      <td>0.7949</td>\n",
              "      <td>0.0052</td>\n",
              "      <td>0.1088</td>\n",
              "      <td>0.8860</td>\n",
              "      <td>32</td>\n",
              "      <td>[migrant, refugee, migration, immigration, imm...</td>\n",
              "      <td>rwanda plan working 80 migrant land dover toda...</td>\n",
              "    </tr>\n",
              "    <tr>\n",
              "      <th>4</th>\n",
              "      <td>2022-06-05 03:29:56+00:00</td>\n",
              "      <td>1533289994584002561</td>\n",
              "      <td>Anger as hundreds of refugee children from Ukr...</td>\n",
              "      <td>MailOnline</td>\n",
              "      <td>16.0</td>\n",
              "      <td>0.0090</td>\n",
              "      <td>0.0191</td>\n",
              "      <td>0.8268</td>\n",
              "      <td>0.1451</td>\n",
              "      <td>0.0048</td>\n",
              "      <td>0.1251</td>\n",
              "      <td>0.8701</td>\n",
              "      <td>4</td>\n",
              "      <td>[refugee, migrant, ukraine, ukrainian, asylum,...</td>\n",
              "      <td>anger hundred refugee child ukraine left stran...</td>\n",
              "    </tr>\n",
              "  </tbody>\n",
              "</table>\n",
              "</div>\n",
              "      <button class=\"colab-df-convert\" onclick=\"convertToInteractive('df-3eb94fbb-f8fa-4747-8e3a-1a7391bd683d')\"\n",
              "              title=\"Convert this dataframe to an interactive table.\"\n",
              "              style=\"display:none;\">\n",
              "        \n",
              "  <svg xmlns=\"http://www.w3.org/2000/svg\" height=\"24px\"viewBox=\"0 0 24 24\"\n",
              "       width=\"24px\">\n",
              "    <path d=\"M0 0h24v24H0V0z\" fill=\"none\"/>\n",
              "    <path d=\"M18.56 5.44l.94 2.06.94-2.06 2.06-.94-2.06-.94-.94-2.06-.94 2.06-2.06.94zm-11 1L8.5 8.5l.94-2.06 2.06-.94-2.06-.94L8.5 2.5l-.94 2.06-2.06.94zm10 10l.94 2.06.94-2.06 2.06-.94-2.06-.94-.94-2.06-.94 2.06-2.06.94z\"/><path d=\"M17.41 7.96l-1.37-1.37c-.4-.4-.92-.59-1.43-.59-.52 0-1.04.2-1.43.59L10.3 9.45l-7.72 7.72c-.78.78-.78 2.05 0 2.83L4 21.41c.39.39.9.59 1.41.59.51 0 1.02-.2 1.41-.59l7.78-7.78 2.81-2.81c.8-.78.8-2.07 0-2.86zM5.41 20L4 18.59l7.72-7.72 1.47 1.35L5.41 20z\"/>\n",
              "  </svg>\n",
              "      </button>\n",
              "      \n",
              "  <style>\n",
              "    .colab-df-container {\n",
              "      display:flex;\n",
              "      flex-wrap:wrap;\n",
              "      gap: 12px;\n",
              "    }\n",
              "\n",
              "    .colab-df-convert {\n",
              "      background-color: #E8F0FE;\n",
              "      border: none;\n",
              "      border-radius: 50%;\n",
              "      cursor: pointer;\n",
              "      display: none;\n",
              "      fill: #1967D2;\n",
              "      height: 32px;\n",
              "      padding: 0 0 0 0;\n",
              "      width: 32px;\n",
              "    }\n",
              "\n",
              "    .colab-df-convert:hover {\n",
              "      background-color: #E2EBFA;\n",
              "      box-shadow: 0px 1px 2px rgba(60, 64, 67, 0.3), 0px 1px 3px 1px rgba(60, 64, 67, 0.15);\n",
              "      fill: #174EA6;\n",
              "    }\n",
              "\n",
              "    [theme=dark] .colab-df-convert {\n",
              "      background-color: #3B4455;\n",
              "      fill: #D2E3FC;\n",
              "    }\n",
              "\n",
              "    [theme=dark] .colab-df-convert:hover {\n",
              "      background-color: #434B5C;\n",
              "      box-shadow: 0px 1px 3px 1px rgba(0, 0, 0, 0.15);\n",
              "      filter: drop-shadow(0px 1px 2px rgba(0, 0, 0, 0.3));\n",
              "      fill: #FFFFFF;\n",
              "    }\n",
              "  </style>\n",
              "\n",
              "      <script>\n",
              "        const buttonEl =\n",
              "          document.querySelector('#df-3eb94fbb-f8fa-4747-8e3a-1a7391bd683d button.colab-df-convert');\n",
              "        buttonEl.style.display =\n",
              "          google.colab.kernel.accessAllowed ? 'block' : 'none';\n",
              "\n",
              "        async function convertToInteractive(key) {\n",
              "          const element = document.querySelector('#df-3eb94fbb-f8fa-4747-8e3a-1a7391bd683d');\n",
              "          const dataTable =\n",
              "            await google.colab.kernel.invokeFunction('convertToInteractive',\n",
              "                                                     [key], {});\n",
              "          if (!dataTable) return;\n",
              "\n",
              "          const docLinkHtml = 'Like what you see? Visit the ' +\n",
              "            '<a target=\"_blank\" href=https://colab.research.google.com/notebooks/data_table.ipynb>data table notebook</a>'\n",
              "            + ' to learn more about interactive tables.';\n",
              "          element.innerHTML = '';\n",
              "          dataTable['output_type'] = 'display_data';\n",
              "          await google.colab.output.renderOutput(dataTable, element);\n",
              "          const docLink = document.createElement('div');\n",
              "          docLink.innerHTML = docLinkHtml;\n",
              "          element.appendChild(docLink);\n",
              "        }\n",
              "      </script>\n",
              "    </div>\n",
              "  </div>\n",
              "  "
            ]
          },
          "metadata": {},
          "execution_count": 92
        }
      ]
    },
    {
      "cell_type": "code",
      "source": [
        "df_roberta['Year'] = df_roberta['Datetime'].apply(lambda x: x[0:4])"
      ],
      "metadata": {
        "colab": {
          "base_uri": "https://localhost:8080/"
        },
        "id": "MRb5bFBAFQpp",
        "outputId": "03a5ef97-b5c8-4ac5-acd2-5ab336b2ab78"
      },
      "execution_count": null,
      "outputs": [
        {
          "output_type": "stream",
          "name": "stderr",
          "text": [
            "/usr/local/lib/python3.7/dist-packages/ipykernel_launcher.py:1: SettingWithCopyWarning: \n",
            "A value is trying to be set on a copy of a slice from a DataFrame.\n",
            "Try using .loc[row_indexer,col_indexer] = value instead\n",
            "\n",
            "See the caveats in the documentation: https://pandas.pydata.org/pandas-docs/stable/user_guide/indexing.html#returning-a-view-versus-a-copy\n",
            "  \"\"\"Entry point for launching an IPython kernel.\n"
          ]
        }
      ]
    },
    {
      "cell_type": "code",
      "source": [
        "df_roberta_bins = df_roberta.copy()"
      ],
      "metadata": {
        "id": "JQDzvSvZoCsK"
      },
      "execution_count": null,
      "outputs": []
    },
    {
      "cell_type": "markdown",
      "source": [
        "Create a major emotion and major sentiment comlumn - better insights for TEP"
      ],
      "metadata": {
        "id": "Q6wQtlHt05iu"
      }
    },
    {
      "cell_type": "code",
      "source": [
        "arr_roberta_emotion = np.array(df_roberta[['joy', 'optimism', 'anger', 'sadness']])\n",
        "arr_roberta_sentiment = np.array(df_roberta[[\"positive\", \"neutral\", \"negative\"]])"
      ],
      "metadata": {
        "id": "me62dzlaT_dQ"
      },
      "execution_count": null,
      "outputs": []
    },
    {
      "cell_type": "code",
      "source": [
        "emotion_arr = np.argmax(arr_roberta_emotion,axis=1)\n",
        "emotion_list = emotion_arr.tolist()\n",
        "dct = {0:'joy', 1:'optimism', 2:'anger', 3:'sadness'}\n",
        "final_emotion_list = [dct[x] for x in emotion_list]\n",
        "df_roberta_bins['max_emotion'] = final_emotion_list"
      ],
      "metadata": {
        "id": "DTi6QeHtUUC9"
      },
      "execution_count": null,
      "outputs": []
    },
    {
      "cell_type": "code",
      "source": [
        "sentiment_arr = np.argmax(arr_roberta_sentiment,axis=1)\n",
        "sentiment_list = sentiment_arr.tolist()\n",
        "dct = {0:'positive', 1:'neutral', 2:'negative'}\n",
        "final_sentiment_list = [dct[x] for x in sentiment_list]\n",
        "df_roberta_bins['max_sentiment'] = final_sentiment_list"
      ],
      "metadata": {
        "id": "-JqIiuvYWcic"
      },
      "execution_count": null,
      "outputs": []
    },
    {
      "cell_type": "code",
      "source": [
        "df_roberta_bins"
      ],
      "metadata": {
        "colab": {
          "base_uri": "https://localhost:8080/",
          "height": 1000
        },
        "id": "NuPI3IMNWrIs",
        "outputId": "b73b13c5-36e1-4c4a-8f94-eb9a5c1b43dd"
      },
      "execution_count": null,
      "outputs": [
        {
          "output_type": "execute_result",
          "data": {
            "text/plain": [
              "                       Datetime             Tweet Id  \\\n",
              "0     2022-06-08 16:00:06+00:00  1534565944374267909   \n",
              "1     2022-06-08 12:56:00+00:00  1534519612200562689   \n",
              "2     2022-06-08 01:30:08+00:00  1534347009406251008   \n",
              "3     2022-06-07 11:37:57+00:00  1534137584338845696   \n",
              "4     2022-06-05 03:29:56+00:00  1533289994584002561   \n",
              "...                         ...                  ...   \n",
              "3996  2017-03-04 17:53:03+00:00   838084889060782083   \n",
              "3997  2017-03-04 13:33:19+00:00   838019526205784064   \n",
              "3998  2017-03-04 05:14:43+00:00   837894051579953152   \n",
              "3999  2017-03-03 09:35:02+00:00   837597173923647488   \n",
              "4000  2017-03-03 03:01:06+00:00   837498035236122624   \n",
              "\n",
              "                                                   Text       Username  \\\n",
              "0     Rwanda policy is having 'NO impact' on migrant...    DailyMailUK   \n",
              "1     Asylum seeker claims UK hotel stay is 'worse t...  Daily_Express   \n",
              "2     More than half the 130 asylum-seekers facing f...     MailOnline   \n",
              "3     'Rwanda plan is NOT working': 80 migrants land...    DailyMailUK   \n",
              "4     Anger as hundreds of refugee children from Ukr...     MailOnline   \n",
              "...                                                 ...            ...   \n",
              "3996  Mexican congressman MOCKS Donald Trump by posi...  Daily_Express   \n",
              "3997  Mexican congressman MOCKS Donald Trump by posi...  Daily_Express   \n",
              "3998  Trump administration ‘could separate women &am...  Daily_Express   \n",
              "3999  Desperate Merkel flies to North Africa to tack...  Daily_Express   \n",
              "4000  'Jihadist executioner' asylum seeker arrested ...     MailOnline   \n",
              "\n",
              "      Like Count     joy  optimism   anger  sadness  positive  neutral  \\\n",
              "0            2.0  0.0087    0.0678  0.4097   0.5138    0.0166   0.4520   \n",
              "1            8.0  0.0075    0.0162  0.7976   0.1787    0.0054   0.1190   \n",
              "2            8.0  0.0218    0.1511  0.5018   0.3253    0.0217   0.7471   \n",
              "3            5.0  0.0084    0.0223  0.1745   0.7949    0.0052   0.1088   \n",
              "4           16.0  0.0090    0.0191  0.8268   0.1451    0.0048   0.1251   \n",
              "...          ...     ...       ...     ...      ...       ...      ...   \n",
              "3996         2.0  0.0188    0.0305  0.9058   0.0449    0.0223   0.5667   \n",
              "3997         7.0  0.0188    0.0305  0.9058   0.0449    0.0223   0.5667   \n",
              "3998         3.0  0.0138    0.0728  0.5325   0.3809    0.0164   0.7485   \n",
              "3999         7.0  0.0072    0.0226  0.0892   0.8810    0.0307   0.6359   \n",
              "4000        28.0  0.0151    0.0183  0.8712   0.0953    0.0074   0.3174   \n",
              "\n",
              "      negative  Topic                                        Topic Words  \\\n",
              "0       0.5313     32  [migrant, refugee, migration, immigration, imm...   \n",
              "1       0.8756      1  [asylum, refugee, migrant, immigrant, immigrat...   \n",
              "2       0.2312      1  [asylum, refugee, migrant, immigrant, immigrat...   \n",
              "3       0.8860     32  [migrant, refugee, migration, immigration, imm...   \n",
              "4       0.8701      4  [refugee, migrant, ukraine, ukrainian, asylum,...   \n",
              "...        ...    ...                                                ...   \n",
              "3996    0.4110     26  [border, immigration, migrant, immigrant, refu...   \n",
              "3997    0.4110     26  [border, immigration, migrant, immigrant, refu...   \n",
              "3998    0.2352     26  [border, immigration, migrant, immigrant, refu...   \n",
              "3999    0.3334     16  [migrant, refugee, brexit, immigration, immigr...   \n",
              "4000    0.6752      1  [asylum, refugee, migrant, immigrant, immigrat...   \n",
              "\n",
              "                                           preprocessed  Year max_emotion  \\\n",
              "0     rwanda policy impact migrant uk border inspect...  2022     sadness   \n",
              "1        asylum seeker claim uk hotel stay worse prison  2022       anger   \n",
              "2     half 130 asylum seeker facing first deportatio...  2022       anger   \n",
              "3     rwanda plan working 80 migrant land dover toda...  2022     sadness   \n",
              "4     anger hundred refugee child ukraine left stran...  2022       anger   \n",
              "...                                                 ...   ...         ...   \n",
              "3996  mexican congressman mock donald trump posing p...  2017       anger   \n",
              "3997  mexican congressman mock donald trump posing p...  2017       anger   \n",
              "3998  trump administration could separate woman amp ...  2017       anger   \n",
              "3999  desperate merkel fly north africa tackle migra...  2017     sadness   \n",
              "4000  jihadist executioner asylum seeker arrested ge...  2017       anger   \n",
              "\n",
              "     max_sentiment  \n",
              "0         negative  \n",
              "1         negative  \n",
              "2          neutral  \n",
              "3         negative  \n",
              "4         negative  \n",
              "...            ...  \n",
              "3996       neutral  \n",
              "3997       neutral  \n",
              "3998       neutral  \n",
              "3999       neutral  \n",
              "4000      negative  \n",
              "\n",
              "[4001 rows x 18 columns]"
            ],
            "text/html": [
              "\n",
              "  <div id=\"df-d00914c8-8d24-41a3-916e-8364c0ee8573\">\n",
              "    <div class=\"colab-df-container\">\n",
              "      <div>\n",
              "<style scoped>\n",
              "    .dataframe tbody tr th:only-of-type {\n",
              "        vertical-align: middle;\n",
              "    }\n",
              "\n",
              "    .dataframe tbody tr th {\n",
              "        vertical-align: top;\n",
              "    }\n",
              "\n",
              "    .dataframe thead th {\n",
              "        text-align: right;\n",
              "    }\n",
              "</style>\n",
              "<table border=\"1\" class=\"dataframe\">\n",
              "  <thead>\n",
              "    <tr style=\"text-align: right;\">\n",
              "      <th></th>\n",
              "      <th>Datetime</th>\n",
              "      <th>Tweet Id</th>\n",
              "      <th>Text</th>\n",
              "      <th>Username</th>\n",
              "      <th>Like Count</th>\n",
              "      <th>joy</th>\n",
              "      <th>optimism</th>\n",
              "      <th>anger</th>\n",
              "      <th>sadness</th>\n",
              "      <th>positive</th>\n",
              "      <th>neutral</th>\n",
              "      <th>negative</th>\n",
              "      <th>Topic</th>\n",
              "      <th>Topic Words</th>\n",
              "      <th>preprocessed</th>\n",
              "      <th>Year</th>\n",
              "      <th>max_emotion</th>\n",
              "      <th>max_sentiment</th>\n",
              "    </tr>\n",
              "  </thead>\n",
              "  <tbody>\n",
              "    <tr>\n",
              "      <th>0</th>\n",
              "      <td>2022-06-08 16:00:06+00:00</td>\n",
              "      <td>1534565944374267909</td>\n",
              "      <td>Rwanda policy is having 'NO impact' on migrant...</td>\n",
              "      <td>DailyMailUK</td>\n",
              "      <td>2.0</td>\n",
              "      <td>0.0087</td>\n",
              "      <td>0.0678</td>\n",
              "      <td>0.4097</td>\n",
              "      <td>0.5138</td>\n",
              "      <td>0.0166</td>\n",
              "      <td>0.4520</td>\n",
              "      <td>0.5313</td>\n",
              "      <td>32</td>\n",
              "      <td>[migrant, refugee, migration, immigration, imm...</td>\n",
              "      <td>rwanda policy impact migrant uk border inspect...</td>\n",
              "      <td>2022</td>\n",
              "      <td>sadness</td>\n",
              "      <td>negative</td>\n",
              "    </tr>\n",
              "    <tr>\n",
              "      <th>1</th>\n",
              "      <td>2022-06-08 12:56:00+00:00</td>\n",
              "      <td>1534519612200562689</td>\n",
              "      <td>Asylum seeker claims UK hotel stay is 'worse t...</td>\n",
              "      <td>Daily_Express</td>\n",
              "      <td>8.0</td>\n",
              "      <td>0.0075</td>\n",
              "      <td>0.0162</td>\n",
              "      <td>0.7976</td>\n",
              "      <td>0.1787</td>\n",
              "      <td>0.0054</td>\n",
              "      <td>0.1190</td>\n",
              "      <td>0.8756</td>\n",
              "      <td>1</td>\n",
              "      <td>[asylum, refugee, migrant, immigrant, immigrat...</td>\n",
              "      <td>asylum seeker claim uk hotel stay worse prison</td>\n",
              "      <td>2022</td>\n",
              "      <td>anger</td>\n",
              "      <td>negative</td>\n",
              "    </tr>\n",
              "    <tr>\n",
              "      <th>2</th>\n",
              "      <td>2022-06-08 01:30:08+00:00</td>\n",
              "      <td>1534347009406251008</td>\n",
              "      <td>More than half the 130 asylum-seekers facing f...</td>\n",
              "      <td>MailOnline</td>\n",
              "      <td>8.0</td>\n",
              "      <td>0.0218</td>\n",
              "      <td>0.1511</td>\n",
              "      <td>0.5018</td>\n",
              "      <td>0.3253</td>\n",
              "      <td>0.0217</td>\n",
              "      <td>0.7471</td>\n",
              "      <td>0.2312</td>\n",
              "      <td>1</td>\n",
              "      <td>[asylum, refugee, migrant, immigrant, immigrat...</td>\n",
              "      <td>half 130 asylum seeker facing first deportatio...</td>\n",
              "      <td>2022</td>\n",
              "      <td>anger</td>\n",
              "      <td>neutral</td>\n",
              "    </tr>\n",
              "    <tr>\n",
              "      <th>3</th>\n",
              "      <td>2022-06-07 11:37:57+00:00</td>\n",
              "      <td>1534137584338845696</td>\n",
              "      <td>'Rwanda plan is NOT working': 80 migrants land...</td>\n",
              "      <td>DailyMailUK</td>\n",
              "      <td>5.0</td>\n",
              "      <td>0.0084</td>\n",
              "      <td>0.0223</td>\n",
              "      <td>0.1745</td>\n",
              "      <td>0.7949</td>\n",
              "      <td>0.0052</td>\n",
              "      <td>0.1088</td>\n",
              "      <td>0.8860</td>\n",
              "      <td>32</td>\n",
              "      <td>[migrant, refugee, migration, immigration, imm...</td>\n",
              "      <td>rwanda plan working 80 migrant land dover toda...</td>\n",
              "      <td>2022</td>\n",
              "      <td>sadness</td>\n",
              "      <td>negative</td>\n",
              "    </tr>\n",
              "    <tr>\n",
              "      <th>4</th>\n",
              "      <td>2022-06-05 03:29:56+00:00</td>\n",
              "      <td>1533289994584002561</td>\n",
              "      <td>Anger as hundreds of refugee children from Ukr...</td>\n",
              "      <td>MailOnline</td>\n",
              "      <td>16.0</td>\n",
              "      <td>0.0090</td>\n",
              "      <td>0.0191</td>\n",
              "      <td>0.8268</td>\n",
              "      <td>0.1451</td>\n",
              "      <td>0.0048</td>\n",
              "      <td>0.1251</td>\n",
              "      <td>0.8701</td>\n",
              "      <td>4</td>\n",
              "      <td>[refugee, migrant, ukraine, ukrainian, asylum,...</td>\n",
              "      <td>anger hundred refugee child ukraine left stran...</td>\n",
              "      <td>2022</td>\n",
              "      <td>anger</td>\n",
              "      <td>negative</td>\n",
              "    </tr>\n",
              "    <tr>\n",
              "      <th>...</th>\n",
              "      <td>...</td>\n",
              "      <td>...</td>\n",
              "      <td>...</td>\n",
              "      <td>...</td>\n",
              "      <td>...</td>\n",
              "      <td>...</td>\n",
              "      <td>...</td>\n",
              "      <td>...</td>\n",
              "      <td>...</td>\n",
              "      <td>...</td>\n",
              "      <td>...</td>\n",
              "      <td>...</td>\n",
              "      <td>...</td>\n",
              "      <td>...</td>\n",
              "      <td>...</td>\n",
              "      <td>...</td>\n",
              "      <td>...</td>\n",
              "      <td>...</td>\n",
              "    </tr>\n",
              "    <tr>\n",
              "      <th>3996</th>\n",
              "      <td>2017-03-04 17:53:03+00:00</td>\n",
              "      <td>838084889060782083</td>\n",
              "      <td>Mexican congressman MOCKS Donald Trump by posi...</td>\n",
              "      <td>Daily_Express</td>\n",
              "      <td>2.0</td>\n",
              "      <td>0.0188</td>\n",
              "      <td>0.0305</td>\n",
              "      <td>0.9058</td>\n",
              "      <td>0.0449</td>\n",
              "      <td>0.0223</td>\n",
              "      <td>0.5667</td>\n",
              "      <td>0.4110</td>\n",
              "      <td>26</td>\n",
              "      <td>[border, immigration, migrant, immigrant, refu...</td>\n",
              "      <td>mexican congressman mock donald trump posing p...</td>\n",
              "      <td>2017</td>\n",
              "      <td>anger</td>\n",
              "      <td>neutral</td>\n",
              "    </tr>\n",
              "    <tr>\n",
              "      <th>3997</th>\n",
              "      <td>2017-03-04 13:33:19+00:00</td>\n",
              "      <td>838019526205784064</td>\n",
              "      <td>Mexican congressman MOCKS Donald Trump by posi...</td>\n",
              "      <td>Daily_Express</td>\n",
              "      <td>7.0</td>\n",
              "      <td>0.0188</td>\n",
              "      <td>0.0305</td>\n",
              "      <td>0.9058</td>\n",
              "      <td>0.0449</td>\n",
              "      <td>0.0223</td>\n",
              "      <td>0.5667</td>\n",
              "      <td>0.4110</td>\n",
              "      <td>26</td>\n",
              "      <td>[border, immigration, migrant, immigrant, refu...</td>\n",
              "      <td>mexican congressman mock donald trump posing p...</td>\n",
              "      <td>2017</td>\n",
              "      <td>anger</td>\n",
              "      <td>neutral</td>\n",
              "    </tr>\n",
              "    <tr>\n",
              "      <th>3998</th>\n",
              "      <td>2017-03-04 05:14:43+00:00</td>\n",
              "      <td>837894051579953152</td>\n",
              "      <td>Trump administration ‘could separate women &amp;am...</td>\n",
              "      <td>Daily_Express</td>\n",
              "      <td>3.0</td>\n",
              "      <td>0.0138</td>\n",
              "      <td>0.0728</td>\n",
              "      <td>0.5325</td>\n",
              "      <td>0.3809</td>\n",
              "      <td>0.0164</td>\n",
              "      <td>0.7485</td>\n",
              "      <td>0.2352</td>\n",
              "      <td>26</td>\n",
              "      <td>[border, immigration, migrant, immigrant, refu...</td>\n",
              "      <td>trump administration could separate woman amp ...</td>\n",
              "      <td>2017</td>\n",
              "      <td>anger</td>\n",
              "      <td>neutral</td>\n",
              "    </tr>\n",
              "    <tr>\n",
              "      <th>3999</th>\n",
              "      <td>2017-03-03 09:35:02+00:00</td>\n",
              "      <td>837597173923647488</td>\n",
              "      <td>Desperate Merkel flies to North Africa to tack...</td>\n",
              "      <td>Daily_Express</td>\n",
              "      <td>7.0</td>\n",
              "      <td>0.0072</td>\n",
              "      <td>0.0226</td>\n",
              "      <td>0.0892</td>\n",
              "      <td>0.8810</td>\n",
              "      <td>0.0307</td>\n",
              "      <td>0.6359</td>\n",
              "      <td>0.3334</td>\n",
              "      <td>16</td>\n",
              "      <td>[migrant, refugee, brexit, immigration, immigr...</td>\n",
              "      <td>desperate merkel fly north africa tackle migra...</td>\n",
              "      <td>2017</td>\n",
              "      <td>sadness</td>\n",
              "      <td>neutral</td>\n",
              "    </tr>\n",
              "    <tr>\n",
              "      <th>4000</th>\n",
              "      <td>2017-03-03 03:01:06+00:00</td>\n",
              "      <td>837498035236122624</td>\n",
              "      <td>'Jihadist executioner' asylum seeker arrested ...</td>\n",
              "      <td>MailOnline</td>\n",
              "      <td>28.0</td>\n",
              "      <td>0.0151</td>\n",
              "      <td>0.0183</td>\n",
              "      <td>0.8712</td>\n",
              "      <td>0.0953</td>\n",
              "      <td>0.0074</td>\n",
              "      <td>0.3174</td>\n",
              "      <td>0.6752</td>\n",
              "      <td>1</td>\n",
              "      <td>[asylum, refugee, migrant, immigrant, immigrat...</td>\n",
              "      <td>jihadist executioner asylum seeker arrested ge...</td>\n",
              "      <td>2017</td>\n",
              "      <td>anger</td>\n",
              "      <td>negative</td>\n",
              "    </tr>\n",
              "  </tbody>\n",
              "</table>\n",
              "<p>4001 rows × 18 columns</p>\n",
              "</div>\n",
              "      <button class=\"colab-df-convert\" onclick=\"convertToInteractive('df-d00914c8-8d24-41a3-916e-8364c0ee8573')\"\n",
              "              title=\"Convert this dataframe to an interactive table.\"\n",
              "              style=\"display:none;\">\n",
              "        \n",
              "  <svg xmlns=\"http://www.w3.org/2000/svg\" height=\"24px\"viewBox=\"0 0 24 24\"\n",
              "       width=\"24px\">\n",
              "    <path d=\"M0 0h24v24H0V0z\" fill=\"none\"/>\n",
              "    <path d=\"M18.56 5.44l.94 2.06.94-2.06 2.06-.94-2.06-.94-.94-2.06-.94 2.06-2.06.94zm-11 1L8.5 8.5l.94-2.06 2.06-.94-2.06-.94L8.5 2.5l-.94 2.06-2.06.94zm10 10l.94 2.06.94-2.06 2.06-.94-2.06-.94-.94-2.06-.94 2.06-2.06.94z\"/><path d=\"M17.41 7.96l-1.37-1.37c-.4-.4-.92-.59-1.43-.59-.52 0-1.04.2-1.43.59L10.3 9.45l-7.72 7.72c-.78.78-.78 2.05 0 2.83L4 21.41c.39.39.9.59 1.41.59.51 0 1.02-.2 1.41-.59l7.78-7.78 2.81-2.81c.8-.78.8-2.07 0-2.86zM5.41 20L4 18.59l7.72-7.72 1.47 1.35L5.41 20z\"/>\n",
              "  </svg>\n",
              "      </button>\n",
              "      \n",
              "  <style>\n",
              "    .colab-df-container {\n",
              "      display:flex;\n",
              "      flex-wrap:wrap;\n",
              "      gap: 12px;\n",
              "    }\n",
              "\n",
              "    .colab-df-convert {\n",
              "      background-color: #E8F0FE;\n",
              "      border: none;\n",
              "      border-radius: 50%;\n",
              "      cursor: pointer;\n",
              "      display: none;\n",
              "      fill: #1967D2;\n",
              "      height: 32px;\n",
              "      padding: 0 0 0 0;\n",
              "      width: 32px;\n",
              "    }\n",
              "\n",
              "    .colab-df-convert:hover {\n",
              "      background-color: #E2EBFA;\n",
              "      box-shadow: 0px 1px 2px rgba(60, 64, 67, 0.3), 0px 1px 3px 1px rgba(60, 64, 67, 0.15);\n",
              "      fill: #174EA6;\n",
              "    }\n",
              "\n",
              "    [theme=dark] .colab-df-convert {\n",
              "      background-color: #3B4455;\n",
              "      fill: #D2E3FC;\n",
              "    }\n",
              "\n",
              "    [theme=dark] .colab-df-convert:hover {\n",
              "      background-color: #434B5C;\n",
              "      box-shadow: 0px 1px 3px 1px rgba(0, 0, 0, 0.15);\n",
              "      filter: drop-shadow(0px 1px 2px rgba(0, 0, 0, 0.3));\n",
              "      fill: #FFFFFF;\n",
              "    }\n",
              "  </style>\n",
              "\n",
              "      <script>\n",
              "        const buttonEl =\n",
              "          document.querySelector('#df-d00914c8-8d24-41a3-916e-8364c0ee8573 button.colab-df-convert');\n",
              "        buttonEl.style.display =\n",
              "          google.colab.kernel.accessAllowed ? 'block' : 'none';\n",
              "\n",
              "        async function convertToInteractive(key) {\n",
              "          const element = document.querySelector('#df-d00914c8-8d24-41a3-916e-8364c0ee8573');\n",
              "          const dataTable =\n",
              "            await google.colab.kernel.invokeFunction('convertToInteractive',\n",
              "                                                     [key], {});\n",
              "          if (!dataTable) return;\n",
              "\n",
              "          const docLinkHtml = 'Like what you see? Visit the ' +\n",
              "            '<a target=\"_blank\" href=https://colab.research.google.com/notebooks/data_table.ipynb>data table notebook</a>'\n",
              "            + ' to learn more about interactive tables.';\n",
              "          element.innerHTML = '';\n",
              "          dataTable['output_type'] = 'display_data';\n",
              "          await google.colab.output.renderOutput(dataTable, element);\n",
              "          const docLink = document.createElement('div');\n",
              "          docLink.innerHTML = docLinkHtml;\n",
              "          element.appendChild(docLink);\n",
              "        }\n",
              "      </script>\n",
              "    </div>\n",
              "  </div>\n",
              "  "
            ]
          },
          "metadata": {},
          "execution_count": 98
        }
      ]
    },
    {
      "cell_type": "code",
      "source": [
        "type(np.array(df_roberta['joy']))"
      ],
      "metadata": {
        "colab": {
          "base_uri": "https://localhost:8080/"
        },
        "id": "hWQ2PTRGoyZj",
        "outputId": "c957b6a3-23a1-48b2-9680-8fdb2f966e0b"
      },
      "execution_count": null,
      "outputs": [
        {
          "output_type": "execute_result",
          "data": {
            "text/plain": [
              "numpy.ndarray"
            ]
          },
          "metadata": {},
          "execution_count": 99
        }
      ]
    },
    {
      "cell_type": "markdown",
      "source": [
        "Bins for emotions - Tensorflow Embedding Projector can only colour based on categorical data rather than continuous"
      ],
      "metadata": {
        "id": "rO3ZkCnT1nMf"
      }
    },
    {
      "cell_type": "code",
      "source": [
        "list_emotions = [\"joy\", \"optimism\", \"anger\", \"sadness\", \"positive\", \"neutral\", \"negative\"]\n",
        "for emotion in list_emotions:\n",
        "  df_roberta_bins[emotion] = pd.cut(df_roberta[emotion],\n",
        "       5, labels=[\"very_low\", \"low\", \"neutral\", \"high\", \"very high\"])"
      ],
      "metadata": {
        "id": "P6wq-vXEoMnB"
      },
      "execution_count": null,
      "outputs": []
    },
    {
      "cell_type": "code",
      "source": [
        "df_roberta_bins"
      ],
      "metadata": {
        "colab": {
          "base_uri": "https://localhost:8080/",
          "height": 1000
        },
        "id": "NLr-i-6xrcJl",
        "outputId": "78e07569-ec3d-4207-9ac7-c29ef34b6eeb"
      },
      "execution_count": null,
      "outputs": [
        {
          "output_type": "execute_result",
          "data": {
            "text/plain": [
              "                       Datetime             Tweet Id  \\\n",
              "0     2022-06-08 16:00:06+00:00  1534565944374267909   \n",
              "1     2022-06-08 12:56:00+00:00  1534519612200562689   \n",
              "2     2022-06-08 01:30:08+00:00  1534347009406251008   \n",
              "3     2022-06-07 11:37:57+00:00  1534137584338845696   \n",
              "4     2022-06-05 03:29:56+00:00  1533289994584002561   \n",
              "...                         ...                  ...   \n",
              "3996  2017-03-04 17:53:03+00:00   838084889060782083   \n",
              "3997  2017-03-04 13:33:19+00:00   838019526205784064   \n",
              "3998  2017-03-04 05:14:43+00:00   837894051579953152   \n",
              "3999  2017-03-03 09:35:02+00:00   837597173923647488   \n",
              "4000  2017-03-03 03:01:06+00:00   837498035236122624   \n",
              "\n",
              "                                                   Text       Username  \\\n",
              "0     Rwanda policy is having 'NO impact' on migrant...    DailyMailUK   \n",
              "1     Asylum seeker claims UK hotel stay is 'worse t...  Daily_Express   \n",
              "2     More than half the 130 asylum-seekers facing f...     MailOnline   \n",
              "3     'Rwanda plan is NOT working': 80 migrants land...    DailyMailUK   \n",
              "4     Anger as hundreds of refugee children from Ukr...     MailOnline   \n",
              "...                                                 ...            ...   \n",
              "3996  Mexican congressman MOCKS Donald Trump by posi...  Daily_Express   \n",
              "3997  Mexican congressman MOCKS Donald Trump by posi...  Daily_Express   \n",
              "3998  Trump administration ‘could separate women &am...  Daily_Express   \n",
              "3999  Desperate Merkel flies to North Africa to tack...  Daily_Express   \n",
              "4000  'Jihadist executioner' asylum seeker arrested ...     MailOnline   \n",
              "\n",
              "      Like Count       joy  optimism      anger    sadness  positive  \\\n",
              "0            2.0  very_low  very_low    neutral    neutral  very_low   \n",
              "1            8.0  very_low  very_low  very high   very_low  very_low   \n",
              "2            8.0  very_low  very_low    neutral        low  very_low   \n",
              "3            5.0  very_low  very_low   very_low  very high  very_low   \n",
              "4           16.0  very_low  very_low  very high   very_low  very_low   \n",
              "...          ...       ...       ...        ...        ...       ...   \n",
              "3996         2.0  very_low  very_low  very high   very_low  very_low   \n",
              "3997         7.0  very_low  very_low  very high   very_low  very_low   \n",
              "3998         3.0  very_low  very_low    neutral        low  very_low   \n",
              "3999         7.0  very_low  very_low   very_low  very high  very_low   \n",
              "4000        28.0  very_low  very_low  very high   very_low  very_low   \n",
              "\n",
              "       neutral   negative  Topic  \\\n",
              "0      neutral    neutral     32   \n",
              "1     very_low  very high      1   \n",
              "2         high        low      1   \n",
              "3     very_low  very high     32   \n",
              "4     very_low  very high      4   \n",
              "...        ...        ...    ...   \n",
              "3996   neutral    neutral     26   \n",
              "3997   neutral    neutral     26   \n",
              "3998      high        low     26   \n",
              "3999      high        low     16   \n",
              "4000       low       high      1   \n",
              "\n",
              "                                            Topic Words  \\\n",
              "0     [migrant, refugee, migration, immigration, imm...   \n",
              "1     [asylum, refugee, migrant, immigrant, immigrat...   \n",
              "2     [asylum, refugee, migrant, immigrant, immigrat...   \n",
              "3     [migrant, refugee, migration, immigration, imm...   \n",
              "4     [refugee, migrant, ukraine, ukrainian, asylum,...   \n",
              "...                                                 ...   \n",
              "3996  [border, immigration, migrant, immigrant, refu...   \n",
              "3997  [border, immigration, migrant, immigrant, refu...   \n",
              "3998  [border, immigration, migrant, immigrant, refu...   \n",
              "3999  [migrant, refugee, brexit, immigration, immigr...   \n",
              "4000  [asylum, refugee, migrant, immigrant, immigrat...   \n",
              "\n",
              "                                           preprocessed  Year max_emotion  \\\n",
              "0     rwanda policy impact migrant uk border inspect...  2022     sadness   \n",
              "1        asylum seeker claim uk hotel stay worse prison  2022       anger   \n",
              "2     half 130 asylum seeker facing first deportatio...  2022       anger   \n",
              "3     rwanda plan working 80 migrant land dover toda...  2022     sadness   \n",
              "4     anger hundred refugee child ukraine left stran...  2022       anger   \n",
              "...                                                 ...   ...         ...   \n",
              "3996  mexican congressman mock donald trump posing p...  2017       anger   \n",
              "3997  mexican congressman mock donald trump posing p...  2017       anger   \n",
              "3998  trump administration could separate woman amp ...  2017       anger   \n",
              "3999  desperate merkel fly north africa tackle migra...  2017     sadness   \n",
              "4000  jihadist executioner asylum seeker arrested ge...  2017       anger   \n",
              "\n",
              "     max_sentiment  \n",
              "0         negative  \n",
              "1         negative  \n",
              "2          neutral  \n",
              "3         negative  \n",
              "4         negative  \n",
              "...            ...  \n",
              "3996       neutral  \n",
              "3997       neutral  \n",
              "3998       neutral  \n",
              "3999       neutral  \n",
              "4000      negative  \n",
              "\n",
              "[4001 rows x 18 columns]"
            ],
            "text/html": [
              "\n",
              "  <div id=\"df-817d847e-201b-4cd7-afa4-5496b1455fcb\">\n",
              "    <div class=\"colab-df-container\">\n",
              "      <div>\n",
              "<style scoped>\n",
              "    .dataframe tbody tr th:only-of-type {\n",
              "        vertical-align: middle;\n",
              "    }\n",
              "\n",
              "    .dataframe tbody tr th {\n",
              "        vertical-align: top;\n",
              "    }\n",
              "\n",
              "    .dataframe thead th {\n",
              "        text-align: right;\n",
              "    }\n",
              "</style>\n",
              "<table border=\"1\" class=\"dataframe\">\n",
              "  <thead>\n",
              "    <tr style=\"text-align: right;\">\n",
              "      <th></th>\n",
              "      <th>Datetime</th>\n",
              "      <th>Tweet Id</th>\n",
              "      <th>Text</th>\n",
              "      <th>Username</th>\n",
              "      <th>Like Count</th>\n",
              "      <th>joy</th>\n",
              "      <th>optimism</th>\n",
              "      <th>anger</th>\n",
              "      <th>sadness</th>\n",
              "      <th>positive</th>\n",
              "      <th>neutral</th>\n",
              "      <th>negative</th>\n",
              "      <th>Topic</th>\n",
              "      <th>Topic Words</th>\n",
              "      <th>preprocessed</th>\n",
              "      <th>Year</th>\n",
              "      <th>max_emotion</th>\n",
              "      <th>max_sentiment</th>\n",
              "    </tr>\n",
              "  </thead>\n",
              "  <tbody>\n",
              "    <tr>\n",
              "      <th>0</th>\n",
              "      <td>2022-06-08 16:00:06+00:00</td>\n",
              "      <td>1534565944374267909</td>\n",
              "      <td>Rwanda policy is having 'NO impact' on migrant...</td>\n",
              "      <td>DailyMailUK</td>\n",
              "      <td>2.0</td>\n",
              "      <td>very_low</td>\n",
              "      <td>very_low</td>\n",
              "      <td>neutral</td>\n",
              "      <td>neutral</td>\n",
              "      <td>very_low</td>\n",
              "      <td>neutral</td>\n",
              "      <td>neutral</td>\n",
              "      <td>32</td>\n",
              "      <td>[migrant, refugee, migration, immigration, imm...</td>\n",
              "      <td>rwanda policy impact migrant uk border inspect...</td>\n",
              "      <td>2022</td>\n",
              "      <td>sadness</td>\n",
              "      <td>negative</td>\n",
              "    </tr>\n",
              "    <tr>\n",
              "      <th>1</th>\n",
              "      <td>2022-06-08 12:56:00+00:00</td>\n",
              "      <td>1534519612200562689</td>\n",
              "      <td>Asylum seeker claims UK hotel stay is 'worse t...</td>\n",
              "      <td>Daily_Express</td>\n",
              "      <td>8.0</td>\n",
              "      <td>very_low</td>\n",
              "      <td>very_low</td>\n",
              "      <td>very high</td>\n",
              "      <td>very_low</td>\n",
              "      <td>very_low</td>\n",
              "      <td>very_low</td>\n",
              "      <td>very high</td>\n",
              "      <td>1</td>\n",
              "      <td>[asylum, refugee, migrant, immigrant, immigrat...</td>\n",
              "      <td>asylum seeker claim uk hotel stay worse prison</td>\n",
              "      <td>2022</td>\n",
              "      <td>anger</td>\n",
              "      <td>negative</td>\n",
              "    </tr>\n",
              "    <tr>\n",
              "      <th>2</th>\n",
              "      <td>2022-06-08 01:30:08+00:00</td>\n",
              "      <td>1534347009406251008</td>\n",
              "      <td>More than half the 130 asylum-seekers facing f...</td>\n",
              "      <td>MailOnline</td>\n",
              "      <td>8.0</td>\n",
              "      <td>very_low</td>\n",
              "      <td>very_low</td>\n",
              "      <td>neutral</td>\n",
              "      <td>low</td>\n",
              "      <td>very_low</td>\n",
              "      <td>high</td>\n",
              "      <td>low</td>\n",
              "      <td>1</td>\n",
              "      <td>[asylum, refugee, migrant, immigrant, immigrat...</td>\n",
              "      <td>half 130 asylum seeker facing first deportatio...</td>\n",
              "      <td>2022</td>\n",
              "      <td>anger</td>\n",
              "      <td>neutral</td>\n",
              "    </tr>\n",
              "    <tr>\n",
              "      <th>3</th>\n",
              "      <td>2022-06-07 11:37:57+00:00</td>\n",
              "      <td>1534137584338845696</td>\n",
              "      <td>'Rwanda plan is NOT working': 80 migrants land...</td>\n",
              "      <td>DailyMailUK</td>\n",
              "      <td>5.0</td>\n",
              "      <td>very_low</td>\n",
              "      <td>very_low</td>\n",
              "      <td>very_low</td>\n",
              "      <td>very high</td>\n",
              "      <td>very_low</td>\n",
              "      <td>very_low</td>\n",
              "      <td>very high</td>\n",
              "      <td>32</td>\n",
              "      <td>[migrant, refugee, migration, immigration, imm...</td>\n",
              "      <td>rwanda plan working 80 migrant land dover toda...</td>\n",
              "      <td>2022</td>\n",
              "      <td>sadness</td>\n",
              "      <td>negative</td>\n",
              "    </tr>\n",
              "    <tr>\n",
              "      <th>4</th>\n",
              "      <td>2022-06-05 03:29:56+00:00</td>\n",
              "      <td>1533289994584002561</td>\n",
              "      <td>Anger as hundreds of refugee children from Ukr...</td>\n",
              "      <td>MailOnline</td>\n",
              "      <td>16.0</td>\n",
              "      <td>very_low</td>\n",
              "      <td>very_low</td>\n",
              "      <td>very high</td>\n",
              "      <td>very_low</td>\n",
              "      <td>very_low</td>\n",
              "      <td>very_low</td>\n",
              "      <td>very high</td>\n",
              "      <td>4</td>\n",
              "      <td>[refugee, migrant, ukraine, ukrainian, asylum,...</td>\n",
              "      <td>anger hundred refugee child ukraine left stran...</td>\n",
              "      <td>2022</td>\n",
              "      <td>anger</td>\n",
              "      <td>negative</td>\n",
              "    </tr>\n",
              "    <tr>\n",
              "      <th>...</th>\n",
              "      <td>...</td>\n",
              "      <td>...</td>\n",
              "      <td>...</td>\n",
              "      <td>...</td>\n",
              "      <td>...</td>\n",
              "      <td>...</td>\n",
              "      <td>...</td>\n",
              "      <td>...</td>\n",
              "      <td>...</td>\n",
              "      <td>...</td>\n",
              "      <td>...</td>\n",
              "      <td>...</td>\n",
              "      <td>...</td>\n",
              "      <td>...</td>\n",
              "      <td>...</td>\n",
              "      <td>...</td>\n",
              "      <td>...</td>\n",
              "      <td>...</td>\n",
              "    </tr>\n",
              "    <tr>\n",
              "      <th>3996</th>\n",
              "      <td>2017-03-04 17:53:03+00:00</td>\n",
              "      <td>838084889060782083</td>\n",
              "      <td>Mexican congressman MOCKS Donald Trump by posi...</td>\n",
              "      <td>Daily_Express</td>\n",
              "      <td>2.0</td>\n",
              "      <td>very_low</td>\n",
              "      <td>very_low</td>\n",
              "      <td>very high</td>\n",
              "      <td>very_low</td>\n",
              "      <td>very_low</td>\n",
              "      <td>neutral</td>\n",
              "      <td>neutral</td>\n",
              "      <td>26</td>\n",
              "      <td>[border, immigration, migrant, immigrant, refu...</td>\n",
              "      <td>mexican congressman mock donald trump posing p...</td>\n",
              "      <td>2017</td>\n",
              "      <td>anger</td>\n",
              "      <td>neutral</td>\n",
              "    </tr>\n",
              "    <tr>\n",
              "      <th>3997</th>\n",
              "      <td>2017-03-04 13:33:19+00:00</td>\n",
              "      <td>838019526205784064</td>\n",
              "      <td>Mexican congressman MOCKS Donald Trump by posi...</td>\n",
              "      <td>Daily_Express</td>\n",
              "      <td>7.0</td>\n",
              "      <td>very_low</td>\n",
              "      <td>very_low</td>\n",
              "      <td>very high</td>\n",
              "      <td>very_low</td>\n",
              "      <td>very_low</td>\n",
              "      <td>neutral</td>\n",
              "      <td>neutral</td>\n",
              "      <td>26</td>\n",
              "      <td>[border, immigration, migrant, immigrant, refu...</td>\n",
              "      <td>mexican congressman mock donald trump posing p...</td>\n",
              "      <td>2017</td>\n",
              "      <td>anger</td>\n",
              "      <td>neutral</td>\n",
              "    </tr>\n",
              "    <tr>\n",
              "      <th>3998</th>\n",
              "      <td>2017-03-04 05:14:43+00:00</td>\n",
              "      <td>837894051579953152</td>\n",
              "      <td>Trump administration ‘could separate women &amp;am...</td>\n",
              "      <td>Daily_Express</td>\n",
              "      <td>3.0</td>\n",
              "      <td>very_low</td>\n",
              "      <td>very_low</td>\n",
              "      <td>neutral</td>\n",
              "      <td>low</td>\n",
              "      <td>very_low</td>\n",
              "      <td>high</td>\n",
              "      <td>low</td>\n",
              "      <td>26</td>\n",
              "      <td>[border, immigration, migrant, immigrant, refu...</td>\n",
              "      <td>trump administration could separate woman amp ...</td>\n",
              "      <td>2017</td>\n",
              "      <td>anger</td>\n",
              "      <td>neutral</td>\n",
              "    </tr>\n",
              "    <tr>\n",
              "      <th>3999</th>\n",
              "      <td>2017-03-03 09:35:02+00:00</td>\n",
              "      <td>837597173923647488</td>\n",
              "      <td>Desperate Merkel flies to North Africa to tack...</td>\n",
              "      <td>Daily_Express</td>\n",
              "      <td>7.0</td>\n",
              "      <td>very_low</td>\n",
              "      <td>very_low</td>\n",
              "      <td>very_low</td>\n",
              "      <td>very high</td>\n",
              "      <td>very_low</td>\n",
              "      <td>high</td>\n",
              "      <td>low</td>\n",
              "      <td>16</td>\n",
              "      <td>[migrant, refugee, brexit, immigration, immigr...</td>\n",
              "      <td>desperate merkel fly north africa tackle migra...</td>\n",
              "      <td>2017</td>\n",
              "      <td>sadness</td>\n",
              "      <td>neutral</td>\n",
              "    </tr>\n",
              "    <tr>\n",
              "      <th>4000</th>\n",
              "      <td>2017-03-03 03:01:06+00:00</td>\n",
              "      <td>837498035236122624</td>\n",
              "      <td>'Jihadist executioner' asylum seeker arrested ...</td>\n",
              "      <td>MailOnline</td>\n",
              "      <td>28.0</td>\n",
              "      <td>very_low</td>\n",
              "      <td>very_low</td>\n",
              "      <td>very high</td>\n",
              "      <td>very_low</td>\n",
              "      <td>very_low</td>\n",
              "      <td>low</td>\n",
              "      <td>high</td>\n",
              "      <td>1</td>\n",
              "      <td>[asylum, refugee, migrant, immigrant, immigrat...</td>\n",
              "      <td>jihadist executioner asylum seeker arrested ge...</td>\n",
              "      <td>2017</td>\n",
              "      <td>anger</td>\n",
              "      <td>negative</td>\n",
              "    </tr>\n",
              "  </tbody>\n",
              "</table>\n",
              "<p>4001 rows × 18 columns</p>\n",
              "</div>\n",
              "      <button class=\"colab-df-convert\" onclick=\"convertToInteractive('df-817d847e-201b-4cd7-afa4-5496b1455fcb')\"\n",
              "              title=\"Convert this dataframe to an interactive table.\"\n",
              "              style=\"display:none;\">\n",
              "        \n",
              "  <svg xmlns=\"http://www.w3.org/2000/svg\" height=\"24px\"viewBox=\"0 0 24 24\"\n",
              "       width=\"24px\">\n",
              "    <path d=\"M0 0h24v24H0V0z\" fill=\"none\"/>\n",
              "    <path d=\"M18.56 5.44l.94 2.06.94-2.06 2.06-.94-2.06-.94-.94-2.06-.94 2.06-2.06.94zm-11 1L8.5 8.5l.94-2.06 2.06-.94-2.06-.94L8.5 2.5l-.94 2.06-2.06.94zm10 10l.94 2.06.94-2.06 2.06-.94-2.06-.94-.94-2.06-.94 2.06-2.06.94z\"/><path d=\"M17.41 7.96l-1.37-1.37c-.4-.4-.92-.59-1.43-.59-.52 0-1.04.2-1.43.59L10.3 9.45l-7.72 7.72c-.78.78-.78 2.05 0 2.83L4 21.41c.39.39.9.59 1.41.59.51 0 1.02-.2 1.41-.59l7.78-7.78 2.81-2.81c.8-.78.8-2.07 0-2.86zM5.41 20L4 18.59l7.72-7.72 1.47 1.35L5.41 20z\"/>\n",
              "  </svg>\n",
              "      </button>\n",
              "      \n",
              "  <style>\n",
              "    .colab-df-container {\n",
              "      display:flex;\n",
              "      flex-wrap:wrap;\n",
              "      gap: 12px;\n",
              "    }\n",
              "\n",
              "    .colab-df-convert {\n",
              "      background-color: #E8F0FE;\n",
              "      border: none;\n",
              "      border-radius: 50%;\n",
              "      cursor: pointer;\n",
              "      display: none;\n",
              "      fill: #1967D2;\n",
              "      height: 32px;\n",
              "      padding: 0 0 0 0;\n",
              "      width: 32px;\n",
              "    }\n",
              "\n",
              "    .colab-df-convert:hover {\n",
              "      background-color: #E2EBFA;\n",
              "      box-shadow: 0px 1px 2px rgba(60, 64, 67, 0.3), 0px 1px 3px 1px rgba(60, 64, 67, 0.15);\n",
              "      fill: #174EA6;\n",
              "    }\n",
              "\n",
              "    [theme=dark] .colab-df-convert {\n",
              "      background-color: #3B4455;\n",
              "      fill: #D2E3FC;\n",
              "    }\n",
              "\n",
              "    [theme=dark] .colab-df-convert:hover {\n",
              "      background-color: #434B5C;\n",
              "      box-shadow: 0px 1px 3px 1px rgba(0, 0, 0, 0.15);\n",
              "      filter: drop-shadow(0px 1px 2px rgba(0, 0, 0, 0.3));\n",
              "      fill: #FFFFFF;\n",
              "    }\n",
              "  </style>\n",
              "\n",
              "      <script>\n",
              "        const buttonEl =\n",
              "          document.querySelector('#df-817d847e-201b-4cd7-afa4-5496b1455fcb button.colab-df-convert');\n",
              "        buttonEl.style.display =\n",
              "          google.colab.kernel.accessAllowed ? 'block' : 'none';\n",
              "\n",
              "        async function convertToInteractive(key) {\n",
              "          const element = document.querySelector('#df-817d847e-201b-4cd7-afa4-5496b1455fcb');\n",
              "          const dataTable =\n",
              "            await google.colab.kernel.invokeFunction('convertToInteractive',\n",
              "                                                     [key], {});\n",
              "          if (!dataTable) return;\n",
              "\n",
              "          const docLinkHtml = 'Like what you see? Visit the ' +\n",
              "            '<a target=\"_blank\" href=https://colab.research.google.com/notebooks/data_table.ipynb>data table notebook</a>'\n",
              "            + ' to learn more about interactive tables.';\n",
              "          element.innerHTML = '';\n",
              "          dataTable['output_type'] = 'display_data';\n",
              "          await google.colab.output.renderOutput(dataTable, element);\n",
              "          const docLink = document.createElement('div');\n",
              "          docLink.innerHTML = docLinkHtml;\n",
              "          element.appendChild(docLink);\n",
              "        }\n",
              "      </script>\n",
              "    </div>\n",
              "  </div>\n",
              "  "
            ]
          },
          "metadata": {},
          "execution_count": 101
        }
      ]
    },
    {
      "cell_type": "code",
      "source": [
        "reduced_df_roberta_bins = df_roberta_bins.iloc[:4001,]"
      ],
      "metadata": {
        "id": "7CFt9KbTxVuh"
      },
      "execution_count": null,
      "outputs": []
    },
    {
      "cell_type": "code",
      "source": [
        "reduced_df_roberta_bins.shape"
      ],
      "metadata": {
        "colab": {
          "base_uri": "https://localhost:8080/"
        },
        "id": "0HlVy200xr8b",
        "outputId": "c5a45415-688c-42b0-e3d6-c41382785a5f"
      },
      "execution_count": null,
      "outputs": [
        {
          "output_type": "execute_result",
          "data": {
            "text/plain": [
              "(4001, 18)"
            ]
          },
          "metadata": {},
          "execution_count": 103
        }
      ]
    },
    {
      "cell_type": "code",
      "source": [
        "no_text_meta_df_with_preprocessed_final = reduced_df_roberta_bins.drop(columns=['Topic Words', 'Tweet Id', 'Text', \"positive\",\"neutral\", \"negative\"])\n",
        "no_text_meta_df_with_preprocessed_final.shape"
      ],
      "metadata": {
        "colab": {
          "base_uri": "https://localhost:8080/"
        },
        "id": "YsDk9PGxIMjk",
        "outputId": "a905a104-d6ac-4609-c2c1-1efd6b3727e5"
      },
      "execution_count": null,
      "outputs": [
        {
          "output_type": "execute_result",
          "data": {
            "text/plain": [
              "(4001, 12)"
            ]
          },
          "metadata": {},
          "execution_count": 105
        }
      ]
    },
    {
      "cell_type": "code",
      "source": [
        "no_text_meta_df_no_preprocessed = reduced_df_roberta_bins.drop(columns=['Topic Words', 'preprocessed', 'Tweet Id', 'Text'])\n",
        "no_text_meta_df_no_preprocessed\n"
      ],
      "metadata": {
        "colab": {
          "base_uri": "https://localhost:8080/",
          "height": 468
        },
        "id": "7wnCFqJA7Ved",
        "outputId": "c526a9d8-7119-4316-c315-a9609ff7ab98"
      },
      "execution_count": null,
      "outputs": [
        {
          "output_type": "execute_result",
          "data": {
            "text/plain": [
              "                       Datetime       Username  Like Count       joy  \\\n",
              "0     2022-06-08 16:00:06+00:00    DailyMailUK         2.0  very_low   \n",
              "1     2022-06-08 12:56:00+00:00  Daily_Express         8.0  very_low   \n",
              "2     2022-06-08 01:30:08+00:00     MailOnline         8.0  very_low   \n",
              "3     2022-06-07 11:37:57+00:00    DailyMailUK         5.0  very_low   \n",
              "4     2022-06-05 03:29:56+00:00     MailOnline        16.0  very_low   \n",
              "...                         ...            ...         ...       ...   \n",
              "3995  2017-03-04 22:20:03+00:00  Daily_Express        11.0  very_low   \n",
              "3996  2017-03-04 17:53:03+00:00  Daily_Express         2.0  very_low   \n",
              "3997  2017-03-04 13:33:19+00:00  Daily_Express         7.0  very_low   \n",
              "3998  2017-03-04 05:14:43+00:00  Daily_Express         3.0  very_low   \n",
              "3999  2017-03-03 09:35:02+00:00  Daily_Express         7.0  very_low   \n",
              "\n",
              "      optimism      anger    sadness  positive   neutral   negative  Topic  \\\n",
              "0     very_low    neutral    neutral  very_low   neutral    neutral     48   \n",
              "1     very_low  very high   very_low  very_low  very_low  very high     26   \n",
              "2     very_low    neutral        low  very_low      high        low     48   \n",
              "3     very_low   very_low  very high  very_low  very_low  very high     30   \n",
              "4     very_low  very high   very_low  very_low  very_low  very high    103   \n",
              "...        ...        ...        ...       ...       ...        ...    ...   \n",
              "3995  very_low       high        low  very_low  very_low  very high     90   \n",
              "3996  very_low  very high   very_low  very_low   neutral    neutral      2   \n",
              "3997  very_low  very high   very_low  very_low   neutral    neutral      2   \n",
              "3998  very_low    neutral        low  very_low      high        low    128   \n",
              "3999  very_low   very_low  very high  very_low      high        low     65   \n",
              "\n",
              "      Year  \n",
              "0     2022  \n",
              "1     2022  \n",
              "2     2022  \n",
              "3     2022  \n",
              "4     2022  \n",
              "...    ...  \n",
              "3995  2017  \n",
              "3996  2017  \n",
              "3997  2017  \n",
              "3998  2017  \n",
              "3999  2017  \n",
              "\n",
              "[4000 rows x 12 columns]"
            ],
            "text/html": [
              "\n",
              "  <div id=\"df-0fcb227c-8f14-45c3-82e1-761be580c329\">\n",
              "    <div class=\"colab-df-container\">\n",
              "      <div>\n",
              "<style scoped>\n",
              "    .dataframe tbody tr th:only-of-type {\n",
              "        vertical-align: middle;\n",
              "    }\n",
              "\n",
              "    .dataframe tbody tr th {\n",
              "        vertical-align: top;\n",
              "    }\n",
              "\n",
              "    .dataframe thead th {\n",
              "        text-align: right;\n",
              "    }\n",
              "</style>\n",
              "<table border=\"1\" class=\"dataframe\">\n",
              "  <thead>\n",
              "    <tr style=\"text-align: right;\">\n",
              "      <th></th>\n",
              "      <th>Datetime</th>\n",
              "      <th>Username</th>\n",
              "      <th>Like Count</th>\n",
              "      <th>joy</th>\n",
              "      <th>optimism</th>\n",
              "      <th>anger</th>\n",
              "      <th>sadness</th>\n",
              "      <th>positive</th>\n",
              "      <th>neutral</th>\n",
              "      <th>negative</th>\n",
              "      <th>Topic</th>\n",
              "      <th>Year</th>\n",
              "    </tr>\n",
              "  </thead>\n",
              "  <tbody>\n",
              "    <tr>\n",
              "      <th>0</th>\n",
              "      <td>2022-06-08 16:00:06+00:00</td>\n",
              "      <td>DailyMailUK</td>\n",
              "      <td>2.0</td>\n",
              "      <td>very_low</td>\n",
              "      <td>very_low</td>\n",
              "      <td>neutral</td>\n",
              "      <td>neutral</td>\n",
              "      <td>very_low</td>\n",
              "      <td>neutral</td>\n",
              "      <td>neutral</td>\n",
              "      <td>48</td>\n",
              "      <td>2022</td>\n",
              "    </tr>\n",
              "    <tr>\n",
              "      <th>1</th>\n",
              "      <td>2022-06-08 12:56:00+00:00</td>\n",
              "      <td>Daily_Express</td>\n",
              "      <td>8.0</td>\n",
              "      <td>very_low</td>\n",
              "      <td>very_low</td>\n",
              "      <td>very high</td>\n",
              "      <td>very_low</td>\n",
              "      <td>very_low</td>\n",
              "      <td>very_low</td>\n",
              "      <td>very high</td>\n",
              "      <td>26</td>\n",
              "      <td>2022</td>\n",
              "    </tr>\n",
              "    <tr>\n",
              "      <th>2</th>\n",
              "      <td>2022-06-08 01:30:08+00:00</td>\n",
              "      <td>MailOnline</td>\n",
              "      <td>8.0</td>\n",
              "      <td>very_low</td>\n",
              "      <td>very_low</td>\n",
              "      <td>neutral</td>\n",
              "      <td>low</td>\n",
              "      <td>very_low</td>\n",
              "      <td>high</td>\n",
              "      <td>low</td>\n",
              "      <td>48</td>\n",
              "      <td>2022</td>\n",
              "    </tr>\n",
              "    <tr>\n",
              "      <th>3</th>\n",
              "      <td>2022-06-07 11:37:57+00:00</td>\n",
              "      <td>DailyMailUK</td>\n",
              "      <td>5.0</td>\n",
              "      <td>very_low</td>\n",
              "      <td>very_low</td>\n",
              "      <td>very_low</td>\n",
              "      <td>very high</td>\n",
              "      <td>very_low</td>\n",
              "      <td>very_low</td>\n",
              "      <td>very high</td>\n",
              "      <td>30</td>\n",
              "      <td>2022</td>\n",
              "    </tr>\n",
              "    <tr>\n",
              "      <th>4</th>\n",
              "      <td>2022-06-05 03:29:56+00:00</td>\n",
              "      <td>MailOnline</td>\n",
              "      <td>16.0</td>\n",
              "      <td>very_low</td>\n",
              "      <td>very_low</td>\n",
              "      <td>very high</td>\n",
              "      <td>very_low</td>\n",
              "      <td>very_low</td>\n",
              "      <td>very_low</td>\n",
              "      <td>very high</td>\n",
              "      <td>103</td>\n",
              "      <td>2022</td>\n",
              "    </tr>\n",
              "    <tr>\n",
              "      <th>...</th>\n",
              "      <td>...</td>\n",
              "      <td>...</td>\n",
              "      <td>...</td>\n",
              "      <td>...</td>\n",
              "      <td>...</td>\n",
              "      <td>...</td>\n",
              "      <td>...</td>\n",
              "      <td>...</td>\n",
              "      <td>...</td>\n",
              "      <td>...</td>\n",
              "      <td>...</td>\n",
              "      <td>...</td>\n",
              "    </tr>\n",
              "    <tr>\n",
              "      <th>3995</th>\n",
              "      <td>2017-03-04 22:20:03+00:00</td>\n",
              "      <td>Daily_Express</td>\n",
              "      <td>11.0</td>\n",
              "      <td>very_low</td>\n",
              "      <td>very_low</td>\n",
              "      <td>high</td>\n",
              "      <td>low</td>\n",
              "      <td>very_low</td>\n",
              "      <td>very_low</td>\n",
              "      <td>very high</td>\n",
              "      <td>90</td>\n",
              "      <td>2017</td>\n",
              "    </tr>\n",
              "    <tr>\n",
              "      <th>3996</th>\n",
              "      <td>2017-03-04 17:53:03+00:00</td>\n",
              "      <td>Daily_Express</td>\n",
              "      <td>2.0</td>\n",
              "      <td>very_low</td>\n",
              "      <td>very_low</td>\n",
              "      <td>very high</td>\n",
              "      <td>very_low</td>\n",
              "      <td>very_low</td>\n",
              "      <td>neutral</td>\n",
              "      <td>neutral</td>\n",
              "      <td>2</td>\n",
              "      <td>2017</td>\n",
              "    </tr>\n",
              "    <tr>\n",
              "      <th>3997</th>\n",
              "      <td>2017-03-04 13:33:19+00:00</td>\n",
              "      <td>Daily_Express</td>\n",
              "      <td>7.0</td>\n",
              "      <td>very_low</td>\n",
              "      <td>very_low</td>\n",
              "      <td>very high</td>\n",
              "      <td>very_low</td>\n",
              "      <td>very_low</td>\n",
              "      <td>neutral</td>\n",
              "      <td>neutral</td>\n",
              "      <td>2</td>\n",
              "      <td>2017</td>\n",
              "    </tr>\n",
              "    <tr>\n",
              "      <th>3998</th>\n",
              "      <td>2017-03-04 05:14:43+00:00</td>\n",
              "      <td>Daily_Express</td>\n",
              "      <td>3.0</td>\n",
              "      <td>very_low</td>\n",
              "      <td>very_low</td>\n",
              "      <td>neutral</td>\n",
              "      <td>low</td>\n",
              "      <td>very_low</td>\n",
              "      <td>high</td>\n",
              "      <td>low</td>\n",
              "      <td>128</td>\n",
              "      <td>2017</td>\n",
              "    </tr>\n",
              "    <tr>\n",
              "      <th>3999</th>\n",
              "      <td>2017-03-03 09:35:02+00:00</td>\n",
              "      <td>Daily_Express</td>\n",
              "      <td>7.0</td>\n",
              "      <td>very_low</td>\n",
              "      <td>very_low</td>\n",
              "      <td>very_low</td>\n",
              "      <td>very high</td>\n",
              "      <td>very_low</td>\n",
              "      <td>high</td>\n",
              "      <td>low</td>\n",
              "      <td>65</td>\n",
              "      <td>2017</td>\n",
              "    </tr>\n",
              "  </tbody>\n",
              "</table>\n",
              "<p>4000 rows × 12 columns</p>\n",
              "</div>\n",
              "      <button class=\"colab-df-convert\" onclick=\"convertToInteractive('df-0fcb227c-8f14-45c3-82e1-761be580c329')\"\n",
              "              title=\"Convert this dataframe to an interactive table.\"\n",
              "              style=\"display:none;\">\n",
              "        \n",
              "  <svg xmlns=\"http://www.w3.org/2000/svg\" height=\"24px\"viewBox=\"0 0 24 24\"\n",
              "       width=\"24px\">\n",
              "    <path d=\"M0 0h24v24H0V0z\" fill=\"none\"/>\n",
              "    <path d=\"M18.56 5.44l.94 2.06.94-2.06 2.06-.94-2.06-.94-.94-2.06-.94 2.06-2.06.94zm-11 1L8.5 8.5l.94-2.06 2.06-.94-2.06-.94L8.5 2.5l-.94 2.06-2.06.94zm10 10l.94 2.06.94-2.06 2.06-.94-2.06-.94-.94-2.06-.94 2.06-2.06.94z\"/><path d=\"M17.41 7.96l-1.37-1.37c-.4-.4-.92-.59-1.43-.59-.52 0-1.04.2-1.43.59L10.3 9.45l-7.72 7.72c-.78.78-.78 2.05 0 2.83L4 21.41c.39.39.9.59 1.41.59.51 0 1.02-.2 1.41-.59l7.78-7.78 2.81-2.81c.8-.78.8-2.07 0-2.86zM5.41 20L4 18.59l7.72-7.72 1.47 1.35L5.41 20z\"/>\n",
              "  </svg>\n",
              "      </button>\n",
              "      \n",
              "  <style>\n",
              "    .colab-df-container {\n",
              "      display:flex;\n",
              "      flex-wrap:wrap;\n",
              "      gap: 12px;\n",
              "    }\n",
              "\n",
              "    .colab-df-convert {\n",
              "      background-color: #E8F0FE;\n",
              "      border: none;\n",
              "      border-radius: 50%;\n",
              "      cursor: pointer;\n",
              "      display: none;\n",
              "      fill: #1967D2;\n",
              "      height: 32px;\n",
              "      padding: 0 0 0 0;\n",
              "      width: 32px;\n",
              "    }\n",
              "\n",
              "    .colab-df-convert:hover {\n",
              "      background-color: #E2EBFA;\n",
              "      box-shadow: 0px 1px 2px rgba(60, 64, 67, 0.3), 0px 1px 3px 1px rgba(60, 64, 67, 0.15);\n",
              "      fill: #174EA6;\n",
              "    }\n",
              "\n",
              "    [theme=dark] .colab-df-convert {\n",
              "      background-color: #3B4455;\n",
              "      fill: #D2E3FC;\n",
              "    }\n",
              "\n",
              "    [theme=dark] .colab-df-convert:hover {\n",
              "      background-color: #434B5C;\n",
              "      box-shadow: 0px 1px 3px 1px rgba(0, 0, 0, 0.15);\n",
              "      filter: drop-shadow(0px 1px 2px rgba(0, 0, 0, 0.3));\n",
              "      fill: #FFFFFF;\n",
              "    }\n",
              "  </style>\n",
              "\n",
              "      <script>\n",
              "        const buttonEl =\n",
              "          document.querySelector('#df-0fcb227c-8f14-45c3-82e1-761be580c329 button.colab-df-convert');\n",
              "        buttonEl.style.display =\n",
              "          google.colab.kernel.accessAllowed ? 'block' : 'none';\n",
              "\n",
              "        async function convertToInteractive(key) {\n",
              "          const element = document.querySelector('#df-0fcb227c-8f14-45c3-82e1-761be580c329');\n",
              "          const dataTable =\n",
              "            await google.colab.kernel.invokeFunction('convertToInteractive',\n",
              "                                                     [key], {});\n",
              "          if (!dataTable) return;\n",
              "\n",
              "          const docLinkHtml = 'Like what you see? Visit the ' +\n",
              "            '<a target=\"_blank\" href=https://colab.research.google.com/notebooks/data_table.ipynb>data table notebook</a>'\n",
              "            + ' to learn more about interactive tables.';\n",
              "          element.innerHTML = '';\n",
              "          dataTable['output_type'] = 'display_data';\n",
              "          await google.colab.output.renderOutput(dataTable, element);\n",
              "          const docLink = document.createElement('div');\n",
              "          docLink.innerHTML = docLinkHtml;\n",
              "          element.appendChild(docLink);\n",
              "        }\n",
              "      </script>\n",
              "    </div>\n",
              "  </div>\n",
              "  "
            ]
          },
          "metadata": {},
          "execution_count": 64
        }
      ]
    },
    {
      "cell_type": "code",
      "source": [
        "no_text_meta_df_with_preprocessed_final.to_csv('final4k_meta_uni_final.tsv', sep='\\t', encoding='utf-8', index=False)"
      ],
      "metadata": {
        "id": "XqFTK-ecNlzU"
      },
      "execution_count": null,
      "outputs": []
    },
    {
      "cell_type": "code",
      "source": [
        ""
      ],
      "metadata": {
        "id": "rHkM5DG4XTR1"
      },
      "execution_count": null,
      "outputs": []
    },
    {
      "cell_type": "code",
      "source": [
        "!pwd"
      ],
      "metadata": {
        "colab": {
          "base_uri": "https://localhost:8080/"
        },
        "id": "3plT4T1vN8mJ",
        "outputId": "af955385-2324-4558-dc64-e7707ed4b392"
      },
      "execution_count": null,
      "outputs": [
        {
          "output_type": "stream",
          "name": "stdout",
          "text": [
            "/content\n"
          ]
        }
      ]
    },
    {
      "cell_type": "code",
      "source": [
        "#Final tsvs for embedding model on tensorflow\n",
        "no_text_meta_df_no_preprocessed.to_csv('final4k_meta_no_preprocessed.tsv', sep='\\t', encoding='utf-8', index=False)\n",
        "no_text_meta_df_with_preprocessed.to_csv('final4k_meta_with_preprocessed.tsv', sep='\\t', encoding='utf-8', index=False)"
      ],
      "metadata": {
        "id": "kmbURO9UIG8p"
      },
      "execution_count": null,
      "outputs": []
    },
    {
      "cell_type": "code",
      "source": [
        "!pwd"
      ],
      "metadata": {
        "colab": {
          "base_uri": "https://localhost:8080/"
        },
        "id": "euzHsWZMJIP1",
        "outputId": "fec94edd-e109-486d-f6dd-2e4c8ca12b3f"
      },
      "execution_count": null,
      "outputs": [
        {
          "output_type": "stream",
          "name": "stdout",
          "text": [
            "/content\n"
          ]
        }
      ]
    },
    {
      "cell_type": "code",
      "source": [
        "no_text_meta_df.to_csv('meta_no_text.tsv', sep='\\t', encoding='utf-8', index=False)"
      ],
      "metadata": {
        "id": "ukmNfI4c8Xqy"
      },
      "execution_count": null,
      "outputs": []
    },
    {
      "cell_type": "code",
      "source": [
        "df_roberta_bins.to_csv('robertabins_embedding.tsv', sep='\\t', encoding='utf-8', index=False)"
      ],
      "metadata": {
        "id": "IPWqw6Zor5nv"
      },
      "execution_count": null,
      "outputs": []
    },
    {
      "cell_type": "code",
      "source": [
        "reduced_df_roberta_bins.to_csv('4kMetaEmbedding.tsv', sep='\\t', encoding='utf-8', index=False)"
      ],
      "metadata": {
        "id": "3-jrpqhUydfK"
      },
      "execution_count": null,
      "outputs": []
    },
    {
      "cell_type": "code",
      "source": [
        "#df_roberta.to_csv('roberta_embedding.tsv', sep='\\t', encoding='utf-8', index=False)"
      ],
      "metadata": {
        "id": "KKW2EO1HGZ-m"
      },
      "execution_count": null,
      "outputs": []
    },
    {
      "cell_type": "code",
      "source": [
        "!pwd"
      ],
      "metadata": {
        "colab": {
          "base_uri": "https://localhost:8080/"
        },
        "id": "lwbt8J6yHCru",
        "outputId": "ad89f810-9134-4c10-bc55-a9b340e901c3"
      },
      "execution_count": null,
      "outputs": [
        {
          "output_type": "stream",
          "name": "stdout",
          "text": [
            "/content\n"
          ]
        }
      ]
    },
    {
      "cell_type": "code",
      "source": [
        "# doc - https://top2vec.readthedocs.io/en/latest/api.html"
      ],
      "metadata": {
        "id": "zUFg77ORE6Lv"
      },
      "execution_count": null,
      "outputs": []
    },
    {
      "cell_type": "code",
      "source": [
        "# viz - https://projector.tensorflow.org/"
      ],
      "metadata": {
        "id": "7CILYmgHI0si"
      },
      "execution_count": null,
      "outputs": []
    },
    {
      "cell_type": "code",
      "source": [
        "# tensorflow embedding - https://www.tensorflow.org/tensorboard/tensorboard_projector_plugin"
      ],
      "metadata": {
        "id": "Ha_b8pphI7_p"
      },
      "execution_count": null,
      "outputs": []
    },
    {
      "cell_type": "code",
      "source": [
        ""
      ],
      "metadata": {
        "id": "QMcgSSlLJEjW"
      },
      "execution_count": null,
      "outputs": []
    }
  ],
  "metadata": {
    "colab": {
      "collapsed_sections": [],
      "machine_shape": "hm",
      "name": "Ewan_embedding_tensorflow_top2vec.ipynb",
      "provenance": []
    },
    "gpuClass": "standard",
    "kernelspec": {
      "display_name": "Python 3",
      "name": "python3"
    },
    "language_info": {
      "name": "python"
    },
    "accelerator": "GPU"
  },
  "nbformat": 4,
  "nbformat_minor": 0
}